{
  "nbformat": 4,
  "nbformat_minor": 0,
  "metadata": {
    "colab": {
      "name": "Anything_in_here.ipynb",
      "provenance": [],
      "collapsed_sections": [],
      "authorship_tag": "ABX9TyOcX1DAXRSIGFzq/y28l/13",
      "include_colab_link": true
    },
    "kernelspec": {
      "name": "python3",
      "display_name": "Python 3"
    },
    "language_info": {
      "name": "python"
    }
  },
  "cells": [
    {
      "cell_type": "markdown",
      "metadata": {
        "id": "view-in-github",
        "colab_type": "text"
      },
      "source": [
        "<a href=\"https://colab.research.google.com/github/DgBack/Data_Visualization-/blob/main/Anything_in_here.ipynb\" target=\"_parent\"><img src=\"https://colab.research.google.com/assets/colab-badge.svg\" alt=\"Open In Colab\"/></a>"
      ]
    },
    {
      "cell_type": "code",
      "execution_count": null,
      "metadata": {
        "id": "eYiGZkGW3m4A"
      },
      "outputs": [],
      "source": [
        "# import the pandas \n",
        "# using for descibe or show the data \n",
        "import numpy as np \n",
        "import pandas as pd "
      ]
    },
    {
      "cell_type": "code",
      "source": [
        "card_dataset = pd.read_csv('/content/creditcard.csv')"
      ],
      "metadata": {
        "id": "dbwBOKScBhdQ"
      },
      "execution_count": null,
      "outputs": []
    },
    {
      "cell_type": "code",
      "source": [
        "# Print firts 5 rows of the dataset \n",
        "card_dataset.head()"
      ],
      "metadata": {
        "colab": {
          "base_uri": "https://localhost:8080/",
          "height": 299
        },
        "id": "-LCU-QfQCxjo",
        "outputId": "b27f9835-e4a9-4ffb-f83d-faecc0e6e19b"
      },
      "execution_count": null,
      "outputs": [
        {
          "output_type": "execute_result",
          "data": {
            "text/plain": [
              "   Time        V1        V2        V3        V4        V5        V6        V7  \\\n",
              "0     0 -1.359807 -0.072781  2.536347  1.378155 -0.338321  0.462388  0.239599   \n",
              "1     0  1.191857  0.266151  0.166480  0.448154  0.060018 -0.082361 -0.078803   \n",
              "2     1 -1.358354 -1.340163  1.773209  0.379780 -0.503198  1.800499  0.791461   \n",
              "3     1 -0.966272 -0.185226  1.792993 -0.863291 -0.010309  1.247203  0.237609   \n",
              "4     2 -1.158233  0.877737  1.548718  0.403034 -0.407193  0.095921  0.592941   \n",
              "\n",
              "         V8        V9  ...       V21       V22       V23       V24       V25  \\\n",
              "0  0.098698  0.363787  ... -0.018307  0.277838 -0.110474  0.066928  0.128539   \n",
              "1  0.085102 -0.255425  ... -0.225775 -0.638672  0.101288 -0.339846  0.167170   \n",
              "2  0.247676 -1.514654  ...  0.247998  0.771679  0.909412 -0.689281 -0.327642   \n",
              "3  0.377436 -1.387024  ... -0.108300  0.005274 -0.190321 -1.175575  0.647376   \n",
              "4 -0.270533  0.817739  ... -0.009431  0.798278 -0.137458  0.141267 -0.206010   \n",
              "\n",
              "        V26       V27       V28  Amount  Class  \n",
              "0 -0.189115  0.133558 -0.021053  149.62    0.0  \n",
              "1  0.125895 -0.008983  0.014724    2.69    0.0  \n",
              "2 -0.139097 -0.055353 -0.059752  378.66    0.0  \n",
              "3 -0.221929  0.062723  0.061458  123.50    0.0  \n",
              "4  0.502292  0.219422  0.215153   69.99    0.0  \n",
              "\n",
              "[5 rows x 31 columns]"
            ],
            "text/html": [
              "\n",
              "  <div id=\"df-efe9f7f2-d735-4c31-8b85-8f413e788f02\">\n",
              "    <div class=\"colab-df-container\">\n",
              "      <div>\n",
              "<style scoped>\n",
              "    .dataframe tbody tr th:only-of-type {\n",
              "        vertical-align: middle;\n",
              "    }\n",
              "\n",
              "    .dataframe tbody tr th {\n",
              "        vertical-align: top;\n",
              "    }\n",
              "\n",
              "    .dataframe thead th {\n",
              "        text-align: right;\n",
              "    }\n",
              "</style>\n",
              "<table border=\"1\" class=\"dataframe\">\n",
              "  <thead>\n",
              "    <tr style=\"text-align: right;\">\n",
              "      <th></th>\n",
              "      <th>Time</th>\n",
              "      <th>V1</th>\n",
              "      <th>V2</th>\n",
              "      <th>V3</th>\n",
              "      <th>V4</th>\n",
              "      <th>V5</th>\n",
              "      <th>V6</th>\n",
              "      <th>V7</th>\n",
              "      <th>V8</th>\n",
              "      <th>V9</th>\n",
              "      <th>...</th>\n",
              "      <th>V21</th>\n",
              "      <th>V22</th>\n",
              "      <th>V23</th>\n",
              "      <th>V24</th>\n",
              "      <th>V25</th>\n",
              "      <th>V26</th>\n",
              "      <th>V27</th>\n",
              "      <th>V28</th>\n",
              "      <th>Amount</th>\n",
              "      <th>Class</th>\n",
              "    </tr>\n",
              "  </thead>\n",
              "  <tbody>\n",
              "    <tr>\n",
              "      <th>0</th>\n",
              "      <td>0</td>\n",
              "      <td>-1.359807</td>\n",
              "      <td>-0.072781</td>\n",
              "      <td>2.536347</td>\n",
              "      <td>1.378155</td>\n",
              "      <td>-0.338321</td>\n",
              "      <td>0.462388</td>\n",
              "      <td>0.239599</td>\n",
              "      <td>0.098698</td>\n",
              "      <td>0.363787</td>\n",
              "      <td>...</td>\n",
              "      <td>-0.018307</td>\n",
              "      <td>0.277838</td>\n",
              "      <td>-0.110474</td>\n",
              "      <td>0.066928</td>\n",
              "      <td>0.128539</td>\n",
              "      <td>-0.189115</td>\n",
              "      <td>0.133558</td>\n",
              "      <td>-0.021053</td>\n",
              "      <td>149.62</td>\n",
              "      <td>0.0</td>\n",
              "    </tr>\n",
              "    <tr>\n",
              "      <th>1</th>\n",
              "      <td>0</td>\n",
              "      <td>1.191857</td>\n",
              "      <td>0.266151</td>\n",
              "      <td>0.166480</td>\n",
              "      <td>0.448154</td>\n",
              "      <td>0.060018</td>\n",
              "      <td>-0.082361</td>\n",
              "      <td>-0.078803</td>\n",
              "      <td>0.085102</td>\n",
              "      <td>-0.255425</td>\n",
              "      <td>...</td>\n",
              "      <td>-0.225775</td>\n",
              "      <td>-0.638672</td>\n",
              "      <td>0.101288</td>\n",
              "      <td>-0.339846</td>\n",
              "      <td>0.167170</td>\n",
              "      <td>0.125895</td>\n",
              "      <td>-0.008983</td>\n",
              "      <td>0.014724</td>\n",
              "      <td>2.69</td>\n",
              "      <td>0.0</td>\n",
              "    </tr>\n",
              "    <tr>\n",
              "      <th>2</th>\n",
              "      <td>1</td>\n",
              "      <td>-1.358354</td>\n",
              "      <td>-1.340163</td>\n",
              "      <td>1.773209</td>\n",
              "      <td>0.379780</td>\n",
              "      <td>-0.503198</td>\n",
              "      <td>1.800499</td>\n",
              "      <td>0.791461</td>\n",
              "      <td>0.247676</td>\n",
              "      <td>-1.514654</td>\n",
              "      <td>...</td>\n",
              "      <td>0.247998</td>\n",
              "      <td>0.771679</td>\n",
              "      <td>0.909412</td>\n",
              "      <td>-0.689281</td>\n",
              "      <td>-0.327642</td>\n",
              "      <td>-0.139097</td>\n",
              "      <td>-0.055353</td>\n",
              "      <td>-0.059752</td>\n",
              "      <td>378.66</td>\n",
              "      <td>0.0</td>\n",
              "    </tr>\n",
              "    <tr>\n",
              "      <th>3</th>\n",
              "      <td>1</td>\n",
              "      <td>-0.966272</td>\n",
              "      <td>-0.185226</td>\n",
              "      <td>1.792993</td>\n",
              "      <td>-0.863291</td>\n",
              "      <td>-0.010309</td>\n",
              "      <td>1.247203</td>\n",
              "      <td>0.237609</td>\n",
              "      <td>0.377436</td>\n",
              "      <td>-1.387024</td>\n",
              "      <td>...</td>\n",
              "      <td>-0.108300</td>\n",
              "      <td>0.005274</td>\n",
              "      <td>-0.190321</td>\n",
              "      <td>-1.175575</td>\n",
              "      <td>0.647376</td>\n",
              "      <td>-0.221929</td>\n",
              "      <td>0.062723</td>\n",
              "      <td>0.061458</td>\n",
              "      <td>123.50</td>\n",
              "      <td>0.0</td>\n",
              "    </tr>\n",
              "    <tr>\n",
              "      <th>4</th>\n",
              "      <td>2</td>\n",
              "      <td>-1.158233</td>\n",
              "      <td>0.877737</td>\n",
              "      <td>1.548718</td>\n",
              "      <td>0.403034</td>\n",
              "      <td>-0.407193</td>\n",
              "      <td>0.095921</td>\n",
              "      <td>0.592941</td>\n",
              "      <td>-0.270533</td>\n",
              "      <td>0.817739</td>\n",
              "      <td>...</td>\n",
              "      <td>-0.009431</td>\n",
              "      <td>0.798278</td>\n",
              "      <td>-0.137458</td>\n",
              "      <td>0.141267</td>\n",
              "      <td>-0.206010</td>\n",
              "      <td>0.502292</td>\n",
              "      <td>0.219422</td>\n",
              "      <td>0.215153</td>\n",
              "      <td>69.99</td>\n",
              "      <td>0.0</td>\n",
              "    </tr>\n",
              "  </tbody>\n",
              "</table>\n",
              "<p>5 rows × 31 columns</p>\n",
              "</div>\n",
              "      <button class=\"colab-df-convert\" onclick=\"convertToInteractive('df-efe9f7f2-d735-4c31-8b85-8f413e788f02')\"\n",
              "              title=\"Convert this dataframe to an interactive table.\"\n",
              "              style=\"display:none;\">\n",
              "        \n",
              "  <svg xmlns=\"http://www.w3.org/2000/svg\" height=\"24px\"viewBox=\"0 0 24 24\"\n",
              "       width=\"24px\">\n",
              "    <path d=\"M0 0h24v24H0V0z\" fill=\"none\"/>\n",
              "    <path d=\"M18.56 5.44l.94 2.06.94-2.06 2.06-.94-2.06-.94-.94-2.06-.94 2.06-2.06.94zm-11 1L8.5 8.5l.94-2.06 2.06-.94-2.06-.94L8.5 2.5l-.94 2.06-2.06.94zm10 10l.94 2.06.94-2.06 2.06-.94-2.06-.94-.94-2.06-.94 2.06-2.06.94z\"/><path d=\"M17.41 7.96l-1.37-1.37c-.4-.4-.92-.59-1.43-.59-.52 0-1.04.2-1.43.59L10.3 9.45l-7.72 7.72c-.78.78-.78 2.05 0 2.83L4 21.41c.39.39.9.59 1.41.59.51 0 1.02-.2 1.41-.59l7.78-7.78 2.81-2.81c.8-.78.8-2.07 0-2.86zM5.41 20L4 18.59l7.72-7.72 1.47 1.35L5.41 20z\"/>\n",
              "  </svg>\n",
              "      </button>\n",
              "      \n",
              "  <style>\n",
              "    .colab-df-container {\n",
              "      display:flex;\n",
              "      flex-wrap:wrap;\n",
              "      gap: 12px;\n",
              "    }\n",
              "\n",
              "    .colab-df-convert {\n",
              "      background-color: #E8F0FE;\n",
              "      border: none;\n",
              "      border-radius: 50%;\n",
              "      cursor: pointer;\n",
              "      display: none;\n",
              "      fill: #1967D2;\n",
              "      height: 32px;\n",
              "      padding: 0 0 0 0;\n",
              "      width: 32px;\n",
              "    }\n",
              "\n",
              "    .colab-df-convert:hover {\n",
              "      background-color: #E2EBFA;\n",
              "      box-shadow: 0px 1px 2px rgba(60, 64, 67, 0.3), 0px 1px 3px 1px rgba(60, 64, 67, 0.15);\n",
              "      fill: #174EA6;\n",
              "    }\n",
              "\n",
              "    [theme=dark] .colab-df-convert {\n",
              "      background-color: #3B4455;\n",
              "      fill: #D2E3FC;\n",
              "    }\n",
              "\n",
              "    [theme=dark] .colab-df-convert:hover {\n",
              "      background-color: #434B5C;\n",
              "      box-shadow: 0px 1px 3px 1px rgba(0, 0, 0, 0.15);\n",
              "      filter: drop-shadow(0px 1px 2px rgba(0, 0, 0, 0.3));\n",
              "      fill: #FFFFFF;\n",
              "    }\n",
              "  </style>\n",
              "\n",
              "      <script>\n",
              "        const buttonEl =\n",
              "          document.querySelector('#df-efe9f7f2-d735-4c31-8b85-8f413e788f02 button.colab-df-convert');\n",
              "        buttonEl.style.display =\n",
              "          google.colab.kernel.accessAllowed ? 'block' : 'none';\n",
              "\n",
              "        async function convertToInteractive(key) {\n",
              "          const element = document.querySelector('#df-efe9f7f2-d735-4c31-8b85-8f413e788f02');\n",
              "          const dataTable =\n",
              "            await google.colab.kernel.invokeFunction('convertToInteractive',\n",
              "                                                     [key], {});\n",
              "          if (!dataTable) return;\n",
              "\n",
              "          const docLinkHtml = 'Like what you see? Visit the ' +\n",
              "            '<a target=\"_blank\" href=https://colab.research.google.com/notebooks/data_table.ipynb>data table notebook</a>'\n",
              "            + ' to learn more about interactive tables.';\n",
              "          element.innerHTML = '';\n",
              "          dataTable['output_type'] = 'display_data';\n",
              "          await google.colab.output.renderOutput(dataTable, element);\n",
              "          const docLink = document.createElement('div');\n",
              "          docLink.innerHTML = docLinkHtml;\n",
              "          element.appendChild(docLink);\n",
              "        }\n",
              "      </script>\n",
              "    </div>\n",
              "  </div>\n",
              "  "
            ]
          },
          "metadata": {},
          "execution_count": 9
        }
      ]
    },
    {
      "cell_type": "code",
      "source": [
        "# Print some rows of the dataset \n",
        "card_dataset.head(10)"
      ],
      "metadata": {
        "colab": {
          "base_uri": "https://localhost:8080/",
          "height": 456
        },
        "id": "8_f6lTdnDDoj",
        "outputId": "9e513a51-c43c-419a-ce54-33d24d2cdd77"
      },
      "execution_count": null,
      "outputs": [
        {
          "output_type": "execute_result",
          "data": {
            "text/plain": [
              "   Time        V1        V2        V3        V4        V5        V6        V7  \\\n",
              "0     0 -1.359807 -0.072781  2.536347  1.378155 -0.338321  0.462388  0.239599   \n",
              "1     0  1.191857  0.266151  0.166480  0.448154  0.060018 -0.082361 -0.078803   \n",
              "2     1 -1.358354 -1.340163  1.773209  0.379780 -0.503198  1.800499  0.791461   \n",
              "3     1 -0.966272 -0.185226  1.792993 -0.863291 -0.010309  1.247203  0.237609   \n",
              "4     2 -1.158233  0.877737  1.548718  0.403034 -0.407193  0.095921  0.592941   \n",
              "5     2 -0.425966  0.960523  1.141109 -0.168252  0.420987 -0.029728  0.476201   \n",
              "6     4  1.229658  0.141004  0.045371  1.202613  0.191881  0.272708 -0.005159   \n",
              "7     7 -0.644269  1.417964  1.074380 -0.492199  0.948934  0.428118  1.120631   \n",
              "8     7 -0.894286  0.286157 -0.113192 -0.271526  2.669599  3.721818  0.370145   \n",
              "9     9 -0.338262  1.119593  1.044367 -0.222187  0.499361 -0.246761  0.651583   \n",
              "\n",
              "         V8        V9  ...       V21       V22       V23       V24       V25  \\\n",
              "0  0.098698  0.363787  ... -0.018307  0.277838 -0.110474  0.066928  0.128539   \n",
              "1  0.085102 -0.255425  ... -0.225775 -0.638672  0.101288 -0.339846  0.167170   \n",
              "2  0.247676 -1.514654  ...  0.247998  0.771679  0.909412 -0.689281 -0.327642   \n",
              "3  0.377436 -1.387024  ... -0.108300  0.005274 -0.190321 -1.175575  0.647376   \n",
              "4 -0.270533  0.817739  ... -0.009431  0.798278 -0.137458  0.141267 -0.206010   \n",
              "5  0.260314 -0.568671  ... -0.208254 -0.559825 -0.026398 -0.371427 -0.232794   \n",
              "6  0.081213  0.464960  ... -0.167716 -0.270710 -0.154104 -0.780055  0.750137   \n",
              "7 -3.807864  0.615375  ...  1.943465 -1.015455  0.057504 -0.649709 -0.415267   \n",
              "8  0.851084 -0.392048  ... -0.073425 -0.268092 -0.204233  1.011592  0.373205   \n",
              "9  0.069539 -0.736727  ... -0.246914 -0.633753 -0.120794 -0.385050 -0.069733   \n",
              "\n",
              "        V26       V27       V28  Amount  Class  \n",
              "0 -0.189115  0.133558 -0.021053  149.62    0.0  \n",
              "1  0.125895 -0.008983  0.014724    2.69    0.0  \n",
              "2 -0.139097 -0.055353 -0.059752  378.66    0.0  \n",
              "3 -0.221929  0.062723  0.061458  123.50    0.0  \n",
              "4  0.502292  0.219422  0.215153   69.99    0.0  \n",
              "5  0.105915  0.253844  0.081080    3.67    0.0  \n",
              "6 -0.257237  0.034507  0.005168    4.99    0.0  \n",
              "7 -0.051634 -1.206921 -1.085339   40.80    0.0  \n",
              "8 -0.384157  0.011747  0.142404   93.20    0.0  \n",
              "9  0.094199  0.246219  0.083076    3.68    0.0  \n",
              "\n",
              "[10 rows x 31 columns]"
            ],
            "text/html": [
              "\n",
              "  <div id=\"df-63fe0c57-a1ed-471e-965e-317b829205e9\">\n",
              "    <div class=\"colab-df-container\">\n",
              "      <div>\n",
              "<style scoped>\n",
              "    .dataframe tbody tr th:only-of-type {\n",
              "        vertical-align: middle;\n",
              "    }\n",
              "\n",
              "    .dataframe tbody tr th {\n",
              "        vertical-align: top;\n",
              "    }\n",
              "\n",
              "    .dataframe thead th {\n",
              "        text-align: right;\n",
              "    }\n",
              "</style>\n",
              "<table border=\"1\" class=\"dataframe\">\n",
              "  <thead>\n",
              "    <tr style=\"text-align: right;\">\n",
              "      <th></th>\n",
              "      <th>Time</th>\n",
              "      <th>V1</th>\n",
              "      <th>V2</th>\n",
              "      <th>V3</th>\n",
              "      <th>V4</th>\n",
              "      <th>V5</th>\n",
              "      <th>V6</th>\n",
              "      <th>V7</th>\n",
              "      <th>V8</th>\n",
              "      <th>V9</th>\n",
              "      <th>...</th>\n",
              "      <th>V21</th>\n",
              "      <th>V22</th>\n",
              "      <th>V23</th>\n",
              "      <th>V24</th>\n",
              "      <th>V25</th>\n",
              "      <th>V26</th>\n",
              "      <th>V27</th>\n",
              "      <th>V28</th>\n",
              "      <th>Amount</th>\n",
              "      <th>Class</th>\n",
              "    </tr>\n",
              "  </thead>\n",
              "  <tbody>\n",
              "    <tr>\n",
              "      <th>0</th>\n",
              "      <td>0</td>\n",
              "      <td>-1.359807</td>\n",
              "      <td>-0.072781</td>\n",
              "      <td>2.536347</td>\n",
              "      <td>1.378155</td>\n",
              "      <td>-0.338321</td>\n",
              "      <td>0.462388</td>\n",
              "      <td>0.239599</td>\n",
              "      <td>0.098698</td>\n",
              "      <td>0.363787</td>\n",
              "      <td>...</td>\n",
              "      <td>-0.018307</td>\n",
              "      <td>0.277838</td>\n",
              "      <td>-0.110474</td>\n",
              "      <td>0.066928</td>\n",
              "      <td>0.128539</td>\n",
              "      <td>-0.189115</td>\n",
              "      <td>0.133558</td>\n",
              "      <td>-0.021053</td>\n",
              "      <td>149.62</td>\n",
              "      <td>0.0</td>\n",
              "    </tr>\n",
              "    <tr>\n",
              "      <th>1</th>\n",
              "      <td>0</td>\n",
              "      <td>1.191857</td>\n",
              "      <td>0.266151</td>\n",
              "      <td>0.166480</td>\n",
              "      <td>0.448154</td>\n",
              "      <td>0.060018</td>\n",
              "      <td>-0.082361</td>\n",
              "      <td>-0.078803</td>\n",
              "      <td>0.085102</td>\n",
              "      <td>-0.255425</td>\n",
              "      <td>...</td>\n",
              "      <td>-0.225775</td>\n",
              "      <td>-0.638672</td>\n",
              "      <td>0.101288</td>\n",
              "      <td>-0.339846</td>\n",
              "      <td>0.167170</td>\n",
              "      <td>0.125895</td>\n",
              "      <td>-0.008983</td>\n",
              "      <td>0.014724</td>\n",
              "      <td>2.69</td>\n",
              "      <td>0.0</td>\n",
              "    </tr>\n",
              "    <tr>\n",
              "      <th>2</th>\n",
              "      <td>1</td>\n",
              "      <td>-1.358354</td>\n",
              "      <td>-1.340163</td>\n",
              "      <td>1.773209</td>\n",
              "      <td>0.379780</td>\n",
              "      <td>-0.503198</td>\n",
              "      <td>1.800499</td>\n",
              "      <td>0.791461</td>\n",
              "      <td>0.247676</td>\n",
              "      <td>-1.514654</td>\n",
              "      <td>...</td>\n",
              "      <td>0.247998</td>\n",
              "      <td>0.771679</td>\n",
              "      <td>0.909412</td>\n",
              "      <td>-0.689281</td>\n",
              "      <td>-0.327642</td>\n",
              "      <td>-0.139097</td>\n",
              "      <td>-0.055353</td>\n",
              "      <td>-0.059752</td>\n",
              "      <td>378.66</td>\n",
              "      <td>0.0</td>\n",
              "    </tr>\n",
              "    <tr>\n",
              "      <th>3</th>\n",
              "      <td>1</td>\n",
              "      <td>-0.966272</td>\n",
              "      <td>-0.185226</td>\n",
              "      <td>1.792993</td>\n",
              "      <td>-0.863291</td>\n",
              "      <td>-0.010309</td>\n",
              "      <td>1.247203</td>\n",
              "      <td>0.237609</td>\n",
              "      <td>0.377436</td>\n",
              "      <td>-1.387024</td>\n",
              "      <td>...</td>\n",
              "      <td>-0.108300</td>\n",
              "      <td>0.005274</td>\n",
              "      <td>-0.190321</td>\n",
              "      <td>-1.175575</td>\n",
              "      <td>0.647376</td>\n",
              "      <td>-0.221929</td>\n",
              "      <td>0.062723</td>\n",
              "      <td>0.061458</td>\n",
              "      <td>123.50</td>\n",
              "      <td>0.0</td>\n",
              "    </tr>\n",
              "    <tr>\n",
              "      <th>4</th>\n",
              "      <td>2</td>\n",
              "      <td>-1.158233</td>\n",
              "      <td>0.877737</td>\n",
              "      <td>1.548718</td>\n",
              "      <td>0.403034</td>\n",
              "      <td>-0.407193</td>\n",
              "      <td>0.095921</td>\n",
              "      <td>0.592941</td>\n",
              "      <td>-0.270533</td>\n",
              "      <td>0.817739</td>\n",
              "      <td>...</td>\n",
              "      <td>-0.009431</td>\n",
              "      <td>0.798278</td>\n",
              "      <td>-0.137458</td>\n",
              "      <td>0.141267</td>\n",
              "      <td>-0.206010</td>\n",
              "      <td>0.502292</td>\n",
              "      <td>0.219422</td>\n",
              "      <td>0.215153</td>\n",
              "      <td>69.99</td>\n",
              "      <td>0.0</td>\n",
              "    </tr>\n",
              "    <tr>\n",
              "      <th>5</th>\n",
              "      <td>2</td>\n",
              "      <td>-0.425966</td>\n",
              "      <td>0.960523</td>\n",
              "      <td>1.141109</td>\n",
              "      <td>-0.168252</td>\n",
              "      <td>0.420987</td>\n",
              "      <td>-0.029728</td>\n",
              "      <td>0.476201</td>\n",
              "      <td>0.260314</td>\n",
              "      <td>-0.568671</td>\n",
              "      <td>...</td>\n",
              "      <td>-0.208254</td>\n",
              "      <td>-0.559825</td>\n",
              "      <td>-0.026398</td>\n",
              "      <td>-0.371427</td>\n",
              "      <td>-0.232794</td>\n",
              "      <td>0.105915</td>\n",
              "      <td>0.253844</td>\n",
              "      <td>0.081080</td>\n",
              "      <td>3.67</td>\n",
              "      <td>0.0</td>\n",
              "    </tr>\n",
              "    <tr>\n",
              "      <th>6</th>\n",
              "      <td>4</td>\n",
              "      <td>1.229658</td>\n",
              "      <td>0.141004</td>\n",
              "      <td>0.045371</td>\n",
              "      <td>1.202613</td>\n",
              "      <td>0.191881</td>\n",
              "      <td>0.272708</td>\n",
              "      <td>-0.005159</td>\n",
              "      <td>0.081213</td>\n",
              "      <td>0.464960</td>\n",
              "      <td>...</td>\n",
              "      <td>-0.167716</td>\n",
              "      <td>-0.270710</td>\n",
              "      <td>-0.154104</td>\n",
              "      <td>-0.780055</td>\n",
              "      <td>0.750137</td>\n",
              "      <td>-0.257237</td>\n",
              "      <td>0.034507</td>\n",
              "      <td>0.005168</td>\n",
              "      <td>4.99</td>\n",
              "      <td>0.0</td>\n",
              "    </tr>\n",
              "    <tr>\n",
              "      <th>7</th>\n",
              "      <td>7</td>\n",
              "      <td>-0.644269</td>\n",
              "      <td>1.417964</td>\n",
              "      <td>1.074380</td>\n",
              "      <td>-0.492199</td>\n",
              "      <td>0.948934</td>\n",
              "      <td>0.428118</td>\n",
              "      <td>1.120631</td>\n",
              "      <td>-3.807864</td>\n",
              "      <td>0.615375</td>\n",
              "      <td>...</td>\n",
              "      <td>1.943465</td>\n",
              "      <td>-1.015455</td>\n",
              "      <td>0.057504</td>\n",
              "      <td>-0.649709</td>\n",
              "      <td>-0.415267</td>\n",
              "      <td>-0.051634</td>\n",
              "      <td>-1.206921</td>\n",
              "      <td>-1.085339</td>\n",
              "      <td>40.80</td>\n",
              "      <td>0.0</td>\n",
              "    </tr>\n",
              "    <tr>\n",
              "      <th>8</th>\n",
              "      <td>7</td>\n",
              "      <td>-0.894286</td>\n",
              "      <td>0.286157</td>\n",
              "      <td>-0.113192</td>\n",
              "      <td>-0.271526</td>\n",
              "      <td>2.669599</td>\n",
              "      <td>3.721818</td>\n",
              "      <td>0.370145</td>\n",
              "      <td>0.851084</td>\n",
              "      <td>-0.392048</td>\n",
              "      <td>...</td>\n",
              "      <td>-0.073425</td>\n",
              "      <td>-0.268092</td>\n",
              "      <td>-0.204233</td>\n",
              "      <td>1.011592</td>\n",
              "      <td>0.373205</td>\n",
              "      <td>-0.384157</td>\n",
              "      <td>0.011747</td>\n",
              "      <td>0.142404</td>\n",
              "      <td>93.20</td>\n",
              "      <td>0.0</td>\n",
              "    </tr>\n",
              "    <tr>\n",
              "      <th>9</th>\n",
              "      <td>9</td>\n",
              "      <td>-0.338262</td>\n",
              "      <td>1.119593</td>\n",
              "      <td>1.044367</td>\n",
              "      <td>-0.222187</td>\n",
              "      <td>0.499361</td>\n",
              "      <td>-0.246761</td>\n",
              "      <td>0.651583</td>\n",
              "      <td>0.069539</td>\n",
              "      <td>-0.736727</td>\n",
              "      <td>...</td>\n",
              "      <td>-0.246914</td>\n",
              "      <td>-0.633753</td>\n",
              "      <td>-0.120794</td>\n",
              "      <td>-0.385050</td>\n",
              "      <td>-0.069733</td>\n",
              "      <td>0.094199</td>\n",
              "      <td>0.246219</td>\n",
              "      <td>0.083076</td>\n",
              "      <td>3.68</td>\n",
              "      <td>0.0</td>\n",
              "    </tr>\n",
              "  </tbody>\n",
              "</table>\n",
              "<p>10 rows × 31 columns</p>\n",
              "</div>\n",
              "      <button class=\"colab-df-convert\" onclick=\"convertToInteractive('df-63fe0c57-a1ed-471e-965e-317b829205e9')\"\n",
              "              title=\"Convert this dataframe to an interactive table.\"\n",
              "              style=\"display:none;\">\n",
              "        \n",
              "  <svg xmlns=\"http://www.w3.org/2000/svg\" height=\"24px\"viewBox=\"0 0 24 24\"\n",
              "       width=\"24px\">\n",
              "    <path d=\"M0 0h24v24H0V0z\" fill=\"none\"/>\n",
              "    <path d=\"M18.56 5.44l.94 2.06.94-2.06 2.06-.94-2.06-.94-.94-2.06-.94 2.06-2.06.94zm-11 1L8.5 8.5l.94-2.06 2.06-.94-2.06-.94L8.5 2.5l-.94 2.06-2.06.94zm10 10l.94 2.06.94-2.06 2.06-.94-2.06-.94-.94-2.06-.94 2.06-2.06.94z\"/><path d=\"M17.41 7.96l-1.37-1.37c-.4-.4-.92-.59-1.43-.59-.52 0-1.04.2-1.43.59L10.3 9.45l-7.72 7.72c-.78.78-.78 2.05 0 2.83L4 21.41c.39.39.9.59 1.41.59.51 0 1.02-.2 1.41-.59l7.78-7.78 2.81-2.81c.8-.78.8-2.07 0-2.86zM5.41 20L4 18.59l7.72-7.72 1.47 1.35L5.41 20z\"/>\n",
              "  </svg>\n",
              "      </button>\n",
              "      \n",
              "  <style>\n",
              "    .colab-df-container {\n",
              "      display:flex;\n",
              "      flex-wrap:wrap;\n",
              "      gap: 12px;\n",
              "    }\n",
              "\n",
              "    .colab-df-convert {\n",
              "      background-color: #E8F0FE;\n",
              "      border: none;\n",
              "      border-radius: 50%;\n",
              "      cursor: pointer;\n",
              "      display: none;\n",
              "      fill: #1967D2;\n",
              "      height: 32px;\n",
              "      padding: 0 0 0 0;\n",
              "      width: 32px;\n",
              "    }\n",
              "\n",
              "    .colab-df-convert:hover {\n",
              "      background-color: #E2EBFA;\n",
              "      box-shadow: 0px 1px 2px rgba(60, 64, 67, 0.3), 0px 1px 3px 1px rgba(60, 64, 67, 0.15);\n",
              "      fill: #174EA6;\n",
              "    }\n",
              "\n",
              "    [theme=dark] .colab-df-convert {\n",
              "      background-color: #3B4455;\n",
              "      fill: #D2E3FC;\n",
              "    }\n",
              "\n",
              "    [theme=dark] .colab-df-convert:hover {\n",
              "      background-color: #434B5C;\n",
              "      box-shadow: 0px 1px 3px 1px rgba(0, 0, 0, 0.15);\n",
              "      filter: drop-shadow(0px 1px 2px rgba(0, 0, 0, 0.3));\n",
              "      fill: #FFFFFF;\n",
              "    }\n",
              "  </style>\n",
              "\n",
              "      <script>\n",
              "        const buttonEl =\n",
              "          document.querySelector('#df-63fe0c57-a1ed-471e-965e-317b829205e9 button.colab-df-convert');\n",
              "        buttonEl.style.display =\n",
              "          google.colab.kernel.accessAllowed ? 'block' : 'none';\n",
              "\n",
              "        async function convertToInteractive(key) {\n",
              "          const element = document.querySelector('#df-63fe0c57-a1ed-471e-965e-317b829205e9');\n",
              "          const dataTable =\n",
              "            await google.colab.kernel.invokeFunction('convertToInteractive',\n",
              "                                                     [key], {});\n",
              "          if (!dataTable) return;\n",
              "\n",
              "          const docLinkHtml = 'Like what you see? Visit the ' +\n",
              "            '<a target=\"_blank\" href=https://colab.research.google.com/notebooks/data_table.ipynb>data table notebook</a>'\n",
              "            + ' to learn more about interactive tables.';\n",
              "          element.innerHTML = '';\n",
              "          dataTable['output_type'] = 'display_data';\n",
              "          await google.colab.output.renderOutput(dataTable, element);\n",
              "          const docLink = document.createElement('div');\n",
              "          docLink.innerHTML = docLinkHtml;\n",
              "          element.appendChild(docLink);\n",
              "        }\n",
              "      </script>\n",
              "    </div>\n",
              "  </div>\n",
              "  "
            ]
          },
          "metadata": {},
          "execution_count": 10
        }
      ]
    },
    {
      "cell_type": "code",
      "source": [
        "# Print last 5 rows of the dataset \n",
        "card_dataset.tail()"
      ],
      "metadata": {
        "colab": {
          "base_uri": "https://localhost:8080/",
          "height": 299
        },
        "id": "cYGoOXldDWq0",
        "outputId": "08c5b028-3b06-4b34-fa48-a835640676b3"
      },
      "execution_count": null,
      "outputs": [
        {
          "output_type": "execute_result",
          "data": {
            "text/plain": [
              "        Time        V1        V2        V3        V4        V5        V6  \\\n",
              "35737  38240  1.232390  0.122010  0.157352  0.261906  0.158523  0.273022   \n",
              "35738  38240  1.114040  0.571203  0.427035  2.442135 -0.020967 -0.501774   \n",
              "35739  38241  1.057020  0.007895  0.239256  1.236048  0.032239  0.350868   \n",
              "35740  38241 -1.546226  0.693338  1.002815 -1.528992  0.294692 -0.464031   \n",
              "35741  38241 -0.231062  0.243033  1.071749 -0.324598 -0.000000       NaN   \n",
              "\n",
              "             V7        V8        V9  ...       V21       V22       V23  \\\n",
              "35737 -0.143169  0.138664 -0.146805  ... -0.233618 -0.677894  0.052511   \n",
              "35738  0.320237 -0.082876 -1.182685  ...  0.028826 -0.032705 -0.056634   \n",
              "35739  0.023279  0.137328  0.037981  ... -0.043316 -0.022866 -0.155991   \n",
              "35740  0.264880  0.307358  0.022915  ... -0.176713 -0.164637  0.197999   \n",
              "35741       NaN       NaN       NaN  ...       NaN       NaN       NaN   \n",
              "\n",
              "            V24       V25       V26       V27       V28  Amount  Class  \n",
              "35737 -0.816369  0.221553  0.158446 -0.018118 -0.003168    1.79    0.0  \n",
              "35738  0.535225  0.540930 -0.025773 -0.035775  0.011219   24.99    0.0  \n",
              "35739 -0.283221  0.662538 -0.314989  0.027467  0.010613   53.96    0.0  \n",
              "35740 -0.463070 -0.118578  0.739989  0.043625 -0.140629    0.76    0.0  \n",
              "35741       NaN       NaN       NaN       NaN       NaN     NaN    NaN  \n",
              "\n",
              "[5 rows x 31 columns]"
            ],
            "text/html": [
              "\n",
              "  <div id=\"df-23cc0753-a3a6-4589-bcb7-ddb5d8ea8f38\">\n",
              "    <div class=\"colab-df-container\">\n",
              "      <div>\n",
              "<style scoped>\n",
              "    .dataframe tbody tr th:only-of-type {\n",
              "        vertical-align: middle;\n",
              "    }\n",
              "\n",
              "    .dataframe tbody tr th {\n",
              "        vertical-align: top;\n",
              "    }\n",
              "\n",
              "    .dataframe thead th {\n",
              "        text-align: right;\n",
              "    }\n",
              "</style>\n",
              "<table border=\"1\" class=\"dataframe\">\n",
              "  <thead>\n",
              "    <tr style=\"text-align: right;\">\n",
              "      <th></th>\n",
              "      <th>Time</th>\n",
              "      <th>V1</th>\n",
              "      <th>V2</th>\n",
              "      <th>V3</th>\n",
              "      <th>V4</th>\n",
              "      <th>V5</th>\n",
              "      <th>V6</th>\n",
              "      <th>V7</th>\n",
              "      <th>V8</th>\n",
              "      <th>V9</th>\n",
              "      <th>...</th>\n",
              "      <th>V21</th>\n",
              "      <th>V22</th>\n",
              "      <th>V23</th>\n",
              "      <th>V24</th>\n",
              "      <th>V25</th>\n",
              "      <th>V26</th>\n",
              "      <th>V27</th>\n",
              "      <th>V28</th>\n",
              "      <th>Amount</th>\n",
              "      <th>Class</th>\n",
              "    </tr>\n",
              "  </thead>\n",
              "  <tbody>\n",
              "    <tr>\n",
              "      <th>35737</th>\n",
              "      <td>38240</td>\n",
              "      <td>1.232390</td>\n",
              "      <td>0.122010</td>\n",
              "      <td>0.157352</td>\n",
              "      <td>0.261906</td>\n",
              "      <td>0.158523</td>\n",
              "      <td>0.273022</td>\n",
              "      <td>-0.143169</td>\n",
              "      <td>0.138664</td>\n",
              "      <td>-0.146805</td>\n",
              "      <td>...</td>\n",
              "      <td>-0.233618</td>\n",
              "      <td>-0.677894</td>\n",
              "      <td>0.052511</td>\n",
              "      <td>-0.816369</td>\n",
              "      <td>0.221553</td>\n",
              "      <td>0.158446</td>\n",
              "      <td>-0.018118</td>\n",
              "      <td>-0.003168</td>\n",
              "      <td>1.79</td>\n",
              "      <td>0.0</td>\n",
              "    </tr>\n",
              "    <tr>\n",
              "      <th>35738</th>\n",
              "      <td>38240</td>\n",
              "      <td>1.114040</td>\n",
              "      <td>0.571203</td>\n",
              "      <td>0.427035</td>\n",
              "      <td>2.442135</td>\n",
              "      <td>-0.020967</td>\n",
              "      <td>-0.501774</td>\n",
              "      <td>0.320237</td>\n",
              "      <td>-0.082876</td>\n",
              "      <td>-1.182685</td>\n",
              "      <td>...</td>\n",
              "      <td>0.028826</td>\n",
              "      <td>-0.032705</td>\n",
              "      <td>-0.056634</td>\n",
              "      <td>0.535225</td>\n",
              "      <td>0.540930</td>\n",
              "      <td>-0.025773</td>\n",
              "      <td>-0.035775</td>\n",
              "      <td>0.011219</td>\n",
              "      <td>24.99</td>\n",
              "      <td>0.0</td>\n",
              "    </tr>\n",
              "    <tr>\n",
              "      <th>35739</th>\n",
              "      <td>38241</td>\n",
              "      <td>1.057020</td>\n",
              "      <td>0.007895</td>\n",
              "      <td>0.239256</td>\n",
              "      <td>1.236048</td>\n",
              "      <td>0.032239</td>\n",
              "      <td>0.350868</td>\n",
              "      <td>0.023279</td>\n",
              "      <td>0.137328</td>\n",
              "      <td>0.037981</td>\n",
              "      <td>...</td>\n",
              "      <td>-0.043316</td>\n",
              "      <td>-0.022866</td>\n",
              "      <td>-0.155991</td>\n",
              "      <td>-0.283221</td>\n",
              "      <td>0.662538</td>\n",
              "      <td>-0.314989</td>\n",
              "      <td>0.027467</td>\n",
              "      <td>0.010613</td>\n",
              "      <td>53.96</td>\n",
              "      <td>0.0</td>\n",
              "    </tr>\n",
              "    <tr>\n",
              "      <th>35740</th>\n",
              "      <td>38241</td>\n",
              "      <td>-1.546226</td>\n",
              "      <td>0.693338</td>\n",
              "      <td>1.002815</td>\n",
              "      <td>-1.528992</td>\n",
              "      <td>0.294692</td>\n",
              "      <td>-0.464031</td>\n",
              "      <td>0.264880</td>\n",
              "      <td>0.307358</td>\n",
              "      <td>0.022915</td>\n",
              "      <td>...</td>\n",
              "      <td>-0.176713</td>\n",
              "      <td>-0.164637</td>\n",
              "      <td>0.197999</td>\n",
              "      <td>-0.463070</td>\n",
              "      <td>-0.118578</td>\n",
              "      <td>0.739989</td>\n",
              "      <td>0.043625</td>\n",
              "      <td>-0.140629</td>\n",
              "      <td>0.76</td>\n",
              "      <td>0.0</td>\n",
              "    </tr>\n",
              "    <tr>\n",
              "      <th>35741</th>\n",
              "      <td>38241</td>\n",
              "      <td>-0.231062</td>\n",
              "      <td>0.243033</td>\n",
              "      <td>1.071749</td>\n",
              "      <td>-0.324598</td>\n",
              "      <td>-0.000000</td>\n",
              "      <td>NaN</td>\n",
              "      <td>NaN</td>\n",
              "      <td>NaN</td>\n",
              "      <td>NaN</td>\n",
              "      <td>...</td>\n",
              "      <td>NaN</td>\n",
              "      <td>NaN</td>\n",
              "      <td>NaN</td>\n",
              "      <td>NaN</td>\n",
              "      <td>NaN</td>\n",
              "      <td>NaN</td>\n",
              "      <td>NaN</td>\n",
              "      <td>NaN</td>\n",
              "      <td>NaN</td>\n",
              "      <td>NaN</td>\n",
              "    </tr>\n",
              "  </tbody>\n",
              "</table>\n",
              "<p>5 rows × 31 columns</p>\n",
              "</div>\n",
              "      <button class=\"colab-df-convert\" onclick=\"convertToInteractive('df-23cc0753-a3a6-4589-bcb7-ddb5d8ea8f38')\"\n",
              "              title=\"Convert this dataframe to an interactive table.\"\n",
              "              style=\"display:none;\">\n",
              "        \n",
              "  <svg xmlns=\"http://www.w3.org/2000/svg\" height=\"24px\"viewBox=\"0 0 24 24\"\n",
              "       width=\"24px\">\n",
              "    <path d=\"M0 0h24v24H0V0z\" fill=\"none\"/>\n",
              "    <path d=\"M18.56 5.44l.94 2.06.94-2.06 2.06-.94-2.06-.94-.94-2.06-.94 2.06-2.06.94zm-11 1L8.5 8.5l.94-2.06 2.06-.94-2.06-.94L8.5 2.5l-.94 2.06-2.06.94zm10 10l.94 2.06.94-2.06 2.06-.94-2.06-.94-.94-2.06-.94 2.06-2.06.94z\"/><path d=\"M17.41 7.96l-1.37-1.37c-.4-.4-.92-.59-1.43-.59-.52 0-1.04.2-1.43.59L10.3 9.45l-7.72 7.72c-.78.78-.78 2.05 0 2.83L4 21.41c.39.39.9.59 1.41.59.51 0 1.02-.2 1.41-.59l7.78-7.78 2.81-2.81c.8-.78.8-2.07 0-2.86zM5.41 20L4 18.59l7.72-7.72 1.47 1.35L5.41 20z\"/>\n",
              "  </svg>\n",
              "      </button>\n",
              "      \n",
              "  <style>\n",
              "    .colab-df-container {\n",
              "      display:flex;\n",
              "      flex-wrap:wrap;\n",
              "      gap: 12px;\n",
              "    }\n",
              "\n",
              "    .colab-df-convert {\n",
              "      background-color: #E8F0FE;\n",
              "      border: none;\n",
              "      border-radius: 50%;\n",
              "      cursor: pointer;\n",
              "      display: none;\n",
              "      fill: #1967D2;\n",
              "      height: 32px;\n",
              "      padding: 0 0 0 0;\n",
              "      width: 32px;\n",
              "    }\n",
              "\n",
              "    .colab-df-convert:hover {\n",
              "      background-color: #E2EBFA;\n",
              "      box-shadow: 0px 1px 2px rgba(60, 64, 67, 0.3), 0px 1px 3px 1px rgba(60, 64, 67, 0.15);\n",
              "      fill: #174EA6;\n",
              "    }\n",
              "\n",
              "    [theme=dark] .colab-df-convert {\n",
              "      background-color: #3B4455;\n",
              "      fill: #D2E3FC;\n",
              "    }\n",
              "\n",
              "    [theme=dark] .colab-df-convert:hover {\n",
              "      background-color: #434B5C;\n",
              "      box-shadow: 0px 1px 3px 1px rgba(0, 0, 0, 0.15);\n",
              "      filter: drop-shadow(0px 1px 2px rgba(0, 0, 0, 0.3));\n",
              "      fill: #FFFFFF;\n",
              "    }\n",
              "  </style>\n",
              "\n",
              "      <script>\n",
              "        const buttonEl =\n",
              "          document.querySelector('#df-23cc0753-a3a6-4589-bcb7-ddb5d8ea8f38 button.colab-df-convert');\n",
              "        buttonEl.style.display =\n",
              "          google.colab.kernel.accessAllowed ? 'block' : 'none';\n",
              "\n",
              "        async function convertToInteractive(key) {\n",
              "          const element = document.querySelector('#df-23cc0753-a3a6-4589-bcb7-ddb5d8ea8f38');\n",
              "          const dataTable =\n",
              "            await google.colab.kernel.invokeFunction('convertToInteractive',\n",
              "                                                     [key], {});\n",
              "          if (!dataTable) return;\n",
              "\n",
              "          const docLinkHtml = 'Like what you see? Visit the ' +\n",
              "            '<a target=\"_blank\" href=https://colab.research.google.com/notebooks/data_table.ipynb>data table notebook</a>'\n",
              "            + ' to learn more about interactive tables.';\n",
              "          element.innerHTML = '';\n",
              "          dataTable['output_type'] = 'display_data';\n",
              "          await google.colab.output.renderOutput(dataTable, element);\n",
              "          const docLink = document.createElement('div');\n",
              "          docLink.innerHTML = docLinkHtml;\n",
              "          element.appendChild(docLink);\n",
              "        }\n",
              "      </script>\n",
              "    </div>\n",
              "  </div>\n",
              "  "
            ]
          },
          "metadata": {},
          "execution_count": 11
        }
      ]
    },
    {
      "cell_type": "code",
      "source": [
        "card_dataset.tail(10)"
      ],
      "metadata": {
        "colab": {
          "base_uri": "https://localhost:8080/",
          "height": 456
        },
        "id": "wsPRNzMGDkb2",
        "outputId": "a7fa5675-fb56-4c42-bb33-11ae4d39188e"
      },
      "execution_count": null,
      "outputs": [
        {
          "output_type": "execute_result",
          "data": {
            "text/plain": [
              "        Time        V1        V2        V3        V4        V5        V6  \\\n",
              "35732  38239 -0.791518  1.092122  1.789884  0.199275  0.082442 -0.398250   \n",
              "35733  38239 -0.330097  0.877780  1.231596  0.593732  0.617339  0.194092   \n",
              "35734  38239 -0.187594  1.427489  1.491539  1.923659  0.718105 -0.857860   \n",
              "35735  38239 -1.753297 -0.115577  1.333006  0.544401 -0.481036 -0.527319   \n",
              "35736  38239 -3.120568 -0.121316  1.307875  1.582101  2.362245 -0.693955   \n",
              "35737  38240  1.232390  0.122010  0.157352  0.261906  0.158523  0.273022   \n",
              "35738  38240  1.114040  0.571203  0.427035  2.442135 -0.020967 -0.501774   \n",
              "35739  38241  1.057020  0.007895  0.239256  1.236048  0.032239  0.350868   \n",
              "35740  38241 -1.546226  0.693338  1.002815 -1.528992  0.294692 -0.464031   \n",
              "35741  38241 -0.231062  0.243033  1.071749 -0.324598 -0.000000       NaN   \n",
              "\n",
              "             V7        V8        V9  ...       V21       V22       V23  \\\n",
              "35732  0.775295 -0.083215 -0.406305  ...  0.126019  0.331977 -0.021955   \n",
              "35733  0.784179 -0.001831 -0.546725  ...  0.118475  0.631693 -0.184784   \n",
              "35734  1.476034 -0.499729 -1.642575  ...  0.039497  0.272315 -0.262911   \n",
              "35735  1.523210 -0.411381 -0.601413  ... -0.342050 -0.377250  0.629557   \n",
              "35736  0.194612 -1.138886 -1.058936  ...  0.615703 -0.139908 -0.691756   \n",
              "35737 -0.143169  0.138664 -0.146805  ... -0.233618 -0.677894  0.052511   \n",
              "35738  0.320237 -0.082876 -1.182685  ...  0.028826 -0.032705 -0.056634   \n",
              "35739  0.023279  0.137328  0.037981  ... -0.043316 -0.022866 -0.155991   \n",
              "35740  0.264880  0.307358  0.022915  ... -0.176713 -0.164637  0.197999   \n",
              "35741       NaN       NaN       NaN  ...       NaN       NaN       NaN   \n",
              "\n",
              "            V24       V25       V26       V27       V28  Amount  Class  \n",
              "35732  0.388637 -0.462894 -0.709772 -0.072474  0.155838   29.00    0.0  \n",
              "35733 -0.310784 -0.293302 -0.311661  0.257195 -0.013810   17.00    0.0  \n",
              "35734  0.744452  0.256625 -0.024232 -0.170774 -0.201541    4.59    0.0  \n",
              "35735  0.406341  0.307186  0.432137  0.121737 -0.139373  232.35    0.0  \n",
              "35736  0.046087  0.558709 -0.070668 -0.870421  0.624730    2.28    0.0  \n",
              "35737 -0.816369  0.221553  0.158446 -0.018118 -0.003168    1.79    0.0  \n",
              "35738  0.535225  0.540930 -0.025773 -0.035775  0.011219   24.99    0.0  \n",
              "35739 -0.283221  0.662538 -0.314989  0.027467  0.010613   53.96    0.0  \n",
              "35740 -0.463070 -0.118578  0.739989  0.043625 -0.140629    0.76    0.0  \n",
              "35741       NaN       NaN       NaN       NaN       NaN     NaN    NaN  \n",
              "\n",
              "[10 rows x 31 columns]"
            ],
            "text/html": [
              "\n",
              "  <div id=\"df-ccdb4c41-5703-44b2-ac6b-aff6b0a236da\">\n",
              "    <div class=\"colab-df-container\">\n",
              "      <div>\n",
              "<style scoped>\n",
              "    .dataframe tbody tr th:only-of-type {\n",
              "        vertical-align: middle;\n",
              "    }\n",
              "\n",
              "    .dataframe tbody tr th {\n",
              "        vertical-align: top;\n",
              "    }\n",
              "\n",
              "    .dataframe thead th {\n",
              "        text-align: right;\n",
              "    }\n",
              "</style>\n",
              "<table border=\"1\" class=\"dataframe\">\n",
              "  <thead>\n",
              "    <tr style=\"text-align: right;\">\n",
              "      <th></th>\n",
              "      <th>Time</th>\n",
              "      <th>V1</th>\n",
              "      <th>V2</th>\n",
              "      <th>V3</th>\n",
              "      <th>V4</th>\n",
              "      <th>V5</th>\n",
              "      <th>V6</th>\n",
              "      <th>V7</th>\n",
              "      <th>V8</th>\n",
              "      <th>V9</th>\n",
              "      <th>...</th>\n",
              "      <th>V21</th>\n",
              "      <th>V22</th>\n",
              "      <th>V23</th>\n",
              "      <th>V24</th>\n",
              "      <th>V25</th>\n",
              "      <th>V26</th>\n",
              "      <th>V27</th>\n",
              "      <th>V28</th>\n",
              "      <th>Amount</th>\n",
              "      <th>Class</th>\n",
              "    </tr>\n",
              "  </thead>\n",
              "  <tbody>\n",
              "    <tr>\n",
              "      <th>35732</th>\n",
              "      <td>38239</td>\n",
              "      <td>-0.791518</td>\n",
              "      <td>1.092122</td>\n",
              "      <td>1.789884</td>\n",
              "      <td>0.199275</td>\n",
              "      <td>0.082442</td>\n",
              "      <td>-0.398250</td>\n",
              "      <td>0.775295</td>\n",
              "      <td>-0.083215</td>\n",
              "      <td>-0.406305</td>\n",
              "      <td>...</td>\n",
              "      <td>0.126019</td>\n",
              "      <td>0.331977</td>\n",
              "      <td>-0.021955</td>\n",
              "      <td>0.388637</td>\n",
              "      <td>-0.462894</td>\n",
              "      <td>-0.709772</td>\n",
              "      <td>-0.072474</td>\n",
              "      <td>0.155838</td>\n",
              "      <td>29.00</td>\n",
              "      <td>0.0</td>\n",
              "    </tr>\n",
              "    <tr>\n",
              "      <th>35733</th>\n",
              "      <td>38239</td>\n",
              "      <td>-0.330097</td>\n",
              "      <td>0.877780</td>\n",
              "      <td>1.231596</td>\n",
              "      <td>0.593732</td>\n",
              "      <td>0.617339</td>\n",
              "      <td>0.194092</td>\n",
              "      <td>0.784179</td>\n",
              "      <td>-0.001831</td>\n",
              "      <td>-0.546725</td>\n",
              "      <td>...</td>\n",
              "      <td>0.118475</td>\n",
              "      <td>0.631693</td>\n",
              "      <td>-0.184784</td>\n",
              "      <td>-0.310784</td>\n",
              "      <td>-0.293302</td>\n",
              "      <td>-0.311661</td>\n",
              "      <td>0.257195</td>\n",
              "      <td>-0.013810</td>\n",
              "      <td>17.00</td>\n",
              "      <td>0.0</td>\n",
              "    </tr>\n",
              "    <tr>\n",
              "      <th>35734</th>\n",
              "      <td>38239</td>\n",
              "      <td>-0.187594</td>\n",
              "      <td>1.427489</td>\n",
              "      <td>1.491539</td>\n",
              "      <td>1.923659</td>\n",
              "      <td>0.718105</td>\n",
              "      <td>-0.857860</td>\n",
              "      <td>1.476034</td>\n",
              "      <td>-0.499729</td>\n",
              "      <td>-1.642575</td>\n",
              "      <td>...</td>\n",
              "      <td>0.039497</td>\n",
              "      <td>0.272315</td>\n",
              "      <td>-0.262911</td>\n",
              "      <td>0.744452</td>\n",
              "      <td>0.256625</td>\n",
              "      <td>-0.024232</td>\n",
              "      <td>-0.170774</td>\n",
              "      <td>-0.201541</td>\n",
              "      <td>4.59</td>\n",
              "      <td>0.0</td>\n",
              "    </tr>\n",
              "    <tr>\n",
              "      <th>35735</th>\n",
              "      <td>38239</td>\n",
              "      <td>-1.753297</td>\n",
              "      <td>-0.115577</td>\n",
              "      <td>1.333006</td>\n",
              "      <td>0.544401</td>\n",
              "      <td>-0.481036</td>\n",
              "      <td>-0.527319</td>\n",
              "      <td>1.523210</td>\n",
              "      <td>-0.411381</td>\n",
              "      <td>-0.601413</td>\n",
              "      <td>...</td>\n",
              "      <td>-0.342050</td>\n",
              "      <td>-0.377250</td>\n",
              "      <td>0.629557</td>\n",
              "      <td>0.406341</td>\n",
              "      <td>0.307186</td>\n",
              "      <td>0.432137</td>\n",
              "      <td>0.121737</td>\n",
              "      <td>-0.139373</td>\n",
              "      <td>232.35</td>\n",
              "      <td>0.0</td>\n",
              "    </tr>\n",
              "    <tr>\n",
              "      <th>35736</th>\n",
              "      <td>38239</td>\n",
              "      <td>-3.120568</td>\n",
              "      <td>-0.121316</td>\n",
              "      <td>1.307875</td>\n",
              "      <td>1.582101</td>\n",
              "      <td>2.362245</td>\n",
              "      <td>-0.693955</td>\n",
              "      <td>0.194612</td>\n",
              "      <td>-1.138886</td>\n",
              "      <td>-1.058936</td>\n",
              "      <td>...</td>\n",
              "      <td>0.615703</td>\n",
              "      <td>-0.139908</td>\n",
              "      <td>-0.691756</td>\n",
              "      <td>0.046087</td>\n",
              "      <td>0.558709</td>\n",
              "      <td>-0.070668</td>\n",
              "      <td>-0.870421</td>\n",
              "      <td>0.624730</td>\n",
              "      <td>2.28</td>\n",
              "      <td>0.0</td>\n",
              "    </tr>\n",
              "    <tr>\n",
              "      <th>35737</th>\n",
              "      <td>38240</td>\n",
              "      <td>1.232390</td>\n",
              "      <td>0.122010</td>\n",
              "      <td>0.157352</td>\n",
              "      <td>0.261906</td>\n",
              "      <td>0.158523</td>\n",
              "      <td>0.273022</td>\n",
              "      <td>-0.143169</td>\n",
              "      <td>0.138664</td>\n",
              "      <td>-0.146805</td>\n",
              "      <td>...</td>\n",
              "      <td>-0.233618</td>\n",
              "      <td>-0.677894</td>\n",
              "      <td>0.052511</td>\n",
              "      <td>-0.816369</td>\n",
              "      <td>0.221553</td>\n",
              "      <td>0.158446</td>\n",
              "      <td>-0.018118</td>\n",
              "      <td>-0.003168</td>\n",
              "      <td>1.79</td>\n",
              "      <td>0.0</td>\n",
              "    </tr>\n",
              "    <tr>\n",
              "      <th>35738</th>\n",
              "      <td>38240</td>\n",
              "      <td>1.114040</td>\n",
              "      <td>0.571203</td>\n",
              "      <td>0.427035</td>\n",
              "      <td>2.442135</td>\n",
              "      <td>-0.020967</td>\n",
              "      <td>-0.501774</td>\n",
              "      <td>0.320237</td>\n",
              "      <td>-0.082876</td>\n",
              "      <td>-1.182685</td>\n",
              "      <td>...</td>\n",
              "      <td>0.028826</td>\n",
              "      <td>-0.032705</td>\n",
              "      <td>-0.056634</td>\n",
              "      <td>0.535225</td>\n",
              "      <td>0.540930</td>\n",
              "      <td>-0.025773</td>\n",
              "      <td>-0.035775</td>\n",
              "      <td>0.011219</td>\n",
              "      <td>24.99</td>\n",
              "      <td>0.0</td>\n",
              "    </tr>\n",
              "    <tr>\n",
              "      <th>35739</th>\n",
              "      <td>38241</td>\n",
              "      <td>1.057020</td>\n",
              "      <td>0.007895</td>\n",
              "      <td>0.239256</td>\n",
              "      <td>1.236048</td>\n",
              "      <td>0.032239</td>\n",
              "      <td>0.350868</td>\n",
              "      <td>0.023279</td>\n",
              "      <td>0.137328</td>\n",
              "      <td>0.037981</td>\n",
              "      <td>...</td>\n",
              "      <td>-0.043316</td>\n",
              "      <td>-0.022866</td>\n",
              "      <td>-0.155991</td>\n",
              "      <td>-0.283221</td>\n",
              "      <td>0.662538</td>\n",
              "      <td>-0.314989</td>\n",
              "      <td>0.027467</td>\n",
              "      <td>0.010613</td>\n",
              "      <td>53.96</td>\n",
              "      <td>0.0</td>\n",
              "    </tr>\n",
              "    <tr>\n",
              "      <th>35740</th>\n",
              "      <td>38241</td>\n",
              "      <td>-1.546226</td>\n",
              "      <td>0.693338</td>\n",
              "      <td>1.002815</td>\n",
              "      <td>-1.528992</td>\n",
              "      <td>0.294692</td>\n",
              "      <td>-0.464031</td>\n",
              "      <td>0.264880</td>\n",
              "      <td>0.307358</td>\n",
              "      <td>0.022915</td>\n",
              "      <td>...</td>\n",
              "      <td>-0.176713</td>\n",
              "      <td>-0.164637</td>\n",
              "      <td>0.197999</td>\n",
              "      <td>-0.463070</td>\n",
              "      <td>-0.118578</td>\n",
              "      <td>0.739989</td>\n",
              "      <td>0.043625</td>\n",
              "      <td>-0.140629</td>\n",
              "      <td>0.76</td>\n",
              "      <td>0.0</td>\n",
              "    </tr>\n",
              "    <tr>\n",
              "      <th>35741</th>\n",
              "      <td>38241</td>\n",
              "      <td>-0.231062</td>\n",
              "      <td>0.243033</td>\n",
              "      <td>1.071749</td>\n",
              "      <td>-0.324598</td>\n",
              "      <td>-0.000000</td>\n",
              "      <td>NaN</td>\n",
              "      <td>NaN</td>\n",
              "      <td>NaN</td>\n",
              "      <td>NaN</td>\n",
              "      <td>...</td>\n",
              "      <td>NaN</td>\n",
              "      <td>NaN</td>\n",
              "      <td>NaN</td>\n",
              "      <td>NaN</td>\n",
              "      <td>NaN</td>\n",
              "      <td>NaN</td>\n",
              "      <td>NaN</td>\n",
              "      <td>NaN</td>\n",
              "      <td>NaN</td>\n",
              "      <td>NaN</td>\n",
              "    </tr>\n",
              "  </tbody>\n",
              "</table>\n",
              "<p>10 rows × 31 columns</p>\n",
              "</div>\n",
              "      <button class=\"colab-df-convert\" onclick=\"convertToInteractive('df-ccdb4c41-5703-44b2-ac6b-aff6b0a236da')\"\n",
              "              title=\"Convert this dataframe to an interactive table.\"\n",
              "              style=\"display:none;\">\n",
              "        \n",
              "  <svg xmlns=\"http://www.w3.org/2000/svg\" height=\"24px\"viewBox=\"0 0 24 24\"\n",
              "       width=\"24px\">\n",
              "    <path d=\"M0 0h24v24H0V0z\" fill=\"none\"/>\n",
              "    <path d=\"M18.56 5.44l.94 2.06.94-2.06 2.06-.94-2.06-.94-.94-2.06-.94 2.06-2.06.94zm-11 1L8.5 8.5l.94-2.06 2.06-.94-2.06-.94L8.5 2.5l-.94 2.06-2.06.94zm10 10l.94 2.06.94-2.06 2.06-.94-2.06-.94-.94-2.06-.94 2.06-2.06.94z\"/><path d=\"M17.41 7.96l-1.37-1.37c-.4-.4-.92-.59-1.43-.59-.52 0-1.04.2-1.43.59L10.3 9.45l-7.72 7.72c-.78.78-.78 2.05 0 2.83L4 21.41c.39.39.9.59 1.41.59.51 0 1.02-.2 1.41-.59l7.78-7.78 2.81-2.81c.8-.78.8-2.07 0-2.86zM5.41 20L4 18.59l7.72-7.72 1.47 1.35L5.41 20z\"/>\n",
              "  </svg>\n",
              "      </button>\n",
              "      \n",
              "  <style>\n",
              "    .colab-df-container {\n",
              "      display:flex;\n",
              "      flex-wrap:wrap;\n",
              "      gap: 12px;\n",
              "    }\n",
              "\n",
              "    .colab-df-convert {\n",
              "      background-color: #E8F0FE;\n",
              "      border: none;\n",
              "      border-radius: 50%;\n",
              "      cursor: pointer;\n",
              "      display: none;\n",
              "      fill: #1967D2;\n",
              "      height: 32px;\n",
              "      padding: 0 0 0 0;\n",
              "      width: 32px;\n",
              "    }\n",
              "\n",
              "    .colab-df-convert:hover {\n",
              "      background-color: #E2EBFA;\n",
              "      box-shadow: 0px 1px 2px rgba(60, 64, 67, 0.3), 0px 1px 3px 1px rgba(60, 64, 67, 0.15);\n",
              "      fill: #174EA6;\n",
              "    }\n",
              "\n",
              "    [theme=dark] .colab-df-convert {\n",
              "      background-color: #3B4455;\n",
              "      fill: #D2E3FC;\n",
              "    }\n",
              "\n",
              "    [theme=dark] .colab-df-convert:hover {\n",
              "      background-color: #434B5C;\n",
              "      box-shadow: 0px 1px 3px 1px rgba(0, 0, 0, 0.15);\n",
              "      filter: drop-shadow(0px 1px 2px rgba(0, 0, 0, 0.3));\n",
              "      fill: #FFFFFF;\n",
              "    }\n",
              "  </style>\n",
              "\n",
              "      <script>\n",
              "        const buttonEl =\n",
              "          document.querySelector('#df-ccdb4c41-5703-44b2-ac6b-aff6b0a236da button.colab-df-convert');\n",
              "        buttonEl.style.display =\n",
              "          google.colab.kernel.accessAllowed ? 'block' : 'none';\n",
              "\n",
              "        async function convertToInteractive(key) {\n",
              "          const element = document.querySelector('#df-ccdb4c41-5703-44b2-ac6b-aff6b0a236da');\n",
              "          const dataTable =\n",
              "            await google.colab.kernel.invokeFunction('convertToInteractive',\n",
              "                                                     [key], {});\n",
              "          if (!dataTable) return;\n",
              "\n",
              "          const docLinkHtml = 'Like what you see? Visit the ' +\n",
              "            '<a target=\"_blank\" href=https://colab.research.google.com/notebooks/data_table.ipynb>data table notebook</a>'\n",
              "            + ' to learn more about interactive tables.';\n",
              "          element.innerHTML = '';\n",
              "          dataTable['output_type'] = 'display_data';\n",
              "          await google.colab.output.renderOutput(dataTable, element);\n",
              "          const docLink = document.createElement('div');\n",
              "          docLink.innerHTML = docLinkHtml;\n",
              "          element.appendChild(docLink);\n",
              "        }\n",
              "      </script>\n",
              "    </div>\n",
              "  </div>\n",
              "  "
            ]
          },
          "metadata": {},
          "execution_count": 12
        }
      ]
    },
    {
      "cell_type": "code",
      "source": [
        "card_dataset.shape"
      ],
      "metadata": {
        "colab": {
          "base_uri": "https://localhost:8080/"
        },
        "id": "ohlp65kbDjqf",
        "outputId": "80375f29-db03-4519-ee4f-a1c3e9bd297e"
      },
      "execution_count": null,
      "outputs": [
        {
          "output_type": "execute_result",
          "data": {
            "text/plain": [
              "(35742, 31)"
            ]
          },
          "metadata": {},
          "execution_count": 13
        }
      ]
    },
    {
      "cell_type": "code",
      "source": [
        "card_dataset.info()"
      ],
      "metadata": {
        "colab": {
          "base_uri": "https://localhost:8080/"
        },
        "id": "KyNQz-tgExkQ",
        "outputId": "c164005b-11e2-4072-d89b-c2ab4e66718a"
      },
      "execution_count": null,
      "outputs": [
        {
          "output_type": "stream",
          "name": "stdout",
          "text": [
            "<class 'pandas.core.frame.DataFrame'>\n",
            "RangeIndex: 35742 entries, 0 to 35741\n",
            "Data columns (total 31 columns):\n",
            " #   Column  Non-Null Count  Dtype  \n",
            "---  ------  --------------  -----  \n",
            " 0   Time    35742 non-null  int64  \n",
            " 1   V1      35742 non-null  float64\n",
            " 2   V2      35742 non-null  float64\n",
            " 3   V3      35742 non-null  float64\n",
            " 4   V4      35742 non-null  float64\n",
            " 5   V5      35742 non-null  float64\n",
            " 6   V6      35741 non-null  float64\n",
            " 7   V7      35741 non-null  float64\n",
            " 8   V8      35741 non-null  float64\n",
            " 9   V9      35741 non-null  float64\n",
            " 10  V10     35741 non-null  float64\n",
            " 11  V11     35741 non-null  float64\n",
            " 12  V12     35741 non-null  float64\n",
            " 13  V13     35741 non-null  float64\n",
            " 14  V14     35741 non-null  float64\n",
            " 15  V15     35741 non-null  float64\n",
            " 16  V16     35741 non-null  float64\n",
            " 17  V17     35741 non-null  float64\n",
            " 18  V18     35741 non-null  float64\n",
            " 19  V19     35741 non-null  float64\n",
            " 20  V20     35741 non-null  float64\n",
            " 21  V21     35741 non-null  float64\n",
            " 22  V22     35741 non-null  float64\n",
            " 23  V23     35741 non-null  float64\n",
            " 24  V24     35741 non-null  float64\n",
            " 25  V25     35741 non-null  float64\n",
            " 26  V26     35741 non-null  float64\n",
            " 27  V27     35741 non-null  float64\n",
            " 28  V28     35741 non-null  float64\n",
            " 29  Amount  35741 non-null  float64\n",
            " 30  Class   35741 non-null  float64\n",
            "dtypes: float64(30), int64(1)\n",
            "memory usage: 8.5 MB\n"
          ]
        }
      ]
    },
    {
      "cell_type": "code",
      "source": [
        "# Print all columns name\n",
        "card_dataset.columns"
      ],
      "metadata": {
        "colab": {
          "base_uri": "https://localhost:8080/"
        },
        "id": "RFy-LhQhGZFH",
        "outputId": "b6ebabe0-2a68-4003-8092-a51b656c73e4"
      },
      "execution_count": null,
      "outputs": [
        {
          "output_type": "execute_result",
          "data": {
            "text/plain": [
              "Index(['Time', 'V1', 'V2', 'V3', 'V4', 'V5', 'V6', 'V7', 'V8', 'V9', 'V10',\n",
              "       'V11', 'V12', 'V13', 'V14', 'V15', 'V16', 'V17', 'V18', 'V19', 'V20',\n",
              "       'V21', 'V22', 'V23', 'V24', 'V25', 'V26', 'V27', 'V28', 'Amount',\n",
              "       'Class'],\n",
              "      dtype='object')"
            ]
          },
          "metadata": {},
          "execution_count": 15
        }
      ]
    },
    {
      "cell_type": "code",
      "source": [
        "# Print the index \n",
        "card_dataset.index"
      ],
      "metadata": {
        "colab": {
          "base_uri": "https://localhost:8080/"
        },
        "id": "QsOAhcTbGpcP",
        "outputId": "8157cb2e-d951-4eb2-dc8e-05e70e24f06c"
      },
      "execution_count": null,
      "outputs": [
        {
          "output_type": "execute_result",
          "data": {
            "text/plain": [
              "RangeIndex(start=0, stop=35742, step=1)"
            ]
          },
          "metadata": {},
          "execution_count": 16
        }
      ]
    },
    {
      "cell_type": "code",
      "source": [
        "card_dataset.describe()"
      ],
      "metadata": {
        "colab": {
          "base_uri": "https://localhost:8080/",
          "height": 394
        },
        "id": "XSSSq4keGw0x",
        "outputId": "4351ee3f-b910-4376-beec-bcccd25b90fb"
      },
      "execution_count": null,
      "outputs": [
        {
          "output_type": "execute_result",
          "data": {
            "text/plain": [
              "               Time            V1            V2            V3            V4  \\\n",
              "count  35742.000000  35742.000000  35742.000000  35742.000000  35742.000000   \n",
              "mean   23997.300823     -0.208427      0.072579      0.718292      0.195733   \n",
              "std    12423.654094      1.836736      1.540565      1.540896      1.409063   \n",
              "min        0.000000    -30.552380    -40.978852    -31.103685     -5.172595   \n",
              "25%    12283.500000     -0.960139     -0.499301      0.244741     -0.714475   \n",
              "50%    28992.000000     -0.234480      0.114024      0.827554      0.188607   \n",
              "75%    34258.000000      1.162263      0.755015      1.456358      1.078531   \n",
              "max    38241.000000      1.960497     16.713389      4.101716     13.143668   \n",
              "\n",
              "                 V5            V6            V7            V8            V9  \\\n",
              "count  35742.000000  35741.000000  35741.000000  35741.000000  35741.000000   \n",
              "mean      -0.216686      0.095575     -0.116847      0.032755      0.259459   \n",
              "std        1.388746      1.310633      1.257788      1.242285      1.238161   \n",
              "min      -42.147898    -23.496714    -26.548144    -41.484823     -7.175097   \n",
              "25%       -0.818199     -0.644998     -0.598057     -0.155602     -0.523422   \n",
              "50%       -0.255034     -0.163054     -0.073069      0.043456      0.135169   \n",
              "75%        0.302991      0.485169      0.436560      0.307599      0.991696   \n",
              "max       34.099309     22.529298     36.677268     20.007208     10.392889   \n",
              "\n",
              "       ...           V21           V22           V23           V24  \\\n",
              "count  ...  35741.000000  35741.000000  35741.000000  35741.000000   \n",
              "mean   ...     -0.030876     -0.113555     -0.041571      0.007469   \n",
              "std    ...      0.769829      0.640398      0.545241      0.593343   \n",
              "min    ...    -20.262054     -8.593642    -26.751119     -2.836627   \n",
              "25%    ...     -0.239644     -0.536461     -0.178485     -0.326932   \n",
              "50%    ...     -0.081611     -0.087516     -0.051996      0.061818   \n",
              "75%    ...      0.094995      0.296665      0.076214      0.398791   \n",
              "max    ...     22.614889      5.805795     13.876221      4.014444   \n",
              "\n",
              "                V25           V26           V27           V28        Amount  \\\n",
              "count  35741.000000  35741.000000  35741.000000  35741.000000  35741.000000   \n",
              "mean       0.135958      0.021813      0.010836      0.003834     84.203356   \n",
              "std        0.435886      0.506559      0.388306      0.302016    227.279858   \n",
              "min       -7.495741     -1.438650     -8.567638     -9.617915      0.000000   \n",
              "25%       -0.127310     -0.331727     -0.063200     -0.007248      6.990000   \n",
              "50%        0.175722     -0.063275      0.008848      0.021087     22.000000   \n",
              "75%        0.421085      0.301153      0.086772      0.076006     76.000000   \n",
              "max        5.525093      3.517346     11.135740      5.678671   7879.420000   \n",
              "\n",
              "              Class  \n",
              "count  35741.000000  \n",
              "mean       0.002882  \n",
              "std        0.053606  \n",
              "min        0.000000  \n",
              "25%        0.000000  \n",
              "50%        0.000000  \n",
              "75%        0.000000  \n",
              "max        1.000000  \n",
              "\n",
              "[8 rows x 31 columns]"
            ],
            "text/html": [
              "\n",
              "  <div id=\"df-044a0332-beb9-44d1-842f-03f448ca6039\">\n",
              "    <div class=\"colab-df-container\">\n",
              "      <div>\n",
              "<style scoped>\n",
              "    .dataframe tbody tr th:only-of-type {\n",
              "        vertical-align: middle;\n",
              "    }\n",
              "\n",
              "    .dataframe tbody tr th {\n",
              "        vertical-align: top;\n",
              "    }\n",
              "\n",
              "    .dataframe thead th {\n",
              "        text-align: right;\n",
              "    }\n",
              "</style>\n",
              "<table border=\"1\" class=\"dataframe\">\n",
              "  <thead>\n",
              "    <tr style=\"text-align: right;\">\n",
              "      <th></th>\n",
              "      <th>Time</th>\n",
              "      <th>V1</th>\n",
              "      <th>V2</th>\n",
              "      <th>V3</th>\n",
              "      <th>V4</th>\n",
              "      <th>V5</th>\n",
              "      <th>V6</th>\n",
              "      <th>V7</th>\n",
              "      <th>V8</th>\n",
              "      <th>V9</th>\n",
              "      <th>...</th>\n",
              "      <th>V21</th>\n",
              "      <th>V22</th>\n",
              "      <th>V23</th>\n",
              "      <th>V24</th>\n",
              "      <th>V25</th>\n",
              "      <th>V26</th>\n",
              "      <th>V27</th>\n",
              "      <th>V28</th>\n",
              "      <th>Amount</th>\n",
              "      <th>Class</th>\n",
              "    </tr>\n",
              "  </thead>\n",
              "  <tbody>\n",
              "    <tr>\n",
              "      <th>count</th>\n",
              "      <td>35742.000000</td>\n",
              "      <td>35742.000000</td>\n",
              "      <td>35742.000000</td>\n",
              "      <td>35742.000000</td>\n",
              "      <td>35742.000000</td>\n",
              "      <td>35742.000000</td>\n",
              "      <td>35741.000000</td>\n",
              "      <td>35741.000000</td>\n",
              "      <td>35741.000000</td>\n",
              "      <td>35741.000000</td>\n",
              "      <td>...</td>\n",
              "      <td>35741.000000</td>\n",
              "      <td>35741.000000</td>\n",
              "      <td>35741.000000</td>\n",
              "      <td>35741.000000</td>\n",
              "      <td>35741.000000</td>\n",
              "      <td>35741.000000</td>\n",
              "      <td>35741.000000</td>\n",
              "      <td>35741.000000</td>\n",
              "      <td>35741.000000</td>\n",
              "      <td>35741.000000</td>\n",
              "    </tr>\n",
              "    <tr>\n",
              "      <th>mean</th>\n",
              "      <td>23997.300823</td>\n",
              "      <td>-0.208427</td>\n",
              "      <td>0.072579</td>\n",
              "      <td>0.718292</td>\n",
              "      <td>0.195733</td>\n",
              "      <td>-0.216686</td>\n",
              "      <td>0.095575</td>\n",
              "      <td>-0.116847</td>\n",
              "      <td>0.032755</td>\n",
              "      <td>0.259459</td>\n",
              "      <td>...</td>\n",
              "      <td>-0.030876</td>\n",
              "      <td>-0.113555</td>\n",
              "      <td>-0.041571</td>\n",
              "      <td>0.007469</td>\n",
              "      <td>0.135958</td>\n",
              "      <td>0.021813</td>\n",
              "      <td>0.010836</td>\n",
              "      <td>0.003834</td>\n",
              "      <td>84.203356</td>\n",
              "      <td>0.002882</td>\n",
              "    </tr>\n",
              "    <tr>\n",
              "      <th>std</th>\n",
              "      <td>12423.654094</td>\n",
              "      <td>1.836736</td>\n",
              "      <td>1.540565</td>\n",
              "      <td>1.540896</td>\n",
              "      <td>1.409063</td>\n",
              "      <td>1.388746</td>\n",
              "      <td>1.310633</td>\n",
              "      <td>1.257788</td>\n",
              "      <td>1.242285</td>\n",
              "      <td>1.238161</td>\n",
              "      <td>...</td>\n",
              "      <td>0.769829</td>\n",
              "      <td>0.640398</td>\n",
              "      <td>0.545241</td>\n",
              "      <td>0.593343</td>\n",
              "      <td>0.435886</td>\n",
              "      <td>0.506559</td>\n",
              "      <td>0.388306</td>\n",
              "      <td>0.302016</td>\n",
              "      <td>227.279858</td>\n",
              "      <td>0.053606</td>\n",
              "    </tr>\n",
              "    <tr>\n",
              "      <th>min</th>\n",
              "      <td>0.000000</td>\n",
              "      <td>-30.552380</td>\n",
              "      <td>-40.978852</td>\n",
              "      <td>-31.103685</td>\n",
              "      <td>-5.172595</td>\n",
              "      <td>-42.147898</td>\n",
              "      <td>-23.496714</td>\n",
              "      <td>-26.548144</td>\n",
              "      <td>-41.484823</td>\n",
              "      <td>-7.175097</td>\n",
              "      <td>...</td>\n",
              "      <td>-20.262054</td>\n",
              "      <td>-8.593642</td>\n",
              "      <td>-26.751119</td>\n",
              "      <td>-2.836627</td>\n",
              "      <td>-7.495741</td>\n",
              "      <td>-1.438650</td>\n",
              "      <td>-8.567638</td>\n",
              "      <td>-9.617915</td>\n",
              "      <td>0.000000</td>\n",
              "      <td>0.000000</td>\n",
              "    </tr>\n",
              "    <tr>\n",
              "      <th>25%</th>\n",
              "      <td>12283.500000</td>\n",
              "      <td>-0.960139</td>\n",
              "      <td>-0.499301</td>\n",
              "      <td>0.244741</td>\n",
              "      <td>-0.714475</td>\n",
              "      <td>-0.818199</td>\n",
              "      <td>-0.644998</td>\n",
              "      <td>-0.598057</td>\n",
              "      <td>-0.155602</td>\n",
              "      <td>-0.523422</td>\n",
              "      <td>...</td>\n",
              "      <td>-0.239644</td>\n",
              "      <td>-0.536461</td>\n",
              "      <td>-0.178485</td>\n",
              "      <td>-0.326932</td>\n",
              "      <td>-0.127310</td>\n",
              "      <td>-0.331727</td>\n",
              "      <td>-0.063200</td>\n",
              "      <td>-0.007248</td>\n",
              "      <td>6.990000</td>\n",
              "      <td>0.000000</td>\n",
              "    </tr>\n",
              "    <tr>\n",
              "      <th>50%</th>\n",
              "      <td>28992.000000</td>\n",
              "      <td>-0.234480</td>\n",
              "      <td>0.114024</td>\n",
              "      <td>0.827554</td>\n",
              "      <td>0.188607</td>\n",
              "      <td>-0.255034</td>\n",
              "      <td>-0.163054</td>\n",
              "      <td>-0.073069</td>\n",
              "      <td>0.043456</td>\n",
              "      <td>0.135169</td>\n",
              "      <td>...</td>\n",
              "      <td>-0.081611</td>\n",
              "      <td>-0.087516</td>\n",
              "      <td>-0.051996</td>\n",
              "      <td>0.061818</td>\n",
              "      <td>0.175722</td>\n",
              "      <td>-0.063275</td>\n",
              "      <td>0.008848</td>\n",
              "      <td>0.021087</td>\n",
              "      <td>22.000000</td>\n",
              "      <td>0.000000</td>\n",
              "    </tr>\n",
              "    <tr>\n",
              "      <th>75%</th>\n",
              "      <td>34258.000000</td>\n",
              "      <td>1.162263</td>\n",
              "      <td>0.755015</td>\n",
              "      <td>1.456358</td>\n",
              "      <td>1.078531</td>\n",
              "      <td>0.302991</td>\n",
              "      <td>0.485169</td>\n",
              "      <td>0.436560</td>\n",
              "      <td>0.307599</td>\n",
              "      <td>0.991696</td>\n",
              "      <td>...</td>\n",
              "      <td>0.094995</td>\n",
              "      <td>0.296665</td>\n",
              "      <td>0.076214</td>\n",
              "      <td>0.398791</td>\n",
              "      <td>0.421085</td>\n",
              "      <td>0.301153</td>\n",
              "      <td>0.086772</td>\n",
              "      <td>0.076006</td>\n",
              "      <td>76.000000</td>\n",
              "      <td>0.000000</td>\n",
              "    </tr>\n",
              "    <tr>\n",
              "      <th>max</th>\n",
              "      <td>38241.000000</td>\n",
              "      <td>1.960497</td>\n",
              "      <td>16.713389</td>\n",
              "      <td>4.101716</td>\n",
              "      <td>13.143668</td>\n",
              "      <td>34.099309</td>\n",
              "      <td>22.529298</td>\n",
              "      <td>36.677268</td>\n",
              "      <td>20.007208</td>\n",
              "      <td>10.392889</td>\n",
              "      <td>...</td>\n",
              "      <td>22.614889</td>\n",
              "      <td>5.805795</td>\n",
              "      <td>13.876221</td>\n",
              "      <td>4.014444</td>\n",
              "      <td>5.525093</td>\n",
              "      <td>3.517346</td>\n",
              "      <td>11.135740</td>\n",
              "      <td>5.678671</td>\n",
              "      <td>7879.420000</td>\n",
              "      <td>1.000000</td>\n",
              "    </tr>\n",
              "  </tbody>\n",
              "</table>\n",
              "<p>8 rows × 31 columns</p>\n",
              "</div>\n",
              "      <button class=\"colab-df-convert\" onclick=\"convertToInteractive('df-044a0332-beb9-44d1-842f-03f448ca6039')\"\n",
              "              title=\"Convert this dataframe to an interactive table.\"\n",
              "              style=\"display:none;\">\n",
              "        \n",
              "  <svg xmlns=\"http://www.w3.org/2000/svg\" height=\"24px\"viewBox=\"0 0 24 24\"\n",
              "       width=\"24px\">\n",
              "    <path d=\"M0 0h24v24H0V0z\" fill=\"none\"/>\n",
              "    <path d=\"M18.56 5.44l.94 2.06.94-2.06 2.06-.94-2.06-.94-.94-2.06-.94 2.06-2.06.94zm-11 1L8.5 8.5l.94-2.06 2.06-.94-2.06-.94L8.5 2.5l-.94 2.06-2.06.94zm10 10l.94 2.06.94-2.06 2.06-.94-2.06-.94-.94-2.06-.94 2.06-2.06.94z\"/><path d=\"M17.41 7.96l-1.37-1.37c-.4-.4-.92-.59-1.43-.59-.52 0-1.04.2-1.43.59L10.3 9.45l-7.72 7.72c-.78.78-.78 2.05 0 2.83L4 21.41c.39.39.9.59 1.41.59.51 0 1.02-.2 1.41-.59l7.78-7.78 2.81-2.81c.8-.78.8-2.07 0-2.86zM5.41 20L4 18.59l7.72-7.72 1.47 1.35L5.41 20z\"/>\n",
              "  </svg>\n",
              "      </button>\n",
              "      \n",
              "  <style>\n",
              "    .colab-df-container {\n",
              "      display:flex;\n",
              "      flex-wrap:wrap;\n",
              "      gap: 12px;\n",
              "    }\n",
              "\n",
              "    .colab-df-convert {\n",
              "      background-color: #E8F0FE;\n",
              "      border: none;\n",
              "      border-radius: 50%;\n",
              "      cursor: pointer;\n",
              "      display: none;\n",
              "      fill: #1967D2;\n",
              "      height: 32px;\n",
              "      padding: 0 0 0 0;\n",
              "      width: 32px;\n",
              "    }\n",
              "\n",
              "    .colab-df-convert:hover {\n",
              "      background-color: #E2EBFA;\n",
              "      box-shadow: 0px 1px 2px rgba(60, 64, 67, 0.3), 0px 1px 3px 1px rgba(60, 64, 67, 0.15);\n",
              "      fill: #174EA6;\n",
              "    }\n",
              "\n",
              "    [theme=dark] .colab-df-convert {\n",
              "      background-color: #3B4455;\n",
              "      fill: #D2E3FC;\n",
              "    }\n",
              "\n",
              "    [theme=dark] .colab-df-convert:hover {\n",
              "      background-color: #434B5C;\n",
              "      box-shadow: 0px 1px 3px 1px rgba(0, 0, 0, 0.15);\n",
              "      filter: drop-shadow(0px 1px 2px rgba(0, 0, 0, 0.3));\n",
              "      fill: #FFFFFF;\n",
              "    }\n",
              "  </style>\n",
              "\n",
              "      <script>\n",
              "        const buttonEl =\n",
              "          document.querySelector('#df-044a0332-beb9-44d1-842f-03f448ca6039 button.colab-df-convert');\n",
              "        buttonEl.style.display =\n",
              "          google.colab.kernel.accessAllowed ? 'block' : 'none';\n",
              "\n",
              "        async function convertToInteractive(key) {\n",
              "          const element = document.querySelector('#df-044a0332-beb9-44d1-842f-03f448ca6039');\n",
              "          const dataTable =\n",
              "            await google.colab.kernel.invokeFunction('convertToInteractive',\n",
              "                                                     [key], {});\n",
              "          if (!dataTable) return;\n",
              "\n",
              "          const docLinkHtml = 'Like what you see? Visit the ' +\n",
              "            '<a target=\"_blank\" href=https://colab.research.google.com/notebooks/data_table.ipynb>data table notebook</a>'\n",
              "            + ' to learn more about interactive tables.';\n",
              "          element.innerHTML = '';\n",
              "          dataTable['output_type'] = 'display_data';\n",
              "          await google.colab.output.renderOutput(dataTable, element);\n",
              "          const docLink = document.createElement('div');\n",
              "          docLink.innerHTML = docLinkHtml;\n",
              "          element.appendChild(docLink);\n",
              "        }\n",
              "      </script>\n",
              "    </div>\n",
              "  </div>\n",
              "  "
            ]
          },
          "metadata": {},
          "execution_count": 17
        }
      ]
    },
    {
      "cell_type": "markdown",
      "source": [
        "LOC and iloc \n",
        "\n",
        "(location and )"
      ],
      "metadata": {
        "id": "o0hxURAPIpzZ"
      }
    },
    {
      "cell_type": "code",
      "source": [
        "card_dataset"
      ],
      "metadata": {
        "colab": {
          "base_uri": "https://localhost:8080/",
          "height": 487
        },
        "id": "BGfmjmjIJVsX",
        "outputId": "5191e62a-b3aa-454c-9c47-137110c8540b"
      },
      "execution_count": null,
      "outputs": [
        {
          "output_type": "execute_result",
          "data": {
            "text/plain": [
              "        Time        V1        V2        V3        V4        V5        V6  \\\n",
              "0          0 -1.359807 -0.072781  2.536347  1.378155 -0.338321  0.462388   \n",
              "1          0  1.191857  0.266151  0.166480  0.448154  0.060018 -0.082361   \n",
              "2          1 -1.358354 -1.340163  1.773209  0.379780 -0.503198  1.800499   \n",
              "3          1 -0.966272 -0.185226  1.792993 -0.863291 -0.010309  1.247203   \n",
              "4          2 -1.158233  0.877737  1.548718  0.403034 -0.407193  0.095921   \n",
              "...      ...       ...       ...       ...       ...       ...       ...   \n",
              "35737  38240  1.232390  0.122010  0.157352  0.261906  0.158523  0.273022   \n",
              "35738  38240  1.114040  0.571203  0.427035  2.442135 -0.020967 -0.501774   \n",
              "35739  38241  1.057020  0.007895  0.239256  1.236048  0.032239  0.350868   \n",
              "35740  38241 -1.546226  0.693338  1.002815 -1.528992  0.294692 -0.464031   \n",
              "35741  38241 -0.231062  0.243033  1.071749 -0.324598 -0.000000       NaN   \n",
              "\n",
              "             V7        V8        V9  ...       V21       V22       V23  \\\n",
              "0      0.239599  0.098698  0.363787  ... -0.018307  0.277838 -0.110474   \n",
              "1     -0.078803  0.085102 -0.255425  ... -0.225775 -0.638672  0.101288   \n",
              "2      0.791461  0.247676 -1.514654  ...  0.247998  0.771679  0.909412   \n",
              "3      0.237609  0.377436 -1.387024  ... -0.108300  0.005274 -0.190321   \n",
              "4      0.592941 -0.270533  0.817739  ... -0.009431  0.798278 -0.137458   \n",
              "...         ...       ...       ...  ...       ...       ...       ...   \n",
              "35737 -0.143169  0.138664 -0.146805  ... -0.233618 -0.677894  0.052511   \n",
              "35738  0.320237 -0.082876 -1.182685  ...  0.028826 -0.032705 -0.056634   \n",
              "35739  0.023279  0.137328  0.037981  ... -0.043316 -0.022866 -0.155991   \n",
              "35740  0.264880  0.307358  0.022915  ... -0.176713 -0.164637  0.197999   \n",
              "35741       NaN       NaN       NaN  ...       NaN       NaN       NaN   \n",
              "\n",
              "            V24       V25       V26       V27       V28  Amount  Class  \n",
              "0      0.066928  0.128539 -0.189115  0.133558 -0.021053  149.62    0.0  \n",
              "1     -0.339846  0.167170  0.125895 -0.008983  0.014724    2.69    0.0  \n",
              "2     -0.689281 -0.327642 -0.139097 -0.055353 -0.059752  378.66    0.0  \n",
              "3     -1.175575  0.647376 -0.221929  0.062723  0.061458  123.50    0.0  \n",
              "4      0.141267 -0.206010  0.502292  0.219422  0.215153   69.99    0.0  \n",
              "...         ...       ...       ...       ...       ...     ...    ...  \n",
              "35737 -0.816369  0.221553  0.158446 -0.018118 -0.003168    1.79    0.0  \n",
              "35738  0.535225  0.540930 -0.025773 -0.035775  0.011219   24.99    0.0  \n",
              "35739 -0.283221  0.662538 -0.314989  0.027467  0.010613   53.96    0.0  \n",
              "35740 -0.463070 -0.118578  0.739989  0.043625 -0.140629    0.76    0.0  \n",
              "35741       NaN       NaN       NaN       NaN       NaN     NaN    NaN  \n",
              "\n",
              "[35742 rows x 31 columns]"
            ],
            "text/html": [
              "\n",
              "  <div id=\"df-7086a096-b562-44bc-86d2-191c804abbcd\">\n",
              "    <div class=\"colab-df-container\">\n",
              "      <div>\n",
              "<style scoped>\n",
              "    .dataframe tbody tr th:only-of-type {\n",
              "        vertical-align: middle;\n",
              "    }\n",
              "\n",
              "    .dataframe tbody tr th {\n",
              "        vertical-align: top;\n",
              "    }\n",
              "\n",
              "    .dataframe thead th {\n",
              "        text-align: right;\n",
              "    }\n",
              "</style>\n",
              "<table border=\"1\" class=\"dataframe\">\n",
              "  <thead>\n",
              "    <tr style=\"text-align: right;\">\n",
              "      <th></th>\n",
              "      <th>Time</th>\n",
              "      <th>V1</th>\n",
              "      <th>V2</th>\n",
              "      <th>V3</th>\n",
              "      <th>V4</th>\n",
              "      <th>V5</th>\n",
              "      <th>V6</th>\n",
              "      <th>V7</th>\n",
              "      <th>V8</th>\n",
              "      <th>V9</th>\n",
              "      <th>...</th>\n",
              "      <th>V21</th>\n",
              "      <th>V22</th>\n",
              "      <th>V23</th>\n",
              "      <th>V24</th>\n",
              "      <th>V25</th>\n",
              "      <th>V26</th>\n",
              "      <th>V27</th>\n",
              "      <th>V28</th>\n",
              "      <th>Amount</th>\n",
              "      <th>Class</th>\n",
              "    </tr>\n",
              "  </thead>\n",
              "  <tbody>\n",
              "    <tr>\n",
              "      <th>0</th>\n",
              "      <td>0</td>\n",
              "      <td>-1.359807</td>\n",
              "      <td>-0.072781</td>\n",
              "      <td>2.536347</td>\n",
              "      <td>1.378155</td>\n",
              "      <td>-0.338321</td>\n",
              "      <td>0.462388</td>\n",
              "      <td>0.239599</td>\n",
              "      <td>0.098698</td>\n",
              "      <td>0.363787</td>\n",
              "      <td>...</td>\n",
              "      <td>-0.018307</td>\n",
              "      <td>0.277838</td>\n",
              "      <td>-0.110474</td>\n",
              "      <td>0.066928</td>\n",
              "      <td>0.128539</td>\n",
              "      <td>-0.189115</td>\n",
              "      <td>0.133558</td>\n",
              "      <td>-0.021053</td>\n",
              "      <td>149.62</td>\n",
              "      <td>0.0</td>\n",
              "    </tr>\n",
              "    <tr>\n",
              "      <th>1</th>\n",
              "      <td>0</td>\n",
              "      <td>1.191857</td>\n",
              "      <td>0.266151</td>\n",
              "      <td>0.166480</td>\n",
              "      <td>0.448154</td>\n",
              "      <td>0.060018</td>\n",
              "      <td>-0.082361</td>\n",
              "      <td>-0.078803</td>\n",
              "      <td>0.085102</td>\n",
              "      <td>-0.255425</td>\n",
              "      <td>...</td>\n",
              "      <td>-0.225775</td>\n",
              "      <td>-0.638672</td>\n",
              "      <td>0.101288</td>\n",
              "      <td>-0.339846</td>\n",
              "      <td>0.167170</td>\n",
              "      <td>0.125895</td>\n",
              "      <td>-0.008983</td>\n",
              "      <td>0.014724</td>\n",
              "      <td>2.69</td>\n",
              "      <td>0.0</td>\n",
              "    </tr>\n",
              "    <tr>\n",
              "      <th>2</th>\n",
              "      <td>1</td>\n",
              "      <td>-1.358354</td>\n",
              "      <td>-1.340163</td>\n",
              "      <td>1.773209</td>\n",
              "      <td>0.379780</td>\n",
              "      <td>-0.503198</td>\n",
              "      <td>1.800499</td>\n",
              "      <td>0.791461</td>\n",
              "      <td>0.247676</td>\n",
              "      <td>-1.514654</td>\n",
              "      <td>...</td>\n",
              "      <td>0.247998</td>\n",
              "      <td>0.771679</td>\n",
              "      <td>0.909412</td>\n",
              "      <td>-0.689281</td>\n",
              "      <td>-0.327642</td>\n",
              "      <td>-0.139097</td>\n",
              "      <td>-0.055353</td>\n",
              "      <td>-0.059752</td>\n",
              "      <td>378.66</td>\n",
              "      <td>0.0</td>\n",
              "    </tr>\n",
              "    <tr>\n",
              "      <th>3</th>\n",
              "      <td>1</td>\n",
              "      <td>-0.966272</td>\n",
              "      <td>-0.185226</td>\n",
              "      <td>1.792993</td>\n",
              "      <td>-0.863291</td>\n",
              "      <td>-0.010309</td>\n",
              "      <td>1.247203</td>\n",
              "      <td>0.237609</td>\n",
              "      <td>0.377436</td>\n",
              "      <td>-1.387024</td>\n",
              "      <td>...</td>\n",
              "      <td>-0.108300</td>\n",
              "      <td>0.005274</td>\n",
              "      <td>-0.190321</td>\n",
              "      <td>-1.175575</td>\n",
              "      <td>0.647376</td>\n",
              "      <td>-0.221929</td>\n",
              "      <td>0.062723</td>\n",
              "      <td>0.061458</td>\n",
              "      <td>123.50</td>\n",
              "      <td>0.0</td>\n",
              "    </tr>\n",
              "    <tr>\n",
              "      <th>4</th>\n",
              "      <td>2</td>\n",
              "      <td>-1.158233</td>\n",
              "      <td>0.877737</td>\n",
              "      <td>1.548718</td>\n",
              "      <td>0.403034</td>\n",
              "      <td>-0.407193</td>\n",
              "      <td>0.095921</td>\n",
              "      <td>0.592941</td>\n",
              "      <td>-0.270533</td>\n",
              "      <td>0.817739</td>\n",
              "      <td>...</td>\n",
              "      <td>-0.009431</td>\n",
              "      <td>0.798278</td>\n",
              "      <td>-0.137458</td>\n",
              "      <td>0.141267</td>\n",
              "      <td>-0.206010</td>\n",
              "      <td>0.502292</td>\n",
              "      <td>0.219422</td>\n",
              "      <td>0.215153</td>\n",
              "      <td>69.99</td>\n",
              "      <td>0.0</td>\n",
              "    </tr>\n",
              "    <tr>\n",
              "      <th>...</th>\n",
              "      <td>...</td>\n",
              "      <td>...</td>\n",
              "      <td>...</td>\n",
              "      <td>...</td>\n",
              "      <td>...</td>\n",
              "      <td>...</td>\n",
              "      <td>...</td>\n",
              "      <td>...</td>\n",
              "      <td>...</td>\n",
              "      <td>...</td>\n",
              "      <td>...</td>\n",
              "      <td>...</td>\n",
              "      <td>...</td>\n",
              "      <td>...</td>\n",
              "      <td>...</td>\n",
              "      <td>...</td>\n",
              "      <td>...</td>\n",
              "      <td>...</td>\n",
              "      <td>...</td>\n",
              "      <td>...</td>\n",
              "      <td>...</td>\n",
              "    </tr>\n",
              "    <tr>\n",
              "      <th>35737</th>\n",
              "      <td>38240</td>\n",
              "      <td>1.232390</td>\n",
              "      <td>0.122010</td>\n",
              "      <td>0.157352</td>\n",
              "      <td>0.261906</td>\n",
              "      <td>0.158523</td>\n",
              "      <td>0.273022</td>\n",
              "      <td>-0.143169</td>\n",
              "      <td>0.138664</td>\n",
              "      <td>-0.146805</td>\n",
              "      <td>...</td>\n",
              "      <td>-0.233618</td>\n",
              "      <td>-0.677894</td>\n",
              "      <td>0.052511</td>\n",
              "      <td>-0.816369</td>\n",
              "      <td>0.221553</td>\n",
              "      <td>0.158446</td>\n",
              "      <td>-0.018118</td>\n",
              "      <td>-0.003168</td>\n",
              "      <td>1.79</td>\n",
              "      <td>0.0</td>\n",
              "    </tr>\n",
              "    <tr>\n",
              "      <th>35738</th>\n",
              "      <td>38240</td>\n",
              "      <td>1.114040</td>\n",
              "      <td>0.571203</td>\n",
              "      <td>0.427035</td>\n",
              "      <td>2.442135</td>\n",
              "      <td>-0.020967</td>\n",
              "      <td>-0.501774</td>\n",
              "      <td>0.320237</td>\n",
              "      <td>-0.082876</td>\n",
              "      <td>-1.182685</td>\n",
              "      <td>...</td>\n",
              "      <td>0.028826</td>\n",
              "      <td>-0.032705</td>\n",
              "      <td>-0.056634</td>\n",
              "      <td>0.535225</td>\n",
              "      <td>0.540930</td>\n",
              "      <td>-0.025773</td>\n",
              "      <td>-0.035775</td>\n",
              "      <td>0.011219</td>\n",
              "      <td>24.99</td>\n",
              "      <td>0.0</td>\n",
              "    </tr>\n",
              "    <tr>\n",
              "      <th>35739</th>\n",
              "      <td>38241</td>\n",
              "      <td>1.057020</td>\n",
              "      <td>0.007895</td>\n",
              "      <td>0.239256</td>\n",
              "      <td>1.236048</td>\n",
              "      <td>0.032239</td>\n",
              "      <td>0.350868</td>\n",
              "      <td>0.023279</td>\n",
              "      <td>0.137328</td>\n",
              "      <td>0.037981</td>\n",
              "      <td>...</td>\n",
              "      <td>-0.043316</td>\n",
              "      <td>-0.022866</td>\n",
              "      <td>-0.155991</td>\n",
              "      <td>-0.283221</td>\n",
              "      <td>0.662538</td>\n",
              "      <td>-0.314989</td>\n",
              "      <td>0.027467</td>\n",
              "      <td>0.010613</td>\n",
              "      <td>53.96</td>\n",
              "      <td>0.0</td>\n",
              "    </tr>\n",
              "    <tr>\n",
              "      <th>35740</th>\n",
              "      <td>38241</td>\n",
              "      <td>-1.546226</td>\n",
              "      <td>0.693338</td>\n",
              "      <td>1.002815</td>\n",
              "      <td>-1.528992</td>\n",
              "      <td>0.294692</td>\n",
              "      <td>-0.464031</td>\n",
              "      <td>0.264880</td>\n",
              "      <td>0.307358</td>\n",
              "      <td>0.022915</td>\n",
              "      <td>...</td>\n",
              "      <td>-0.176713</td>\n",
              "      <td>-0.164637</td>\n",
              "      <td>0.197999</td>\n",
              "      <td>-0.463070</td>\n",
              "      <td>-0.118578</td>\n",
              "      <td>0.739989</td>\n",
              "      <td>0.043625</td>\n",
              "      <td>-0.140629</td>\n",
              "      <td>0.76</td>\n",
              "      <td>0.0</td>\n",
              "    </tr>\n",
              "    <tr>\n",
              "      <th>35741</th>\n",
              "      <td>38241</td>\n",
              "      <td>-0.231062</td>\n",
              "      <td>0.243033</td>\n",
              "      <td>1.071749</td>\n",
              "      <td>-0.324598</td>\n",
              "      <td>-0.000000</td>\n",
              "      <td>NaN</td>\n",
              "      <td>NaN</td>\n",
              "      <td>NaN</td>\n",
              "      <td>NaN</td>\n",
              "      <td>...</td>\n",
              "      <td>NaN</td>\n",
              "      <td>NaN</td>\n",
              "      <td>NaN</td>\n",
              "      <td>NaN</td>\n",
              "      <td>NaN</td>\n",
              "      <td>NaN</td>\n",
              "      <td>NaN</td>\n",
              "      <td>NaN</td>\n",
              "      <td>NaN</td>\n",
              "      <td>NaN</td>\n",
              "    </tr>\n",
              "  </tbody>\n",
              "</table>\n",
              "<p>35742 rows × 31 columns</p>\n",
              "</div>\n",
              "      <button class=\"colab-df-convert\" onclick=\"convertToInteractive('df-7086a096-b562-44bc-86d2-191c804abbcd')\"\n",
              "              title=\"Convert this dataframe to an interactive table.\"\n",
              "              style=\"display:none;\">\n",
              "        \n",
              "  <svg xmlns=\"http://www.w3.org/2000/svg\" height=\"24px\"viewBox=\"0 0 24 24\"\n",
              "       width=\"24px\">\n",
              "    <path d=\"M0 0h24v24H0V0z\" fill=\"none\"/>\n",
              "    <path d=\"M18.56 5.44l.94 2.06.94-2.06 2.06-.94-2.06-.94-.94-2.06-.94 2.06-2.06.94zm-11 1L8.5 8.5l.94-2.06 2.06-.94-2.06-.94L8.5 2.5l-.94 2.06-2.06.94zm10 10l.94 2.06.94-2.06 2.06-.94-2.06-.94-.94-2.06-.94 2.06-2.06.94z\"/><path d=\"M17.41 7.96l-1.37-1.37c-.4-.4-.92-.59-1.43-.59-.52 0-1.04.2-1.43.59L10.3 9.45l-7.72 7.72c-.78.78-.78 2.05 0 2.83L4 21.41c.39.39.9.59 1.41.59.51 0 1.02-.2 1.41-.59l7.78-7.78 2.81-2.81c.8-.78.8-2.07 0-2.86zM5.41 20L4 18.59l7.72-7.72 1.47 1.35L5.41 20z\"/>\n",
              "  </svg>\n",
              "      </button>\n",
              "      \n",
              "  <style>\n",
              "    .colab-df-container {\n",
              "      display:flex;\n",
              "      flex-wrap:wrap;\n",
              "      gap: 12px;\n",
              "    }\n",
              "\n",
              "    .colab-df-convert {\n",
              "      background-color: #E8F0FE;\n",
              "      border: none;\n",
              "      border-radius: 50%;\n",
              "      cursor: pointer;\n",
              "      display: none;\n",
              "      fill: #1967D2;\n",
              "      height: 32px;\n",
              "      padding: 0 0 0 0;\n",
              "      width: 32px;\n",
              "    }\n",
              "\n",
              "    .colab-df-convert:hover {\n",
              "      background-color: #E2EBFA;\n",
              "      box-shadow: 0px 1px 2px rgba(60, 64, 67, 0.3), 0px 1px 3px 1px rgba(60, 64, 67, 0.15);\n",
              "      fill: #174EA6;\n",
              "    }\n",
              "\n",
              "    [theme=dark] .colab-df-convert {\n",
              "      background-color: #3B4455;\n",
              "      fill: #D2E3FC;\n",
              "    }\n",
              "\n",
              "    [theme=dark] .colab-df-convert:hover {\n",
              "      background-color: #434B5C;\n",
              "      box-shadow: 0px 1px 3px 1px rgba(0, 0, 0, 0.15);\n",
              "      filter: drop-shadow(0px 1px 2px rgba(0, 0, 0, 0.3));\n",
              "      fill: #FFFFFF;\n",
              "    }\n",
              "  </style>\n",
              "\n",
              "      <script>\n",
              "        const buttonEl =\n",
              "          document.querySelector('#df-7086a096-b562-44bc-86d2-191c804abbcd button.colab-df-convert');\n",
              "        buttonEl.style.display =\n",
              "          google.colab.kernel.accessAllowed ? 'block' : 'none';\n",
              "\n",
              "        async function convertToInteractive(key) {\n",
              "          const element = document.querySelector('#df-7086a096-b562-44bc-86d2-191c804abbcd');\n",
              "          const dataTable =\n",
              "            await google.colab.kernel.invokeFunction('convertToInteractive',\n",
              "                                                     [key], {});\n",
              "          if (!dataTable) return;\n",
              "\n",
              "          const docLinkHtml = 'Like what you see? Visit the ' +\n",
              "            '<a target=\"_blank\" href=https://colab.research.google.com/notebooks/data_table.ipynb>data table notebook</a>'\n",
              "            + ' to learn more about interactive tables.';\n",
              "          element.innerHTML = '';\n",
              "          dataTable['output_type'] = 'display_data';\n",
              "          await google.colab.output.renderOutput(dataTable, element);\n",
              "          const docLink = document.createElement('div');\n",
              "          docLink.innerHTML = docLinkHtml;\n",
              "          element.appendChild(docLink);\n",
              "        }\n",
              "      </script>\n",
              "    </div>\n",
              "  </div>\n",
              "  "
            ]
          },
          "metadata": {},
          "execution_count": 18
        }
      ]
    },
    {
      "cell_type": "code",
      "source": [
        "# Filter some rows with conditions\n",
        "card_dataset.loc[card_dataset.V1 == 1.960497 ]"
      ],
      "metadata": {
        "colab": {
          "base_uri": "https://localhost:8080/",
          "height": 142
        },
        "id": "T-zt-5c5Io7x",
        "outputId": "93ca77ec-34d3-40c6-87e3-478c27b20471"
      },
      "execution_count": null,
      "outputs": [
        {
          "output_type": "execute_result",
          "data": {
            "text/plain": [
              "Empty DataFrame\n",
              "Columns: [Time, V1, V2, V3, V4, V5, V6, V7, V8, V9, V10, V11, V12, V13, V14, V15, V16, V17, V18, V19, V20, V21, V22, V23, V24, V25, V26, V27, V28, Amount, Class]\n",
              "Index: []\n",
              "\n",
              "[0 rows x 31 columns]"
            ],
            "text/html": [
              "\n",
              "  <div id=\"df-bd936cbf-6036-4aa1-b90f-af9ac0108c52\">\n",
              "    <div class=\"colab-df-container\">\n",
              "      <div>\n",
              "<style scoped>\n",
              "    .dataframe tbody tr th:only-of-type {\n",
              "        vertical-align: middle;\n",
              "    }\n",
              "\n",
              "    .dataframe tbody tr th {\n",
              "        vertical-align: top;\n",
              "    }\n",
              "\n",
              "    .dataframe thead th {\n",
              "        text-align: right;\n",
              "    }\n",
              "</style>\n",
              "<table border=\"1\" class=\"dataframe\">\n",
              "  <thead>\n",
              "    <tr style=\"text-align: right;\">\n",
              "      <th></th>\n",
              "      <th>Time</th>\n",
              "      <th>V1</th>\n",
              "      <th>V2</th>\n",
              "      <th>V3</th>\n",
              "      <th>V4</th>\n",
              "      <th>V5</th>\n",
              "      <th>V6</th>\n",
              "      <th>V7</th>\n",
              "      <th>V8</th>\n",
              "      <th>V9</th>\n",
              "      <th>...</th>\n",
              "      <th>V21</th>\n",
              "      <th>V22</th>\n",
              "      <th>V23</th>\n",
              "      <th>V24</th>\n",
              "      <th>V25</th>\n",
              "      <th>V26</th>\n",
              "      <th>V27</th>\n",
              "      <th>V28</th>\n",
              "      <th>Amount</th>\n",
              "      <th>Class</th>\n",
              "    </tr>\n",
              "  </thead>\n",
              "  <tbody>\n",
              "  </tbody>\n",
              "</table>\n",
              "<p>0 rows × 31 columns</p>\n",
              "</div>\n",
              "      <button class=\"colab-df-convert\" onclick=\"convertToInteractive('df-bd936cbf-6036-4aa1-b90f-af9ac0108c52')\"\n",
              "              title=\"Convert this dataframe to an interactive table.\"\n",
              "              style=\"display:none;\">\n",
              "        \n",
              "  <svg xmlns=\"http://www.w3.org/2000/svg\" height=\"24px\"viewBox=\"0 0 24 24\"\n",
              "       width=\"24px\">\n",
              "    <path d=\"M0 0h24v24H0V0z\" fill=\"none\"/>\n",
              "    <path d=\"M18.56 5.44l.94 2.06.94-2.06 2.06-.94-2.06-.94-.94-2.06-.94 2.06-2.06.94zm-11 1L8.5 8.5l.94-2.06 2.06-.94-2.06-.94L8.5 2.5l-.94 2.06-2.06.94zm10 10l.94 2.06.94-2.06 2.06-.94-2.06-.94-.94-2.06-.94 2.06-2.06.94z\"/><path d=\"M17.41 7.96l-1.37-1.37c-.4-.4-.92-.59-1.43-.59-.52 0-1.04.2-1.43.59L10.3 9.45l-7.72 7.72c-.78.78-.78 2.05 0 2.83L4 21.41c.39.39.9.59 1.41.59.51 0 1.02-.2 1.41-.59l7.78-7.78 2.81-2.81c.8-.78.8-2.07 0-2.86zM5.41 20L4 18.59l7.72-7.72 1.47 1.35L5.41 20z\"/>\n",
              "  </svg>\n",
              "      </button>\n",
              "      \n",
              "  <style>\n",
              "    .colab-df-container {\n",
              "      display:flex;\n",
              "      flex-wrap:wrap;\n",
              "      gap: 12px;\n",
              "    }\n",
              "\n",
              "    .colab-df-convert {\n",
              "      background-color: #E8F0FE;\n",
              "      border: none;\n",
              "      border-radius: 50%;\n",
              "      cursor: pointer;\n",
              "      display: none;\n",
              "      fill: #1967D2;\n",
              "      height: 32px;\n",
              "      padding: 0 0 0 0;\n",
              "      width: 32px;\n",
              "    }\n",
              "\n",
              "    .colab-df-convert:hover {\n",
              "      background-color: #E2EBFA;\n",
              "      box-shadow: 0px 1px 2px rgba(60, 64, 67, 0.3), 0px 1px 3px 1px rgba(60, 64, 67, 0.15);\n",
              "      fill: #174EA6;\n",
              "    }\n",
              "\n",
              "    [theme=dark] .colab-df-convert {\n",
              "      background-color: #3B4455;\n",
              "      fill: #D2E3FC;\n",
              "    }\n",
              "\n",
              "    [theme=dark] .colab-df-convert:hover {\n",
              "      background-color: #434B5C;\n",
              "      box-shadow: 0px 1px 3px 1px rgba(0, 0, 0, 0.15);\n",
              "      filter: drop-shadow(0px 1px 2px rgba(0, 0, 0, 0.3));\n",
              "      fill: #FFFFFF;\n",
              "    }\n",
              "  </style>\n",
              "\n",
              "      <script>\n",
              "        const buttonEl =\n",
              "          document.querySelector('#df-bd936cbf-6036-4aa1-b90f-af9ac0108c52 button.colab-df-convert');\n",
              "        buttonEl.style.display =\n",
              "          google.colab.kernel.accessAllowed ? 'block' : 'none';\n",
              "\n",
              "        async function convertToInteractive(key) {\n",
              "          const element = document.querySelector('#df-bd936cbf-6036-4aa1-b90f-af9ac0108c52');\n",
              "          const dataTable =\n",
              "            await google.colab.kernel.invokeFunction('convertToInteractive',\n",
              "                                                     [key], {});\n",
              "          if (!dataTable) return;\n",
              "\n",
              "          const docLinkHtml = 'Like what you see? Visit the ' +\n",
              "            '<a target=\"_blank\" href=https://colab.research.google.com/notebooks/data_table.ipynb>data table notebook</a>'\n",
              "            + ' to learn more about interactive tables.';\n",
              "          element.innerHTML = '';\n",
              "          dataTable['output_type'] = 'display_data';\n",
              "          await google.colab.output.renderOutput(dataTable, element);\n",
              "          const docLink = document.createElement('div');\n",
              "          docLink.innerHTML = docLinkHtml;\n",
              "          element.appendChild(docLink);\n",
              "        }\n",
              "      </script>\n",
              "    </div>\n",
              "  </div>\n",
              "  "
            ]
          },
          "metadata": {},
          "execution_count": 19
        }
      ]
    },
    {
      "cell_type": "code",
      "source": [
        "card_dataset.iloc[9]"
      ],
      "metadata": {
        "colab": {
          "base_uri": "https://localhost:8080/"
        },
        "id": "E9RNO-1gKFH-",
        "outputId": "0ca32c50-9e3f-451f-d3c0-f2f652caeeb0"
      },
      "execution_count": null,
      "outputs": [
        {
          "output_type": "execute_result",
          "data": {
            "text/plain": [
              "Time      9.000000\n",
              "V1       -0.338262\n",
              "V2        1.119593\n",
              "V3        1.044367\n",
              "V4       -0.222187\n",
              "V5        0.499361\n",
              "V6       -0.246761\n",
              "V7        0.651583\n",
              "V8        0.069539\n",
              "V9       -0.736727\n",
              "V10      -0.366846\n",
              "V11       1.017614\n",
              "V12       0.836390\n",
              "V13       1.006844\n",
              "V14      -0.443523\n",
              "V15       0.150219\n",
              "V16       0.739453\n",
              "V17      -0.540980\n",
              "V18       0.476677\n",
              "V19       0.451773\n",
              "V20       0.203711\n",
              "V21      -0.246914\n",
              "V22      -0.633753\n",
              "V23      -0.120794\n",
              "V24      -0.385050\n",
              "V25      -0.069733\n",
              "V26       0.094199\n",
              "V27       0.246219\n",
              "V28       0.083076\n",
              "Amount    3.680000\n",
              "Class     0.000000\n",
              "Name: 9, dtype: float64"
            ]
          },
          "metadata": {},
          "execution_count": 20
        }
      ]
    },
    {
      "cell_type": "code",
      "source": [
        "card_dataset.Time.apply(lambda x : x -1  )"
      ],
      "metadata": {
        "colab": {
          "base_uri": "https://localhost:8080/"
        },
        "id": "XizHjKpWLxt_",
        "outputId": "105a9658-1817-4dd0-a177-e280419f9de2"
      },
      "execution_count": null,
      "outputs": [
        {
          "output_type": "execute_result",
          "data": {
            "text/plain": [
              "0           -1\n",
              "1           -1\n",
              "2            0\n",
              "3            0\n",
              "4            1\n",
              "         ...  \n",
              "35737    38239\n",
              "35738    38239\n",
              "35739    38240\n",
              "35740    38240\n",
              "35741    38240\n",
              "Name: Time, Length: 35742, dtype: int64"
            ]
          },
          "metadata": {},
          "execution_count": 21
        }
      ]
    },
    {
      "cell_type": "code",
      "source": [
        "# Create New Columns by mutiplication two columns together \n",
        "card_dataset['V1_V2'] = card_dataset['V1']*card_dataset['V2']"
      ],
      "metadata": {
        "id": "qCorJjLLrb2v"
      },
      "execution_count": null,
      "outputs": []
    },
    {
      "cell_type": "code",
      "source": [
        "sum_v1 = card_dataset['V1'].sum()"
      ],
      "metadata": {
        "id": "2_UOJhUxwHt5"
      },
      "execution_count": null,
      "outputs": []
    },
    {
      "cell_type": "code",
      "source": [
        "print(sum_v1)"
      ],
      "metadata": {
        "colab": {
          "base_uri": "https://localhost:8080/"
        },
        "id": "INRZdjuYwuE0",
        "outputId": "03a57749-9b01-4d62-9265-317aaf043b47"
      },
      "execution_count": null,
      "outputs": [
        {
          "output_type": "stream",
          "name": "stdout",
          "text": [
            "-7449.5839914563\n"
          ]
        }
      ]
    },
    {
      "cell_type": "markdown",
      "source": [
        "Group by "
      ],
      "metadata": {
        "id": "WkBeJIlNvbdW"
      }
    },
    {
      "cell_type": "code",
      "source": [
        "card_dataset.value_counts()"
      ],
      "metadata": {
        "colab": {
          "base_uri": "https://localhost:8080/"
        },
        "id": "mvdF8ogo16cT",
        "outputId": "ab772792-537c-4b9e-ad42-32076cb7d9c2"
      },
      "execution_count": null,
      "outputs": [
        {
          "output_type": "execute_result",
          "data": {
            "text/plain": [
              "Time   V1         V2        V3         V4         V5         V6         V7         V8         V9        V10        V11        V12        V13        V14        V15        V16        V17        V18        V19        V20        V21        V22        V23        V24        V25       V26        V27        V28        Amount  Class  V1_V2     \n",
              "7602   -4.516626  4.366391  -0.282225   0.641568  -0.694287   1.493967  -2.719045  -7.427753  2.301325   1.868013  -0.161406  -1.521360   2.828264   1.469545   0.514858   0.068406   0.907403   0.682999   0.420313  -0.838170   7.252584  -2.858266   0.930979  -0.668059  0.258568  -0.339574   0.719033  -0.032462  2.00    0.0    -19.721353    4\n",
              "31804  -1.783888  1.245670   2.097173   1.031059  -0.793755   0.566460  -0.403512   0.625924  0.627739  -0.124831  -1.036371  -0.111653  -1.024604  -0.264647   0.194921  -0.813251   0.703947  -0.396750   0.589646  -0.264628  -0.054154  -0.029875  -0.094100   0.056197  0.116731  -0.403204  -1.117816  -0.466715  1.00    0.0    -2.222135     4\n",
              "1548   -1.559446  1.425546   0.812589  -1.129381   0.507528   0.183507   0.654304   0.088059  0.480018   0.547216   0.066070   1.065234   0.982424  -0.609124  -1.381521   0.189597  -0.901688   0.025998   0.560580   0.451195  -0.283995  -0.413642  -0.234995  -0.789509  0.324851   0.419737   0.329608   0.351346  5.00    0.0    -2.223062     4\n",
              "74      1.038370  0.127486   0.184456   1.109950   0.441699   0.945283  -0.036715   0.350995  0.118950  -0.243289   0.578063   0.674730  -0.534231   0.446601   1.122885  -1.768001   1.241157  -2.449500  -1.747255  -0.335520   0.102520   0.605089   0.023092  -0.626463  0.479120  -0.166937   0.081247   0.001192  1.18    0.0     0.132378     4\n",
              "29150   1.218702  0.177978   0.307746   1.131989  -0.196770  -0.403596   0.065584  -0.094974  0.358942  -0.106009  -1.101184   0.118125  -0.169731   0.130161   0.284551   0.010156  -0.376658  -0.257847   0.126905  -0.113694  -0.236935  -0.605319  -0.059527  -0.167249  0.591082  -0.481346   0.024247   0.022717  22.55   0.0     0.216902     4\n",
              "                                                                                                                                                                                                                                                                                                                                                    ..\n",
              "20560   1.144670  0.153188   0.249264   1.337540   0.242991   0.574099  -0.171196   0.132194  1.469385  -0.311300   1.373002  -1.893743   0.835376   1.800683  -1.401612  -0.319936   0.536064   0.105427  -0.021864  -0.216005  -0.245208  -0.322910  -0.152030  -0.727499  0.672400  -0.325361   0.001013  -0.006517  22.99   0.0     0.175349     1\n",
              "20558   1.151331  0.085321   0.930061   1.432405  -0.625299  -0.162422  -0.571394   0.126638  1.914226  -0.311280   0.312256  -3.543241  -0.684957   2.064848   0.991480   0.237557   0.539302   0.317868  -1.171254  -0.348752  -0.024427   0.132488  -0.006082  -0.040151  0.333934  -0.292094   0.016171   0.017773  10.00   0.0     0.098233     1\n",
              "20556  -1.577822  0.648792   2.104465   3.147279  -0.339879   1.073770   0.069048   0.261729  0.431495   0.269680  -0.475317  -2.554669   3.080131   0.931985   0.223364   0.310919   0.500123   0.879650   0.854568   0.343491  -0.075971   0.289021  -0.478166  -0.434983  0.238168   0.377856   0.088573  -0.335457  167.59  0.0    -1.023678     1\n",
              "20555  -4.489405  4.860252  -1.687350   0.012208  -0.418374  -1.380857   0.857237  -0.244318  4.572081   6.174126   1.051564  -1.990621   2.418784   0.195182   0.173006  -1.124768   0.287317  -0.291438  -0.385414   2.521741  -0.686531   0.166458   0.265347   0.282161  0.218893  -0.488260   1.394343   0.342980  1.79    0.0    -21.819640    1\n",
              "38241   1.057020  0.007895   0.239256   1.236048   0.032239   0.350868   0.023279   0.137328  0.037981   0.021407   0.880712   1.148148  -0.081671   0.239341  -0.772170  -0.428115  -0.109138  -0.374709   0.030612  -0.071335  -0.043316  -0.022866  -0.155991  -0.283221  0.662538  -0.314989   0.027467   0.010613  53.96   0.0     0.008345     1\n",
              "Length: 35601, dtype: int64"
            ]
          },
          "metadata": {},
          "execution_count": 25
        }
      ]
    },
    {
      "cell_type": "code",
      "source": [
        "card_dataset.value_counts().count()"
      ],
      "metadata": {
        "colab": {
          "base_uri": "https://localhost:8080/"
        },
        "id": "JzYMSRm92b9j",
        "outputId": "1e1cf1fa-0b59-4346-ce6f-cdaf50f2c257"
      },
      "execution_count": null,
      "outputs": [
        {
          "output_type": "execute_result",
          "data": {
            "text/plain": [
              "35601"
            ]
          },
          "metadata": {},
          "execution_count": 26
        }
      ]
    },
    {
      "cell_type": "code",
      "source": [
        "card_dataset.V1.nunique()"
      ],
      "metadata": {
        "colab": {
          "base_uri": "https://localhost:8080/"
        },
        "id": "qqXzo03F2l4p",
        "outputId": "60a35b46-15ee-430d-d44c-66e1e35838eb"
      },
      "execution_count": null,
      "outputs": [
        {
          "output_type": "execute_result",
          "data": {
            "text/plain": [
              "34906"
            ]
          },
          "metadata": {},
          "execution_count": 27
        }
      ]
    },
    {
      "cell_type": "code",
      "source": [
        "card_dataset.V1.unique()"
      ],
      "metadata": {
        "colab": {
          "base_uri": "https://localhost:8080/"
        },
        "id": "hrVOi2n24Htg",
        "outputId": "d406dc4a-93a1-45eb-f387-277b5801a5ad"
      },
      "execution_count": null,
      "outputs": [
        {
          "output_type": "execute_result",
          "data": {
            "text/plain": [
              "array([-1.35980713,  1.19185711, -1.35835406, ...,  1.05702039,\n",
              "       -1.54622585, -0.23106234])"
            ]
          },
          "metadata": {},
          "execution_count": 28
        }
      ]
    },
    {
      "cell_type": "markdown",
      "source": [
        "NUMPY"
      ],
      "metadata": {
        "id": "-AuzmP5n4x_c"
      }
    },
    {
      "cell_type": "code",
      "source": [
        "# Creating numpy arrays from Python Lists \n",
        "print(np.array([1, 2, 3, 4]))"
      ],
      "metadata": {
        "colab": {
          "base_uri": "https://localhost:8080/"
        },
        "id": "-FT725IL4xhk",
        "outputId": "fb2135c1-8aa1-4410-b6c2-39f597523be5"
      },
      "execution_count": null,
      "outputs": [
        {
          "output_type": "stream",
          "name": "stdout",
          "text": [
            "[1 2 3 4]\n"
          ]
        }
      ]
    },
    {
      "cell_type": "markdown",
      "source": [
        "Creating Numpy arrays from Scratch \n",
        "\n",
        "Zeros, ones, full, arrange, linsapace"
      ],
      "metadata": {
        "id": "q2q4l0TX6qof"
      }
    },
    {
      "cell_type": "code",
      "source": [
        "np.zeros([2,4], dtype= int )"
      ],
      "metadata": {
        "colab": {
          "base_uri": "https://localhost:8080/"
        },
        "id": "SqMoeoyW6qXJ",
        "outputId": "8eb1f31d-8f8c-41d3-e3dd-194e1d3fbecb"
      },
      "execution_count": null,
      "outputs": [
        {
          "output_type": "execute_result",
          "data": {
            "text/plain": [
              "array([[0, 0, 0, 0],\n",
              "       [0, 0, 0, 0]])"
            ]
          },
          "metadata": {},
          "execution_count": 30
        }
      ]
    },
    {
      "cell_type": "code",
      "source": [
        "np.ones([3,5], dtype = float)"
      ],
      "metadata": {
        "colab": {
          "base_uri": "https://localhost:8080/"
        },
        "id": "lsaXYYs19AbI",
        "outputId": "40585c52-17af-421a-e38d-b6b611406a9d"
      },
      "execution_count": null,
      "outputs": [
        {
          "output_type": "execute_result",
          "data": {
            "text/plain": [
              "array([[1., 1., 1., 1., 1.],\n",
              "       [1., 1., 1., 1., 1.],\n",
              "       [1., 1., 1., 1., 1.]])"
            ]
          },
          "metadata": {},
          "execution_count": 31
        }
      ]
    },
    {
      "cell_type": "code",
      "source": [
        "print(np.arange(0, 20, 2))"
      ],
      "metadata": {
        "colab": {
          "base_uri": "https://localhost:8080/"
        },
        "id": "4eLSW-C89tkT",
        "outputId": "4995a6f5-5824-451d-a540-f7e61ae31621"
      },
      "execution_count": null,
      "outputs": [
        {
          "output_type": "stream",
          "name": "stdout",
          "text": [
            "[ 0  2  4  6  8 10 12 14 16 18]\n"
          ]
        }
      ]
    },
    {
      "cell_type": "code",
      "source": [
        "np.full([4, 5], 6.9)"
      ],
      "metadata": {
        "colab": {
          "base_uri": "https://localhost:8080/"
        },
        "id": "_2SKKkQG_WN_",
        "outputId": "04f8d33e-b9e2-4ff1-d39f-51a8fb04b359"
      },
      "execution_count": null,
      "outputs": [
        {
          "output_type": "execute_result",
          "data": {
            "text/plain": [
              "array([[6.9, 6.9, 6.9, 6.9, 6.9],\n",
              "       [6.9, 6.9, 6.9, 6.9, 6.9],\n",
              "       [6.9, 6.9, 6.9, 6.9, 6.9],\n",
              "       [6.9, 6.9, 6.9, 6.9, 6.9]])"
            ]
          },
          "metadata": {},
          "execution_count": 33
        }
      ]
    },
    {
      "cell_type": "code",
      "source": [
        "np.linspace(0, 1, 5)"
      ],
      "metadata": {
        "colab": {
          "base_uri": "https://localhost:8080/"
        },
        "id": "NBrWZd2aCS-_",
        "outputId": "252af706-830a-4357-f59e-e3c7c3a33b19"
      },
      "execution_count": null,
      "outputs": [
        {
          "output_type": "execute_result",
          "data": {
            "text/plain": [
              "array([0.  , 0.25, 0.5 , 0.75, 1.  ])"
            ]
          },
          "metadata": {},
          "execution_count": 34
        }
      ]
    },
    {
      "cell_type": "markdown",
      "source": [
        "random array"
      ],
      "metadata": {
        "id": "U1MlWAZpKKZo"
      }
    },
    {
      "cell_type": "code",
      "source": [
        "# make random array\n",
        "np.random.random([4, 4])"
      ],
      "metadata": {
        "colab": {
          "base_uri": "https://localhost:8080/"
        },
        "id": "PS2gGe3JCy01",
        "outputId": "583afb2d-381e-4f47-c1d8-c9228e7c82d6"
      },
      "execution_count": null,
      "outputs": [
        {
          "output_type": "execute_result",
          "data": {
            "text/plain": [
              "array([[0.30434984, 0.37114374, 0.60759504, 0.46403825],\n",
              "       [0.11738505, 0.25082398, 0.31965973, 0.55143373],\n",
              "       [0.74569302, 0.71095542, 0.63106928, 0.2213788 ],\n",
              "       [0.30748154, 0.87212321, 0.66150771, 0.5387272 ]])"
            ]
          },
          "metadata": {},
          "execution_count": 35
        }
      ]
    },
    {
      "cell_type": "code",
      "source": [
        "np.random.random([4, 4])"
      ],
      "metadata": {
        "colab": {
          "base_uri": "https://localhost:8080/"
        },
        "id": "74yv1v21KVS3",
        "outputId": "a6dc00b9-bd03-49b6-c4db-7cfa16f497bc"
      },
      "execution_count": null,
      "outputs": [
        {
          "output_type": "execute_result",
          "data": {
            "text/plain": [
              "array([[0.3753349 , 0.41136383, 0.48572205, 0.67357843],\n",
              "       [0.09875831, 0.77354902, 0.66860885, 0.23684581],\n",
              "       [0.31083617, 0.60154123, 0.93837836, 0.20088555],\n",
              "       [0.45928024, 0.83957222, 0.8285419 , 0.85831259]])"
            ]
          },
          "metadata": {},
          "execution_count": 36
        }
      ]
    },
    {
      "cell_type": "code",
      "source": [
        "# Seed for reproducibility \n",
        "np.random.seed(0)\n",
        "\n",
        "np.random.random([4, 4])"
      ],
      "metadata": {
        "colab": {
          "base_uri": "https://localhost:8080/"
        },
        "id": "tKUr85OQKawB",
        "outputId": "096d43ea-332d-44bb-b743-f37c29df623c"
      },
      "execution_count": null,
      "outputs": [
        {
          "output_type": "execute_result",
          "data": {
            "text/plain": [
              "array([[0.5488135 , 0.71518937, 0.60276338, 0.54488318],\n",
              "       [0.4236548 , 0.64589411, 0.43758721, 0.891773  ],\n",
              "       [0.96366276, 0.38344152, 0.79172504, 0.52889492],\n",
              "       [0.56804456, 0.92559664, 0.07103606, 0.0871293 ]])"
            ]
          },
          "metadata": {},
          "execution_count": 37
        }
      ]
    },
    {
      "cell_type": "code",
      "source": [
        "np.random.random([4, 4])"
      ],
      "metadata": {
        "colab": {
          "base_uri": "https://localhost:8080/"
        },
        "id": "KebxHBd8LLpK",
        "outputId": "57738b01-27f2-4cf4-9a0c-bda227ee15aa"
      },
      "execution_count": null,
      "outputs": [
        {
          "output_type": "execute_result",
          "data": {
            "text/plain": [
              "array([[0.0202184 , 0.83261985, 0.77815675, 0.87001215],\n",
              "       [0.97861834, 0.79915856, 0.46147936, 0.78052918],\n",
              "       [0.11827443, 0.63992102, 0.14335329, 0.94466892],\n",
              "       [0.52184832, 0.41466194, 0.26455561, 0.77423369]])"
            ]
          },
          "metadata": {},
          "execution_count": 38
        }
      ]
    },
    {
      "cell_type": "code",
      "source": [
        "np.random.normal(0, 1, [3, 3])"
      ],
      "metadata": {
        "colab": {
          "base_uri": "https://localhost:8080/"
        },
        "id": "ZaA0ZqKfLQiR",
        "outputId": "6d19cb95-003b-4503-ccb8-bb22540124ef"
      },
      "execution_count": null,
      "outputs": [
        {
          "output_type": "execute_result",
          "data": {
            "text/plain": [
              "array([[ 2.26975462, -1.45436567,  0.04575852],\n",
              "       [-0.18718385,  1.53277921,  1.46935877],\n",
              "       [ 0.15494743,  0.37816252, -0.88778575]])"
            ]
          },
          "metadata": {},
          "execution_count": 39
        }
      ]
    },
    {
      "cell_type": "code",
      "source": [
        "np.random.rand(4, 4)"
      ],
      "metadata": {
        "colab": {
          "base_uri": "https://localhost:8080/"
        },
        "id": "94f2YOptLw57",
        "outputId": "b24e3ed3-f985-4602-d8eb-f12846dae1c6"
      },
      "execution_count": null,
      "outputs": [
        {
          "output_type": "execute_result",
          "data": {
            "text/plain": [
              "array([[0.6976312 , 0.06022547, 0.66676672, 0.67063787],\n",
              "       [0.21038256, 0.1289263 , 0.31542835, 0.36371077],\n",
              "       [0.57019677, 0.43860151, 0.98837384, 0.10204481],\n",
              "       [0.20887676, 0.16130952, 0.65310833, 0.2532916 ]])"
            ]
          },
          "metadata": {},
          "execution_count": 40
        }
      ]
    },
    {
      "cell_type": "markdown",
      "source": [
        "**Array Indexing and Slicing **"
      ],
      "metadata": {
        "id": "yDGUiYFIL90a"
      }
    },
    {
      "cell_type": "markdown",
      "source": [
        "one-dimensional subarry "
      ],
      "metadata": {
        "id": "XqVZiNB6MDVE"
      }
    },
    {
      "cell_type": "code",
      "source": [
        "# One-dimensional subarray\n",
        "arr_ran = np.random.randint(20, size = 6)"
      ],
      "metadata": {
        "id": "tD7K4fsEL9lv"
      },
      "execution_count": null,
      "outputs": []
    },
    {
      "cell_type": "code",
      "source": [
        "print(arr_ran)"
      ],
      "metadata": {
        "colab": {
          "base_uri": "https://localhost:8080/"
        },
        "id": "BZRr7_ulpOs9",
        "outputId": "a164faed-7ea5-4339-a639-489864632bb6"
      },
      "execution_count": null,
      "outputs": [
        {
          "output_type": "stream",
          "name": "stdout",
          "text": [
            "[15  3 15 13 16 17]\n"
          ]
        }
      ]
    },
    {
      "cell_type": "code",
      "source": [
        "print(arr_ran[1], arr_ran[-1], arr_ran[3])"
      ],
      "metadata": {
        "colab": {
          "base_uri": "https://localhost:8080/"
        },
        "id": "hcWJ_swVpgxW",
        "outputId": "5517c3e9-6886-4f99-b7a6-930122b464d6"
      },
      "execution_count": null,
      "outputs": [
        {
          "output_type": "stream",
          "name": "stdout",
          "text": [
            "3 17 13\n"
          ]
        }
      ]
    },
    {
      "cell_type": "code",
      "source": [
        "# Multi-dimensional array \n",
        "arr_ran_multi = np.random.randint(30, size = (3, 4))"
      ],
      "metadata": {
        "id": "tOSvTJQhpzU9"
      },
      "execution_count": null,
      "outputs": []
    },
    {
      "cell_type": "code",
      "source": [
        "print(arr_ran_multi)"
      ],
      "metadata": {
        "colab": {
          "base_uri": "https://localhost:8080/"
        },
        "id": "fLj4gd96qWNE",
        "outputId": "3a1d867d-b671-4733-ef86-2c49abcc2bba"
      },
      "execution_count": null,
      "outputs": [
        {
          "output_type": "stream",
          "name": "stdout",
          "text": [
            "[[ 5  9  3  0]\n",
            " [ 5  0 17 18]\n",
            " [ 4  2 16 29]]\n"
          ]
        }
      ]
    },
    {
      "cell_type": "code",
      "source": [
        "# Slicing \n",
        "print(*arr_ran)"
      ],
      "metadata": {
        "colab": {
          "base_uri": "https://localhost:8080/"
        },
        "id": "rAlwXudVqZn6",
        "outputId": "dd858bd8-2316-4b76-cfc2-28f65ceb0ce9"
      },
      "execution_count": null,
      "outputs": [
        {
          "output_type": "stream",
          "name": "stdout",
          "text": [
            "15 3 15 13 16 17\n"
          ]
        }
      ]
    },
    {
      "cell_type": "code",
      "source": [
        "print(*arr_ran[0:3])"
      ],
      "metadata": {
        "colab": {
          "base_uri": "https://localhost:8080/"
        },
        "id": "VANwFEckrbnb",
        "outputId": "07bc7303-28dc-4b11-f4cd-b2a5ac6d291e"
      },
      "execution_count": null,
      "outputs": [
        {
          "output_type": "stream",
          "name": "stdout",
          "text": [
            "15 3 15\n"
          ]
        }
      ]
    },
    {
      "cell_type": "code",
      "source": [
        "print(arr_ran_multi)"
      ],
      "metadata": {
        "colab": {
          "base_uri": "https://localhost:8080/"
        },
        "id": "EQ14COxgrmED",
        "outputId": "42f4b8da-d98d-474b-ccdb-23442bb1c9ae"
      },
      "execution_count": null,
      "outputs": [
        {
          "output_type": "stream",
          "name": "stdout",
          "text": [
            "[[ 5  9  3  0]\n",
            " [ 5  0 17 18]\n",
            " [ 4  2 16 29]]\n"
          ]
        }
      ]
    },
    {
      "cell_type": "code",
      "source": [
        "print(arr_ran_multi[:2,:3])"
      ],
      "metadata": {
        "colab": {
          "base_uri": "https://localhost:8080/"
        },
        "id": "WRYkSPOJsLGC",
        "outputId": "870b6586-8d3a-4aca-ce4c-00bb4654f27a"
      },
      "execution_count": null,
      "outputs": [
        {
          "output_type": "stream",
          "name": "stdout",
          "text": [
            "[[ 5  9  3]\n",
            " [ 5  0 17]]\n"
          ]
        }
      ]
    },
    {
      "cell_type": "code",
      "source": [
        "# Reshape\n",
        "grid = np.arange(1, 10)\n",
        "grid.shape"
      ],
      "metadata": {
        "colab": {
          "base_uri": "https://localhost:8080/"
        },
        "id": "3YxwMSYrsdQL",
        "outputId": "8965888f-f3de-40c9-fb2b-e8bd7b605350"
      },
      "execution_count": null,
      "outputs": [
        {
          "output_type": "execute_result",
          "data": {
            "text/plain": [
              "(9,)"
            ]
          },
          "metadata": {},
          "execution_count": 53
        }
      ]
    },
    {
      "cell_type": "code",
      "source": [
        "grid.reshape((3, 3))"
      ],
      "metadata": {
        "colab": {
          "base_uri": "https://localhost:8080/"
        },
        "id": "YxcrC0sFuBEj",
        "outputId": "49b12e44-25f5-4e9d-f8fd-ccc5b8b491ce"
      },
      "execution_count": null,
      "outputs": [
        {
          "output_type": "execute_result",
          "data": {
            "text/plain": [
              "array([[1, 2, 3],\n",
              "       [4, 5, 6],\n",
              "       [7, 8, 9]])"
            ]
          },
          "metadata": {},
          "execution_count": 54
        }
      ]
    },
    {
      "cell_type": "code",
      "source": [
        "x = np.array([1, 2, 3])"
      ],
      "metadata": {
        "id": "__l3MlY4uwK_"
      },
      "execution_count": null,
      "outputs": []
    },
    {
      "cell_type": "code",
      "source": [
        "x.shape "
      ],
      "metadata": {
        "colab": {
          "base_uri": "https://localhost:8080/"
        },
        "id": "GACUD0Dfu4gy",
        "outputId": "864f78ff-5c5d-4872-d384-da7ecfbaf348"
      },
      "execution_count": null,
      "outputs": [
        {
          "output_type": "execute_result",
          "data": {
            "text/plain": [
              "(3,)"
            ]
          },
          "metadata": {},
          "execution_count": 56
        }
      ]
    },
    {
      "cell_type": "code",
      "source": [
        "x.reshape((1, 3)).shape"
      ],
      "metadata": {
        "colab": {
          "base_uri": "https://localhost:8080/"
        },
        "id": "jZw4No_eu6c3",
        "outputId": "292ee36b-ffad-4b61-ede9-37339bcef255"
      },
      "execution_count": null,
      "outputs": [
        {
          "output_type": "execute_result",
          "data": {
            "text/plain": [
              "(1, 3)"
            ]
          },
          "metadata": {},
          "execution_count": 57
        }
      ]
    },
    {
      "cell_type": "markdown",
      "source": [
        "Array Concatenation and Spliting "
      ],
      "metadata": {
        "id": "rmeXbUm8wW6j"
      }
    },
    {
      "cell_type": "code",
      "source": [
        "x_arr = np.array([1, 2, 3])\n",
        "y_arr = np.array([3, 2, 1])"
      ],
      "metadata": {
        "id": "gprN_e4MvwNJ"
      },
      "execution_count": null,
      "outputs": []
    },
    {
      "cell_type": "code",
      "source": [
        "np.concatenate((x_arr, y_arr))"
      ],
      "metadata": {
        "colab": {
          "base_uri": "https://localhost:8080/"
        },
        "id": "4UGOXyKZwoqE",
        "outputId": "0e0e6b38-6776-4f7a-e981-5bcc4dc58520"
      },
      "execution_count": null,
      "outputs": [
        {
          "output_type": "execute_result",
          "data": {
            "text/plain": [
              "array([1, 2, 3, 3, 2, 1])"
            ]
          },
          "metadata": {},
          "execution_count": 59
        }
      ]
    },
    {
      "cell_type": "code",
      "source": [
        "grid  = np.array([[1,2,3],\n",
        "               [4,5,6]])\n",
        "    \n",
        "grid "
      ],
      "metadata": {
        "colab": {
          "base_uri": "https://localhost:8080/"
        },
        "id": "gFDrh3Pew2jM",
        "outputId": "c690fc30-0359-4878-bbdc-80d8de1b9d39"
      },
      "execution_count": null,
      "outputs": [
        {
          "output_type": "execute_result",
          "data": {
            "text/plain": [
              "array([[1, 2, 3],\n",
              "       [4, 5, 6]])"
            ]
          },
          "metadata": {},
          "execution_count": 79
        }
      ]
    },
    {
      "cell_type": "markdown",
      "source": [
        "Broadcasting and Vectorized operations"
      ],
      "metadata": {
        "id": "2qA1C217zRYl"
      }
    },
    {
      "cell_type": "code",
      "source": [
        "a = np.arange(3)"
      ],
      "metadata": {
        "id": "iFGpJXFSzRBj"
      },
      "execution_count": null,
      "outputs": []
    },
    {
      "cell_type": "code",
      "source": [
        "print(*a)"
      ],
      "metadata": {
        "colab": {
          "base_uri": "https://localhost:8080/"
        },
        "id": "qo403MaZz2je",
        "outputId": "29846d53-77a9-4201-81a5-8334de5bec85"
      },
      "execution_count": null,
      "outputs": [
        {
          "output_type": "stream",
          "name": "stdout",
          "text": [
            "0 1 2\n"
          ]
        }
      ]
    },
    {
      "cell_type": "code",
      "source": [
        "print(*(a + 5))"
      ],
      "metadata": {
        "colab": {
          "base_uri": "https://localhost:8080/"
        },
        "id": "L1ySV-v1z4es",
        "outputId": "cf53b3f3-2ec0-408a-e156-3437a059bd12"
      },
      "execution_count": null,
      "outputs": [
        {
          "output_type": "stream",
          "name": "stdout",
          "text": [
            "5 6 7\n"
          ]
        }
      ]
    },
    {
      "cell_type": "markdown",
      "source": [
        "Manipulating and Comparing "
      ],
      "metadata": {
        "id": "Yhe6WlcS07pQ"
      }
    },
    {
      "cell_type": "markdown",
      "source": [
        "Sorting "
      ],
      "metadata": {
        "id": "-nllArFb3RtR"
      }
    },
    {
      "cell_type": "code",
      "source": [
        "x = np.array([2, 1, 3, 5, 4])"
      ],
      "metadata": {
        "id": "Gl1VVoRH07Z6"
      },
      "execution_count": null,
      "outputs": []
    },
    {
      "cell_type": "code",
      "source": [
        "print(x)"
      ],
      "metadata": {
        "colab": {
          "base_uri": "https://localhost:8080/"
        },
        "id": "-cCwa5KgDT3-",
        "outputId": "edbeaaeb-a8d1-4504-feb5-46e913fdb4a4"
      },
      "execution_count": null,
      "outputs": [
        {
          "output_type": "stream",
          "name": "stdout",
          "text": [
            "[2 1 3 5 4]\n"
          ]
        }
      ]
    },
    {
      "cell_type": "code",
      "source": [
        "x.sort()"
      ],
      "metadata": {
        "id": "5Tv9v1j8DK45"
      },
      "execution_count": null,
      "outputs": []
    },
    {
      "cell_type": "code",
      "source": [
        "print(x)"
      ],
      "metadata": {
        "colab": {
          "base_uri": "https://localhost:8080/"
        },
        "id": "pS952WiCDYtj",
        "outputId": "eb101a98-e0f5-4560-d07d-9b0c1b5cfc17"
      },
      "execution_count": null,
      "outputs": [
        {
          "output_type": "stream",
          "name": "stdout",
          "text": [
            "[1 2 3 4 5]\n"
          ]
        }
      ]
    },
    {
      "cell_type": "markdown",
      "source": [
        "# **MATPLOTLIB**"
      ],
      "metadata": {
        "id": "6MMoQLbQDbM0"
      }
    },
    {
      "cell_type": "code",
      "source": [
        "# Importing the dependences\n",
        "import math \n",
        "import numpy as np \n",
        "import pandas as pd \n",
        "import matplotlib.pyplot as plt\n"
      ],
      "metadata": {
        "id": "UfvP5qrbDe9R"
      },
      "execution_count": null,
      "outputs": []
    },
    {
      "cell_type": "code",
      "source": [
        "plt.plot()"
      ],
      "metadata": {
        "colab": {
          "base_uri": "https://localhost:8080/",
          "height": 282
        },
        "id": "0LNHFCT-HdFo",
        "outputId": "8fed09ef-2b3b-4b3b-f763-3d9d45e856b1"
      },
      "execution_count": null,
      "outputs": [
        {
          "output_type": "execute_result",
          "data": {
            "text/plain": [
              "[]"
            ]
          },
          "metadata": {},
          "execution_count": 96
        },
        {
          "output_type": "display_data",
          "data": {
            "text/plain": [
              "<Figure size 432x288 with 1 Axes>"
            ],
            "image/png": "[encoded data removed]"
          },
          "metadata": {
            "needs_background": "light"
          }
        }
      ]
    },
    {
      "cell_type": "code",
      "source": [
        "x= [15, 30 ,15]\n",
        "y= [15, 90, 120]\n",
        "plt.plot(x, y, color= 'red')\n",
        "plt.show()"
      ],
      "metadata": {
        "colab": {
          "base_uri": "https://localhost:8080/",
          "height": 265
        },
        "id": "P_OaPD6THhXb",
        "outputId": "a094032f-571b-4a7d-a9bc-532159a545fa"
      },
      "execution_count": null,
      "outputs": [
        {
          "output_type": "display_data",
          "data": {
            "text/plain": [
              "<Figure size 432x288 with 1 Axes>"
            ],
            "image/png": "[encoded data removed]"
          },
          "metadata": {
            "needs_background": "light"
          }
        }
      ]
    },
    {
      "cell_type": "markdown",
      "source": [
        "Pyplot API và Object Orientrd API"
      ],
      "metadata": {
        "id": "CIwP5Xc6Z7AV"
      }
    },
    {
      "cell_type": "code",
      "source": [
        "x = np.linspace(0, 10, 1000)"
      ],
      "metadata": {
        "id": "LBCGhHF0aDMZ"
      },
      "execution_count": null,
      "outputs": []
    },
    {
      "cell_type": "code",
      "source": [
        "print(x)"
      ],
      "metadata": {
        "colab": {
          "base_uri": "https://localhost:8080/"
        },
        "id": "QvBYlz0ycURg",
        "outputId": "ba4716b7-8c0a-4238-c6e7-3340f20af450"
      },
      "execution_count": null,
      "outputs": [
        {
          "output_type": "stream",
          "name": "stdout",
          "text": [
            "[ 0.          0.01001001  0.02002002  0.03003003  0.04004004  0.05005005\n",
            "  0.06006006  0.07007007  0.08008008  0.09009009  0.1001001   0.11011011\n",
            "  0.12012012  0.13013013  0.14014014  0.15015015  0.16016016  0.17017017\n",
            "  0.18018018  0.19019019  0.2002002   0.21021021  0.22022022  0.23023023\n",
            "  0.24024024  0.25025025  0.26026026  0.27027027  0.28028028  0.29029029\n",
            "  0.3003003   0.31031031  0.32032032  0.33033033  0.34034034  0.35035035\n",
            "  0.36036036  0.37037037  0.38038038  0.39039039  0.4004004   0.41041041\n",
            "  0.42042042  0.43043043  0.44044044  0.45045045  0.46046046  0.47047047\n",
            "  0.48048048  0.49049049  0.5005005   0.51051051  0.52052052  0.53053053\n",
            "  0.54054054  0.55055055  0.56056056  0.57057057  0.58058058  0.59059059\n",
            "  0.6006006   0.61061061  0.62062062  0.63063063  0.64064064  0.65065065\n",
            "  0.66066066  0.67067067  0.68068068  0.69069069  0.7007007   0.71071071\n",
            "  0.72072072  0.73073073  0.74074074  0.75075075  0.76076076  0.77077077\n",
            "  0.78078078  0.79079079  0.8008008   0.81081081  0.82082082  0.83083083\n",
            "  0.84084084  0.85085085  0.86086086  0.87087087  0.88088088  0.89089089\n",
            "  0.9009009   0.91091091  0.92092092  0.93093093  0.94094094  0.95095095\n",
            "  0.96096096  0.97097097  0.98098098  0.99099099  1.001001    1.01101101\n",
            "  1.02102102  1.03103103  1.04104104  1.05105105  1.06106106  1.07107107\n",
            "  1.08108108  1.09109109  1.1011011   1.11111111  1.12112112  1.13113113\n",
            "  1.14114114  1.15115115  1.16116116  1.17117117  1.18118118  1.19119119\n",
            "  1.2012012   1.21121121  1.22122122  1.23123123  1.24124124  1.25125125\n",
            "  1.26126126  1.27127127  1.28128128  1.29129129  1.3013013   1.31131131\n",
            "  1.32132132  1.33133133  1.34134134  1.35135135  1.36136136  1.37137137\n",
            "  1.38138138  1.39139139  1.4014014   1.41141141  1.42142142  1.43143143\n",
            "  1.44144144  1.45145145  1.46146146  1.47147147  1.48148148  1.49149149\n",
            "  1.5015015   1.51151151  1.52152152  1.53153153  1.54154154  1.55155155\n",
            "  1.56156156  1.57157157  1.58158158  1.59159159  1.6016016   1.61161161\n",
            "  1.62162162  1.63163163  1.64164164  1.65165165  1.66166166  1.67167167\n",
            "  1.68168168  1.69169169  1.7017017   1.71171171  1.72172172  1.73173173\n",
            "  1.74174174  1.75175175  1.76176176  1.77177177  1.78178178  1.79179179\n",
            "  1.8018018   1.81181181  1.82182182  1.83183183  1.84184184  1.85185185\n",
            "  1.86186186  1.87187187  1.88188188  1.89189189  1.9019019   1.91191191\n",
            "  1.92192192  1.93193193  1.94194194  1.95195195  1.96196196  1.97197197\n",
            "  1.98198198  1.99199199  2.002002    2.01201201  2.02202202  2.03203203\n",
            "  2.04204204  2.05205205  2.06206206  2.07207207  2.08208208  2.09209209\n",
            "  2.1021021   2.11211211  2.12212212  2.13213213  2.14214214  2.15215215\n",
            "  2.16216216  2.17217217  2.18218218  2.19219219  2.2022022   2.21221221\n",
            "  2.22222222  2.23223223  2.24224224  2.25225225  2.26226226  2.27227227\n",
            "  2.28228228  2.29229229  2.3023023   2.31231231  2.32232232  2.33233233\n",
            "  2.34234234  2.35235235  2.36236236  2.37237237  2.38238238  2.39239239\n",
            "  2.4024024   2.41241241  2.42242242  2.43243243  2.44244244  2.45245245\n",
            "  2.46246246  2.47247247  2.48248248  2.49249249  2.5025025   2.51251251\n",
            "  2.52252252  2.53253253  2.54254254  2.55255255  2.56256256  2.57257257\n",
            "  2.58258258  2.59259259  2.6026026   2.61261261  2.62262262  2.63263263\n",
            "  2.64264264  2.65265265  2.66266266  2.67267267  2.68268268  2.69269269\n",
            "  2.7027027   2.71271271  2.72272272  2.73273273  2.74274274  2.75275275\n",
            "  2.76276276  2.77277277  2.78278278  2.79279279  2.8028028   2.81281281\n",
            "  2.82282282  2.83283283  2.84284284  2.85285285  2.86286286  2.87287287\n",
            "  2.88288288  2.89289289  2.9029029   2.91291291  2.92292292  2.93293293\n",
            "  2.94294294  2.95295295  2.96296296  2.97297297  2.98298298  2.99299299\n",
            "  3.003003    3.01301301  3.02302302  3.03303303  3.04304304  3.05305305\n",
            "  3.06306306  3.07307307  3.08308308  3.09309309  3.1031031   3.11311311\n",
            "  3.12312312  3.13313313  3.14314314  3.15315315  3.16316316  3.17317317\n",
            "  3.18318318  3.19319319  3.2032032   3.21321321  3.22322322  3.23323323\n",
            "  3.24324324  3.25325325  3.26326326  3.27327327  3.28328328  3.29329329\n",
            "  3.3033033   3.31331331  3.32332332  3.33333333  3.34334334  3.35335335\n",
            "  3.36336336  3.37337337  3.38338338  3.39339339  3.4034034   3.41341341\n",
            "  3.42342342  3.43343343  3.44344344  3.45345345  3.46346346  3.47347347\n",
            "  3.48348348  3.49349349  3.5035035   3.51351351  3.52352352  3.53353353\n",
            "  3.54354354  3.55355355  3.56356356  3.57357357  3.58358358  3.59359359\n",
            "  3.6036036   3.61361361  3.62362362  3.63363363  3.64364364  3.65365365\n",
            "  3.66366366  3.67367367  3.68368368  3.69369369  3.7037037   3.71371371\n",
            "  3.72372372  3.73373373  3.74374374  3.75375375  3.76376376  3.77377377\n",
            "  3.78378378  3.79379379  3.8038038   3.81381381  3.82382382  3.83383383\n",
            "  3.84384384  3.85385385  3.86386386  3.87387387  3.88388388  3.89389389\n",
            "  3.9039039   3.91391391  3.92392392  3.93393393  3.94394394  3.95395395\n",
            "  3.96396396  3.97397397  3.98398398  3.99399399  4.004004    4.01401401\n",
            "  4.02402402  4.03403403  4.04404404  4.05405405  4.06406406  4.07407407\n",
            "  4.08408408  4.09409409  4.1041041   4.11411411  4.12412412  4.13413413\n",
            "  4.14414414  4.15415415  4.16416416  4.17417417  4.18418418  4.19419419\n",
            "  4.2042042   4.21421421  4.22422422  4.23423423  4.24424424  4.25425425\n",
            "  4.26426426  4.27427427  4.28428428  4.29429429  4.3043043   4.31431431\n",
            "  4.32432432  4.33433433  4.34434434  4.35435435  4.36436436  4.37437437\n",
            "  4.38438438  4.39439439  4.4044044   4.41441441  4.42442442  4.43443443\n",
            "  4.44444444  4.45445445  4.46446446  4.47447447  4.48448448  4.49449449\n",
            "  4.5045045   4.51451451  4.52452452  4.53453453  4.54454454  4.55455455\n",
            "  4.56456456  4.57457457  4.58458458  4.59459459  4.6046046   4.61461461\n",
            "  4.62462462  4.63463463  4.64464464  4.65465465  4.66466466  4.67467467\n",
            "  4.68468468  4.69469469  4.7047047   4.71471471  4.72472472  4.73473473\n",
            "  4.74474474  4.75475475  4.76476476  4.77477477  4.78478478  4.79479479\n",
            "  4.8048048   4.81481481  4.82482482  4.83483483  4.84484484  4.85485485\n",
            "  4.86486486  4.87487487  4.88488488  4.89489489  4.9049049   4.91491491\n",
            "  4.92492492  4.93493493  4.94494494  4.95495495  4.96496496  4.97497497\n",
            "  4.98498498  4.99499499  5.00500501  5.01501502  5.02502503  5.03503504\n",
            "  5.04504505  5.05505506  5.06506507  5.07507508  5.08508509  5.0950951\n",
            "  5.10510511  5.11511512  5.12512513  5.13513514  5.14514515  5.15515516\n",
            "  5.16516517  5.17517518  5.18518519  5.1951952   5.20520521  5.21521522\n",
            "  5.22522523  5.23523524  5.24524525  5.25525526  5.26526527  5.27527528\n",
            "  5.28528529  5.2952953   5.30530531  5.31531532  5.32532533  5.33533534\n",
            "  5.34534535  5.35535536  5.36536537  5.37537538  5.38538539  5.3953954\n",
            "  5.40540541  5.41541542  5.42542543  5.43543544  5.44544545  5.45545546\n",
            "  5.46546547  5.47547548  5.48548549  5.4954955   5.50550551  5.51551552\n",
            "  5.52552553  5.53553554  5.54554555  5.55555556  5.56556557  5.57557558\n",
            "  5.58558559  5.5955956   5.60560561  5.61561562  5.62562563  5.63563564\n",
            "  5.64564565  5.65565566  5.66566567  5.67567568  5.68568569  5.6956957\n",
            "  5.70570571  5.71571572  5.72572573  5.73573574  5.74574575  5.75575576\n",
            "  5.76576577  5.77577578  5.78578579  5.7957958   5.80580581  5.81581582\n",
            "  5.82582583  5.83583584  5.84584585  5.85585586  5.86586587  5.87587588\n",
            "  5.88588589  5.8958959   5.90590591  5.91591592  5.92592593  5.93593594\n",
            "  5.94594595  5.95595596  5.96596597  5.97597598  5.98598599  5.995996\n",
            "  6.00600601  6.01601602  6.02602603  6.03603604  6.04604605  6.05605606\n",
            "  6.06606607  6.07607608  6.08608609  6.0960961   6.10610611  6.11611612\n",
            "  6.12612613  6.13613614  6.14614615  6.15615616  6.16616617  6.17617618\n",
            "  6.18618619  6.1961962   6.20620621  6.21621622  6.22622623  6.23623624\n",
            "  6.24624625  6.25625626  6.26626627  6.27627628  6.28628629  6.2962963\n",
            "  6.30630631  6.31631632  6.32632633  6.33633634  6.34634635  6.35635636\n",
            "  6.36636637  6.37637638  6.38638639  6.3963964   6.40640641  6.41641642\n",
            "  6.42642643  6.43643644  6.44644645  6.45645646  6.46646647  6.47647648\n",
            "  6.48648649  6.4964965   6.50650651  6.51651652  6.52652653  6.53653654\n",
            "  6.54654655  6.55655656  6.56656657  6.57657658  6.58658659  6.5965966\n",
            "  6.60660661  6.61661662  6.62662663  6.63663664  6.64664665  6.65665666\n",
            "  6.66666667  6.67667668  6.68668669  6.6966967   6.70670671  6.71671672\n",
            "  6.72672673  6.73673674  6.74674675  6.75675676  6.76676677  6.77677678\n",
            "  6.78678679  6.7967968   6.80680681  6.81681682  6.82682683  6.83683684\n",
            "  6.84684685  6.85685686  6.86686687  6.87687688  6.88688689  6.8968969\n",
            "  6.90690691  6.91691692  6.92692693  6.93693694  6.94694695  6.95695696\n",
            "  6.96696697  6.97697698  6.98698699  6.996997    7.00700701  7.01701702\n",
            "  7.02702703  7.03703704  7.04704705  7.05705706  7.06706707  7.07707708\n",
            "  7.08708709  7.0970971   7.10710711  7.11711712  7.12712713  7.13713714\n",
            "  7.14714715  7.15715716  7.16716717  7.17717718  7.18718719  7.1971972\n",
            "  7.20720721  7.21721722  7.22722723  7.23723724  7.24724725  7.25725726\n",
            "  7.26726727  7.27727728  7.28728729  7.2972973   7.30730731  7.31731732\n",
            "  7.32732733  7.33733734  7.34734735  7.35735736  7.36736737  7.37737738\n",
            "  7.38738739  7.3973974   7.40740741  7.41741742  7.42742743  7.43743744\n",
            "  7.44744745  7.45745746  7.46746747  7.47747748  7.48748749  7.4974975\n",
            "  7.50750751  7.51751752  7.52752753  7.53753754  7.54754755  7.55755756\n",
            "  7.56756757  7.57757758  7.58758759  7.5975976   7.60760761  7.61761762\n",
            "  7.62762763  7.63763764  7.64764765  7.65765766  7.66766767  7.67767768\n",
            "  7.68768769  7.6976977   7.70770771  7.71771772  7.72772773  7.73773774\n",
            "  7.74774775  7.75775776  7.76776777  7.77777778  7.78778779  7.7977978\n",
            "  7.80780781  7.81781782  7.82782783  7.83783784  7.84784785  7.85785786\n",
            "  7.86786787  7.87787788  7.88788789  7.8978979   7.90790791  7.91791792\n",
            "  7.92792793  7.93793794  7.94794795  7.95795796  7.96796797  7.97797798\n",
            "  7.98798799  7.997998    8.00800801  8.01801802  8.02802803  8.03803804\n",
            "  8.04804805  8.05805806  8.06806807  8.07807808  8.08808809  8.0980981\n",
            "  8.10810811  8.11811812  8.12812813  8.13813814  8.14814815  8.15815816\n",
            "  8.16816817  8.17817818  8.18818819  8.1981982   8.20820821  8.21821822\n",
            "  8.22822823  8.23823824  8.24824825  8.25825826  8.26826827  8.27827828\n",
            "  8.28828829  8.2982983   8.30830831  8.31831832  8.32832833  8.33833834\n",
            "  8.34834835  8.35835836  8.36836837  8.37837838  8.38838839  8.3983984\n",
            "  8.40840841  8.41841842  8.42842843  8.43843844  8.44844845  8.45845846\n",
            "  8.46846847  8.47847848  8.48848849  8.4984985   8.50850851  8.51851852\n",
            "  8.52852853  8.53853854  8.54854855  8.55855856  8.56856857  8.57857858\n",
            "  8.58858859  8.5985986   8.60860861  8.61861862  8.62862863  8.63863864\n",
            "  8.64864865  8.65865866  8.66866867  8.67867868  8.68868869  8.6986987\n",
            "  8.70870871  8.71871872  8.72872873  8.73873874  8.74874875  8.75875876\n",
            "  8.76876877  8.77877878  8.78878879  8.7987988   8.80880881  8.81881882\n",
            "  8.82882883  8.83883884  8.84884885  8.85885886  8.86886887  8.87887888\n",
            "  8.88888889  8.8988989   8.90890891  8.91891892  8.92892893  8.93893894\n",
            "  8.94894895  8.95895896  8.96896897  8.97897898  8.98898899  8.998999\n",
            "  9.00900901  9.01901902  9.02902903  9.03903904  9.04904905  9.05905906\n",
            "  9.06906907  9.07907908  9.08908909  9.0990991   9.10910911  9.11911912\n",
            "  9.12912913  9.13913914  9.14914915  9.15915916  9.16916917  9.17917918\n",
            "  9.18918919  9.1991992   9.20920921  9.21921922  9.22922923  9.23923924\n",
            "  9.24924925  9.25925926  9.26926927  9.27927928  9.28928929  9.2992993\n",
            "  9.30930931  9.31931932  9.32932933  9.33933934  9.34934935  9.35935936\n",
            "  9.36936937  9.37937938  9.38938939  9.3993994   9.40940941  9.41941942\n",
            "  9.42942943  9.43943944  9.44944945  9.45945946  9.46946947  9.47947948\n",
            "  9.48948949  9.4994995   9.50950951  9.51951952  9.52952953  9.53953954\n",
            "  9.54954955  9.55955956  9.56956957  9.57957958  9.58958959  9.5995996\n",
            "  9.60960961  9.61961962  9.62962963  9.63963964  9.64964965  9.65965966\n",
            "  9.66966967  9.67967968  9.68968969  9.6996997   9.70970971  9.71971972\n",
            "  9.72972973  9.73973974  9.74974975  9.75975976  9.76976977  9.77977978\n",
            "  9.78978979  9.7997998   9.80980981  9.81981982  9.82982983  9.83983984\n",
            "  9.84984985  9.85985986  9.86986987  9.87987988  9.88988989  9.8998999\n",
            "  9.90990991  9.91991992  9.92992993  9.93993994  9.94994995  9.95995996\n",
            "  9.96996997  9.97997998  9.98998999 10.        ]\n"
          ]
        }
      ]
    },
    {
      "cell_type": "code",
      "source": [
        "plt.plot(x, np.sin(x), color='green');\n",
        "plt.xlabel('Bien X')\n",
        "plt.ylabel('SIN(x)')"
      ],
      "metadata": {
        "colab": {
          "base_uri": "https://localhost:8080/",
          "height": 296
        },
        "id": "KMFwoRDccXEM",
        "outputId": "bf76a06c-a817-49a0-c053-0028c955010b"
      },
      "execution_count": null,
      "outputs": [
        {
          "output_type": "execute_result",
          "data": {
            "text/plain": [
              "Text(0, 0.5, 'SIN(x)')"
            ]
          },
          "metadata": {},
          "execution_count": 103
        },
        {
          "output_type": "display_data",
          "data": {
            "text/plain": [
              "<Figure size 432x288 with 1 Axes>"
            ],
            "image/png": "[encoded data removed]"
          },
          "metadata": {
            "needs_background": "light"
          }
        }
      ]
    },
    {
      "cell_type": "code",
      "source": [
        "x= [1, 2, 3, 4]\n",
        "y= [11,22,33,44]\n",
        "\n",
        "# Set up plot \n",
        "fig, ax= plt.subplots(figsize= (5, 5))\n",
        "\n",
        "ax.plot(x, y);\n",
        "\n",
        "ax.set(title = 'A simple plot',\n",
        "       xlabel ='X', \n",
        "       ylabel = 'Y');"
      ],
      "metadata": {
        "colab": {
          "base_uri": "https://localhost:8080/",
          "height": 350
        },
        "id": "X6sVC2PigErb",
        "outputId": "074c0a04-6441-43ab-d18f-403e18b1a4d7"
      },
      "execution_count": null,
      "outputs": [
        {
          "output_type": "display_data",
          "data": {
            "text/plain": [
              "<Figure size 360x360 with 1 Axes>"
            ],
            "image/png": "[encoded data removed]"
          },
          "metadata": {
            "needs_background": "light"
          }
        }
      ]
    },
    {
      "cell_type": "markdown",
      "source": [
        "Most common types of Mathploylib plots\n",
        "\n",
        "*line\n",
        "\n",
        "*scatter \n",
        "\n",
        "*bar \n",
        "\n",
        "*hist \n",
        "\n",
        "*subplots"
      ],
      "metadata": {
        "id": "deg6APGrhGtR"
      }
    },
    {
      "cell_type": "code",
      "source": [
        "# Line \n",
        "x = np.linspace(0, 10, 100)\n",
        "\n",
        "# oop plot the line \n",
        "\n",
        "fig, ax = plt.subplots()\n",
        "ax.plot(x, x**3)"
      ],
      "metadata": {
        "colab": {
          "base_uri": "https://localhost:8080/",
          "height": 282
        },
        "id": "wIUPS-nihXhh",
        "outputId": "8452928d-fe1d-487c-b4ca-3a4ff6b2510a"
      },
      "execution_count": null,
      "outputs": [
        {
          "output_type": "execute_result",
          "data": {
            "text/plain": [
              "[<matplotlib.lines.Line2D at 0x7f403789e510>]"
            ]
          },
          "metadata": {},
          "execution_count": 108
        },
        {
          "output_type": "display_data",
          "data": {
            "text/plain": [
              "<Figure size 432x288 with 1 Axes>"
            ],
            "image/png": "[encoded data removed]"
          },
          "metadata": {
            "needs_background": "light"
          }
        }
      ]
    },
    {
      "cell_type": "markdown",
      "source": [
        "Scatter "
      ],
      "metadata": {
        "id": "dDUM8n5ViGpm"
      }
    },
    {
      "cell_type": "code",
      "source": [
        "# Pyplot API \n",
        "plt.scatter(x, x**3)"
      ],
      "metadata": {
        "colab": {
          "base_uri": "https://localhost:8080/",
          "height": 282
        },
        "id": "M0CTxEshiGCA",
        "outputId": "a4cdf3ba-31b2-46f0-c30d-b8c4a2af3b9d"
      },
      "execution_count": null,
      "outputs": [
        {
          "output_type": "execute_result",
          "data": {
            "text/plain": [
              "<matplotlib.collections.PathCollection at 0x7f40378bbd50>"
            ]
          },
          "metadata": {},
          "execution_count": 109
        },
        {
          "output_type": "display_data",
          "data": {
            "text/plain": [
              "<Figure size 432x288 with 1 Axes>"
            ],
            "image/png": "[encoded data removed]"
          },
          "metadata": {
            "needs_background": "light"
          }
        }
      ]
    },
    {
      "cell_type": "code",
      "source": [
        "# OO API\n",
        "\n",
        "# Prepare the new data \n",
        "rng = np.random.RandomState(0)\n",
        "\n",
        "x = rng.random(100)\n",
        "y = rng.random(100)\n",
        "colors = rng.rand(100)\n",
        "sizes = 1000*rng.random(100)\n",
        "\n",
        "fix, ax = plt.subplots()\n",
        "ax.scatter(x, y, s= sizes, c= colors);"
      ],
      "metadata": {
        "colab": {
          "base_uri": "https://localhost:8080/",
          "height": 265
        },
        "id": "b-dqTPhajUN2",
        "outputId": "613955d5-27d5-460b-cdc9-94d944dade77"
      },
      "execution_count": null,
      "outputs": [
        {
          "output_type": "display_data",
          "data": {
            "text/plain": [
              "<Figure size 432x288 with 1 Axes>"
            ],
            "image/png": "[encoded data removed]"
          },
          "metadata": {
            "needs_background": "light"
          }
        }
      ]
    },
    {
      "cell_type": "markdown",
      "source": [
        "Bar \n",
        "\n",
        "* Vertical \n",
        "* Horizontal \n"
      ],
      "metadata": {
        "id": "isez1rdjlH4N"
      }
    },
    {
      "cell_type": "code",
      "source": [
        "# Prepare data \n",
        "soft_drink_prices = {\n",
        "    \"Coca Cola\" : 10,\n",
        "    \"Pessi\" : 12,\n",
        "    \"SPrite\" : 5\n",
        "}\n",
        "\n",
        "fig, ax = plt.subplots()\n",
        "ax.bar(soft_drink_prices.keys(), soft_drink_prices.values());"
      ],
      "metadata": {
        "colab": {
          "base_uri": "https://localhost:8080/",
          "height": 265
        },
        "id": "k_eM9UC5karf",
        "outputId": "905aa14f-a3c7-430d-e83d-b9b155f72545"
      },
      "execution_count": null,
      "outputs": [
        {
          "output_type": "display_data",
          "data": {
            "text/plain": [
              "<Figure size 432x288 with 1 Axes>"
            ],
            "image/png": "[encoded data removed]"
          },
          "metadata": {
            "needs_background": "light"
          }
        }
      ]
    },
    {
      "cell_type": "markdown",
      "source": [
        "# PROJECT : Data Visualization"
      ],
      "metadata": {
        "id": "wP5Jc-A1tA1c"
      }
    },
    {
      "cell_type": "code",
      "source": [
        "import math \n",
        "import numpy as np \n",
        "import matplotlib.pyplot as plt\n",
        "import pandas as pd "
      ],
      "metadata": {
        "id": "wuhjliMytAjM"
      },
      "execution_count": 16,
      "outputs": []
    },
    {
      "cell_type": "code",
      "source": [
        "cali_dataset = pd.read_csv('/content/california_cities.csv')"
      ],
      "metadata": {
        "id": "lvbvn13kRcf_"
      },
      "execution_count": 7,
      "outputs": []
    },
    {
      "cell_type": "code",
      "source": [
        "print(cali_dataset.shape)"
      ],
      "metadata": {
        "colab": {
          "base_uri": "https://localhost:8080/"
        },
        "id": "FapYqwLuR8SA",
        "outputId": "c116d651-893e-4506-ba06-eb963067bb4e"
      },
      "execution_count": 8,
      "outputs": [
        {
          "output_type": "stream",
          "name": "stdout",
          "text": [
            "(482, 14)\n"
          ]
        }
      ]
    },
    {
      "cell_type": "code",
      "source": [
        "cali_dataset"
      ],
      "metadata": {
        "colab": {
          "base_uri": "https://localhost:8080/",
          "height": 505
        },
        "id": "6cHPGNx2TCoT",
        "outputId": "4657a00e-1764-4d75-9d44-ae690caebc77"
      },
      "execution_count": null,
      "outputs": [
        {
          "output_type": "execute_result",
          "data": {
            "text/plain": [
              "     Unnamed: 0         city       latd       longd  elevation_m  \\\n",
              "0             0     Adelanto  34.576111 -117.432778        875.0   \n",
              "1             1  AgouraHills  34.153333 -118.761667        281.0   \n",
              "2             2      Alameda  37.756111 -122.274444          NaN   \n",
              "3             3       Albany  37.886944 -122.297778          NaN   \n",
              "4             4     Alhambra  34.081944 -118.135000        150.0   \n",
              "..          ...          ...        ...         ...          ...   \n",
              "477         477   Yountville  38.403056 -122.362222         30.0   \n",
              "478         478        Yreka  41.726667 -122.637500        787.0   \n",
              "479         479     YubaCity  39.134722 -121.626111         18.0   \n",
              "480         480      Yucaipa  34.030278 -117.048611        798.0   \n",
              "481         481  YuccaValley  34.133333 -116.416667       1027.0   \n",
              "\n",
              "     elevation_ft  population_total  area_total_sq_mi  area_land_sq_mi  \\\n",
              "0          2871.0             31765            56.027           56.009   \n",
              "1           922.0             20330             7.822            7.793   \n",
              "2            33.0             75467            22.960           10.611   \n",
              "3            43.0             18969             5.465            1.788   \n",
              "4           492.0             83089             7.632            7.631   \n",
              "..            ...               ...               ...              ...   \n",
              "477          98.0              2933             1.531            1.531   \n",
              "478        2582.0              7765            10.053            9.980   \n",
              "479          59.0             64925            14.656           14.578   \n",
              "480        2618.0             51367            27.893           27.888   \n",
              "481        3369.0             20700            40.015           40.015   \n",
              "\n",
              "     area_water_sq_mi  area_total_km2  area_land_km2  area_water_km2  \\\n",
              "0               0.018         145.107        145.062           0.046   \n",
              "1               0.029          20.260         20.184           0.076   \n",
              "2              12.349          59.465         27.482          31.983   \n",
              "3               3.677          14.155          4.632           9.524   \n",
              "4               0.001          19.766         19.763           0.003   \n",
              "..                ...             ...            ...             ...   \n",
              "477             0.000           3.966          3.966           0.000   \n",
              "478             0.073          26.036         25.847           0.188   \n",
              "479             0.078          37.959         37.758           0.201   \n",
              "480             0.005          72.244         72.231           0.013   \n",
              "481             0.000         103.639        103.639           0.000   \n",
              "\n",
              "     area_water_percent  \n",
              "0                  0.03  \n",
              "1                  0.37  \n",
              "2                 53.79  \n",
              "3                 67.28  \n",
              "4                  0.01  \n",
              "..                  ...  \n",
              "477                0.00  \n",
              "478                0.72  \n",
              "479                0.53  \n",
              "480                0.02  \n",
              "481                0.00  \n",
              "\n",
              "[482 rows x 14 columns]"
            ],
            "text/html": [
              "\n",
              "  <div id=\"df-92ab68de-4a89-449a-b4c4-98afc6cd19b1\">\n",
              "    <div class=\"colab-df-container\">\n",
              "      <div>\n",
              "<style scoped>\n",
              "    .dataframe tbody tr th:only-of-type {\n",
              "        vertical-align: middle;\n",
              "    }\n",
              "\n",
              "    .dataframe tbody tr th {\n",
              "        vertical-align: top;\n",
              "    }\n",
              "\n",
              "    .dataframe thead th {\n",
              "        text-align: right;\n",
              "    }\n",
              "</style>\n",
              "<table border=\"1\" class=\"dataframe\">\n",
              "  <thead>\n",
              "    <tr style=\"text-align: right;\">\n",
              "      <th></th>\n",
              "      <th>Unnamed: 0</th>\n",
              "      <th>city</th>\n",
              "      <th>latd</th>\n",
              "      <th>longd</th>\n",
              "      <th>elevation_m</th>\n",
              "      <th>elevation_ft</th>\n",
              "      <th>population_total</th>\n",
              "      <th>area_total_sq_mi</th>\n",
              "      <th>area_land_sq_mi</th>\n",
              "      <th>area_water_sq_mi</th>\n",
              "      <th>area_total_km2</th>\n",
              "      <th>area_land_km2</th>\n",
              "      <th>area_water_km2</th>\n",
              "      <th>area_water_percent</th>\n",
              "    </tr>\n",
              "  </thead>\n",
              "  <tbody>\n",
              "    <tr>\n",
              "      <th>0</th>\n",
              "      <td>0</td>\n",
              "      <td>Adelanto</td>\n",
              "      <td>34.576111</td>\n",
              "      <td>-117.432778</td>\n",
              "      <td>875.0</td>\n",
              "      <td>2871.0</td>\n",
              "      <td>31765</td>\n",
              "      <td>56.027</td>\n",
              "      <td>56.009</td>\n",
              "      <td>0.018</td>\n",
              "      <td>145.107</td>\n",
              "      <td>145.062</td>\n",
              "      <td>0.046</td>\n",
              "      <td>0.03</td>\n",
              "    </tr>\n",
              "    <tr>\n",
              "      <th>1</th>\n",
              "      <td>1</td>\n",
              "      <td>AgouraHills</td>\n",
              "      <td>34.153333</td>\n",
              "      <td>-118.761667</td>\n",
              "      <td>281.0</td>\n",
              "      <td>922.0</td>\n",
              "      <td>20330</td>\n",
              "      <td>7.822</td>\n",
              "      <td>7.793</td>\n",
              "      <td>0.029</td>\n",
              "      <td>20.260</td>\n",
              "      <td>20.184</td>\n",
              "      <td>0.076</td>\n",
              "      <td>0.37</td>\n",
              "    </tr>\n",
              "    <tr>\n",
              "      <th>2</th>\n",
              "      <td>2</td>\n",
              "      <td>Alameda</td>\n",
              "      <td>37.756111</td>\n",
              "      <td>-122.274444</td>\n",
              "      <td>NaN</td>\n",
              "      <td>33.0</td>\n",
              "      <td>75467</td>\n",
              "      <td>22.960</td>\n",
              "      <td>10.611</td>\n",
              "      <td>12.349</td>\n",
              "      <td>59.465</td>\n",
              "      <td>27.482</td>\n",
              "      <td>31.983</td>\n",
              "      <td>53.79</td>\n",
              "    </tr>\n",
              "    <tr>\n",
              "      <th>3</th>\n",
              "      <td>3</td>\n",
              "      <td>Albany</td>\n",
              "      <td>37.886944</td>\n",
              "      <td>-122.297778</td>\n",
              "      <td>NaN</td>\n",
              "      <td>43.0</td>\n",
              "      <td>18969</td>\n",
              "      <td>5.465</td>\n",
              "      <td>1.788</td>\n",
              "      <td>3.677</td>\n",
              "      <td>14.155</td>\n",
              "      <td>4.632</td>\n",
              "      <td>9.524</td>\n",
              "      <td>67.28</td>\n",
              "    </tr>\n",
              "    <tr>\n",
              "      <th>4</th>\n",
              "      <td>4</td>\n",
              "      <td>Alhambra</td>\n",
              "      <td>34.081944</td>\n",
              "      <td>-118.135000</td>\n",
              "      <td>150.0</td>\n",
              "      <td>492.0</td>\n",
              "      <td>83089</td>\n",
              "      <td>7.632</td>\n",
              "      <td>7.631</td>\n",
              "      <td>0.001</td>\n",
              "      <td>19.766</td>\n",
              "      <td>19.763</td>\n",
              "      <td>0.003</td>\n",
              "      <td>0.01</td>\n",
              "    </tr>\n",
              "    <tr>\n",
              "      <th>...</th>\n",
              "      <td>...</td>\n",
              "      <td>...</td>\n",
              "      <td>...</td>\n",
              "      <td>...</td>\n",
              "      <td>...</td>\n",
              "      <td>...</td>\n",
              "      <td>...</td>\n",
              "      <td>...</td>\n",
              "      <td>...</td>\n",
              "      <td>...</td>\n",
              "      <td>...</td>\n",
              "      <td>...</td>\n",
              "      <td>...</td>\n",
              "      <td>...</td>\n",
              "    </tr>\n",
              "    <tr>\n",
              "      <th>477</th>\n",
              "      <td>477</td>\n",
              "      <td>Yountville</td>\n",
              "      <td>38.403056</td>\n",
              "      <td>-122.362222</td>\n",
              "      <td>30.0</td>\n",
              "      <td>98.0</td>\n",
              "      <td>2933</td>\n",
              "      <td>1.531</td>\n",
              "      <td>1.531</td>\n",
              "      <td>0.000</td>\n",
              "      <td>3.966</td>\n",
              "      <td>3.966</td>\n",
              "      <td>0.000</td>\n",
              "      <td>0.00</td>\n",
              "    </tr>\n",
              "    <tr>\n",
              "      <th>478</th>\n",
              "      <td>478</td>\n",
              "      <td>Yreka</td>\n",
              "      <td>41.726667</td>\n",
              "      <td>-122.637500</td>\n",
              "      <td>787.0</td>\n",
              "      <td>2582.0</td>\n",
              "      <td>7765</td>\n",
              "      <td>10.053</td>\n",
              "      <td>9.980</td>\n",
              "      <td>0.073</td>\n",
              "      <td>26.036</td>\n",
              "      <td>25.847</td>\n",
              "      <td>0.188</td>\n",
              "      <td>0.72</td>\n",
              "    </tr>\n",
              "    <tr>\n",
              "      <th>479</th>\n",
              "      <td>479</td>\n",
              "      <td>YubaCity</td>\n",
              "      <td>39.134722</td>\n",
              "      <td>-121.626111</td>\n",
              "      <td>18.0</td>\n",
              "      <td>59.0</td>\n",
              "      <td>64925</td>\n",
              "      <td>14.656</td>\n",
              "      <td>14.578</td>\n",
              "      <td>0.078</td>\n",
              "      <td>37.959</td>\n",
              "      <td>37.758</td>\n",
              "      <td>0.201</td>\n",
              "      <td>0.53</td>\n",
              "    </tr>\n",
              "    <tr>\n",
              "      <th>480</th>\n",
              "      <td>480</td>\n",
              "      <td>Yucaipa</td>\n",
              "      <td>34.030278</td>\n",
              "      <td>-117.048611</td>\n",
              "      <td>798.0</td>\n",
              "      <td>2618.0</td>\n",
              "      <td>51367</td>\n",
              "      <td>27.893</td>\n",
              "      <td>27.888</td>\n",
              "      <td>0.005</td>\n",
              "      <td>72.244</td>\n",
              "      <td>72.231</td>\n",
              "      <td>0.013</td>\n",
              "      <td>0.02</td>\n",
              "    </tr>\n",
              "    <tr>\n",
              "      <th>481</th>\n",
              "      <td>481</td>\n",
              "      <td>YuccaValley</td>\n",
              "      <td>34.133333</td>\n",
              "      <td>-116.416667</td>\n",
              "      <td>1027.0</td>\n",
              "      <td>3369.0</td>\n",
              "      <td>20700</td>\n",
              "      <td>40.015</td>\n",
              "      <td>40.015</td>\n",
              "      <td>0.000</td>\n",
              "      <td>103.639</td>\n",
              "      <td>103.639</td>\n",
              "      <td>0.000</td>\n",
              "      <td>0.00</td>\n",
              "    </tr>\n",
              "  </tbody>\n",
              "</table>\n",
              "<p>482 rows × 14 columns</p>\n",
              "</div>\n",
              "      <button class=\"colab-df-convert\" onclick=\"convertToInteractive('df-92ab68de-4a89-449a-b4c4-98afc6cd19b1')\"\n",
              "              title=\"Convert this dataframe to an interactive table.\"\n",
              "              style=\"display:none;\">\n",
              "        \n",
              "  <svg xmlns=\"http://www.w3.org/2000/svg\" height=\"24px\"viewBox=\"0 0 24 24\"\n",
              "       width=\"24px\">\n",
              "    <path d=\"M0 0h24v24H0V0z\" fill=\"none\"/>\n",
              "    <path d=\"M18.56 5.44l.94 2.06.94-2.06 2.06-.94-2.06-.94-.94-2.06-.94 2.06-2.06.94zm-11 1L8.5 8.5l.94-2.06 2.06-.94-2.06-.94L8.5 2.5l-.94 2.06-2.06.94zm10 10l.94 2.06.94-2.06 2.06-.94-2.06-.94-.94-2.06-.94 2.06-2.06.94z\"/><path d=\"M17.41 7.96l-1.37-1.37c-.4-.4-.92-.59-1.43-.59-.52 0-1.04.2-1.43.59L10.3 9.45l-7.72 7.72c-.78.78-.78 2.05 0 2.83L4 21.41c.39.39.9.59 1.41.59.51 0 1.02-.2 1.41-.59l7.78-7.78 2.81-2.81c.8-.78.8-2.07 0-2.86zM5.41 20L4 18.59l7.72-7.72 1.47 1.35L5.41 20z\"/>\n",
              "  </svg>\n",
              "      </button>\n",
              "      \n",
              "  <style>\n",
              "    .colab-df-container {\n",
              "      display:flex;\n",
              "      flex-wrap:wrap;\n",
              "      gap: 12px;\n",
              "    }\n",
              "\n",
              "    .colab-df-convert {\n",
              "      background-color: #E8F0FE;\n",
              "      border: none;\n",
              "      border-radius: 50%;\n",
              "      cursor: pointer;\n",
              "      display: none;\n",
              "      fill: #1967D2;\n",
              "      height: 32px;\n",
              "      padding: 0 0 0 0;\n",
              "      width: 32px;\n",
              "    }\n",
              "\n",
              "    .colab-df-convert:hover {\n",
              "      background-color: #E2EBFA;\n",
              "      box-shadow: 0px 1px 2px rgba(60, 64, 67, 0.3), 0px 1px 3px 1px rgba(60, 64, 67, 0.15);\n",
              "      fill: #174EA6;\n",
              "    }\n",
              "\n",
              "    [theme=dark] .colab-df-convert {\n",
              "      background-color: #3B4455;\n",
              "      fill: #D2E3FC;\n",
              "    }\n",
              "\n",
              "    [theme=dark] .colab-df-convert:hover {\n",
              "      background-color: #434B5C;\n",
              "      box-shadow: 0px 1px 3px 1px rgba(0, 0, 0, 0.15);\n",
              "      filter: drop-shadow(0px 1px 2px rgba(0, 0, 0, 0.3));\n",
              "      fill: #FFFFFF;\n",
              "    }\n",
              "  </style>\n",
              "\n",
              "      <script>\n",
              "        const buttonEl =\n",
              "          document.querySelector('#df-92ab68de-4a89-449a-b4c4-98afc6cd19b1 button.colab-df-convert');\n",
              "        buttonEl.style.display =\n",
              "          google.colab.kernel.accessAllowed ? 'block' : 'none';\n",
              "\n",
              "        async function convertToInteractive(key) {\n",
              "          const element = document.querySelector('#df-92ab68de-4a89-449a-b4c4-98afc6cd19b1');\n",
              "          const dataTable =\n",
              "            await google.colab.kernel.invokeFunction('convertToInteractive',\n",
              "                                                     [key], {});\n",
              "          if (!dataTable) return;\n",
              "\n",
              "          const docLinkHtml = 'Like what you see? Visit the ' +\n",
              "            '<a target=\"_blank\" href=https://colab.research.google.com/notebooks/data_table.ipynb>data table notebook</a>'\n",
              "            + ' to learn more about interactive tables.';\n",
              "          element.innerHTML = '';\n",
              "          dataTable['output_type'] = 'display_data';\n",
              "          await google.colab.output.renderOutput(dataTable, element);\n",
              "          const docLink = document.createElement('div');\n",
              "          docLink.innerHTML = docLinkHtml;\n",
              "          element.appendChild(docLink);\n",
              "        }\n",
              "      </script>\n",
              "    </div>\n",
              "  </div>\n",
              "  "
            ]
          },
          "metadata": {},
          "execution_count": 4
        }
      ]
    },
    {
      "cell_type": "code",
      "source": [
        "cali_dataset.head()"
      ],
      "metadata": {
        "colab": {
          "base_uri": "https://localhost:8080/",
          "height": 287
        },
        "id": "2j0B2kuPTGyX",
        "outputId": "059a1183-78ec-4f79-b2e6-3b2ecd772e11"
      },
      "execution_count": null,
      "outputs": [
        {
          "output_type": "execute_result",
          "data": {
            "text/plain": [
              "   Unnamed: 0         city       latd       longd  elevation_m  elevation_ft  \\\n",
              "0           0     Adelanto  34.576111 -117.432778        875.0        2871.0   \n",
              "1           1  AgouraHills  34.153333 -118.761667        281.0         922.0   \n",
              "2           2      Alameda  37.756111 -122.274444          NaN          33.0   \n",
              "3           3       Albany  37.886944 -122.297778          NaN          43.0   \n",
              "4           4     Alhambra  34.081944 -118.135000        150.0         492.0   \n",
              "\n",
              "   population_total  area_total_sq_mi  area_land_sq_mi  area_water_sq_mi  \\\n",
              "0             31765            56.027           56.009             0.018   \n",
              "1             20330             7.822            7.793             0.029   \n",
              "2             75467            22.960           10.611            12.349   \n",
              "3             18969             5.465            1.788             3.677   \n",
              "4             83089             7.632            7.631             0.001   \n",
              "\n",
              "   area_total_km2  area_land_km2  area_water_km2  area_water_percent  \n",
              "0         145.107        145.062           0.046                0.03  \n",
              "1          20.260         20.184           0.076                0.37  \n",
              "2          59.465         27.482          31.983               53.79  \n",
              "3          14.155          4.632           9.524               67.28  \n",
              "4          19.766         19.763           0.003                0.01  "
            ],
            "text/html": [
              "\n",
              "  <div id=\"df-a49ed9f6-0224-4b26-aad1-96002c8ccce9\">\n",
              "    <div class=\"colab-df-container\">\n",
              "      <div>\n",
              "<style scoped>\n",
              "    .dataframe tbody tr th:only-of-type {\n",
              "        vertical-align: middle;\n",
              "    }\n",
              "\n",
              "    .dataframe tbody tr th {\n",
              "        vertical-align: top;\n",
              "    }\n",
              "\n",
              "    .dataframe thead th {\n",
              "        text-align: right;\n",
              "    }\n",
              "</style>\n",
              "<table border=\"1\" class=\"dataframe\">\n",
              "  <thead>\n",
              "    <tr style=\"text-align: right;\">\n",
              "      <th></th>\n",
              "      <th>Unnamed: 0</th>\n",
              "      <th>city</th>\n",
              "      <th>latd</th>\n",
              "      <th>longd</th>\n",
              "      <th>elevation_m</th>\n",
              "      <th>elevation_ft</th>\n",
              "      <th>population_total</th>\n",
              "      <th>area_total_sq_mi</th>\n",
              "      <th>area_land_sq_mi</th>\n",
              "      <th>area_water_sq_mi</th>\n",
              "      <th>area_total_km2</th>\n",
              "      <th>area_land_km2</th>\n",
              "      <th>area_water_km2</th>\n",
              "      <th>area_water_percent</th>\n",
              "    </tr>\n",
              "  </thead>\n",
              "  <tbody>\n",
              "    <tr>\n",
              "      <th>0</th>\n",
              "      <td>0</td>\n",
              "      <td>Adelanto</td>\n",
              "      <td>34.576111</td>\n",
              "      <td>-117.432778</td>\n",
              "      <td>875.0</td>\n",
              "      <td>2871.0</td>\n",
              "      <td>31765</td>\n",
              "      <td>56.027</td>\n",
              "      <td>56.009</td>\n",
              "      <td>0.018</td>\n",
              "      <td>145.107</td>\n",
              "      <td>145.062</td>\n",
              "      <td>0.046</td>\n",
              "      <td>0.03</td>\n",
              "    </tr>\n",
              "    <tr>\n",
              "      <th>1</th>\n",
              "      <td>1</td>\n",
              "      <td>AgouraHills</td>\n",
              "      <td>34.153333</td>\n",
              "      <td>-118.761667</td>\n",
              "      <td>281.0</td>\n",
              "      <td>922.0</td>\n",
              "      <td>20330</td>\n",
              "      <td>7.822</td>\n",
              "      <td>7.793</td>\n",
              "      <td>0.029</td>\n",
              "      <td>20.260</td>\n",
              "      <td>20.184</td>\n",
              "      <td>0.076</td>\n",
              "      <td>0.37</td>\n",
              "    </tr>\n",
              "    <tr>\n",
              "      <th>2</th>\n",
              "      <td>2</td>\n",
              "      <td>Alameda</td>\n",
              "      <td>37.756111</td>\n",
              "      <td>-122.274444</td>\n",
              "      <td>NaN</td>\n",
              "      <td>33.0</td>\n",
              "      <td>75467</td>\n",
              "      <td>22.960</td>\n",
              "      <td>10.611</td>\n",
              "      <td>12.349</td>\n",
              "      <td>59.465</td>\n",
              "      <td>27.482</td>\n",
              "      <td>31.983</td>\n",
              "      <td>53.79</td>\n",
              "    </tr>\n",
              "    <tr>\n",
              "      <th>3</th>\n",
              "      <td>3</td>\n",
              "      <td>Albany</td>\n",
              "      <td>37.886944</td>\n",
              "      <td>-122.297778</td>\n",
              "      <td>NaN</td>\n",
              "      <td>43.0</td>\n",
              "      <td>18969</td>\n",
              "      <td>5.465</td>\n",
              "      <td>1.788</td>\n",
              "      <td>3.677</td>\n",
              "      <td>14.155</td>\n",
              "      <td>4.632</td>\n",
              "      <td>9.524</td>\n",
              "      <td>67.28</td>\n",
              "    </tr>\n",
              "    <tr>\n",
              "      <th>4</th>\n",
              "      <td>4</td>\n",
              "      <td>Alhambra</td>\n",
              "      <td>34.081944</td>\n",
              "      <td>-118.135000</td>\n",
              "      <td>150.0</td>\n",
              "      <td>492.0</td>\n",
              "      <td>83089</td>\n",
              "      <td>7.632</td>\n",
              "      <td>7.631</td>\n",
              "      <td>0.001</td>\n",
              "      <td>19.766</td>\n",
              "      <td>19.763</td>\n",
              "      <td>0.003</td>\n",
              "      <td>0.01</td>\n",
              "    </tr>\n",
              "  </tbody>\n",
              "</table>\n",
              "</div>\n",
              "      <button class=\"colab-df-convert\" onclick=\"convertToInteractive('df-a49ed9f6-0224-4b26-aad1-96002c8ccce9')\"\n",
              "              title=\"Convert this dataframe to an interactive table.\"\n",
              "              style=\"display:none;\">\n",
              "        \n",
              "  <svg xmlns=\"http://www.w3.org/2000/svg\" height=\"24px\"viewBox=\"0 0 24 24\"\n",
              "       width=\"24px\">\n",
              "    <path d=\"M0 0h24v24H0V0z\" fill=\"none\"/>\n",
              "    <path d=\"M18.56 5.44l.94 2.06.94-2.06 2.06-.94-2.06-.94-.94-2.06-.94 2.06-2.06.94zm-11 1L8.5 8.5l.94-2.06 2.06-.94-2.06-.94L8.5 2.5l-.94 2.06-2.06.94zm10 10l.94 2.06.94-2.06 2.06-.94-2.06-.94-.94-2.06-.94 2.06-2.06.94z\"/><path d=\"M17.41 7.96l-1.37-1.37c-.4-.4-.92-.59-1.43-.59-.52 0-1.04.2-1.43.59L10.3 9.45l-7.72 7.72c-.78.78-.78 2.05 0 2.83L4 21.41c.39.39.9.59 1.41.59.51 0 1.02-.2 1.41-.59l7.78-7.78 2.81-2.81c.8-.78.8-2.07 0-2.86zM5.41 20L4 18.59l7.72-7.72 1.47 1.35L5.41 20z\"/>\n",
              "  </svg>\n",
              "      </button>\n",
              "      \n",
              "  <style>\n",
              "    .colab-df-container {\n",
              "      display:flex;\n",
              "      flex-wrap:wrap;\n",
              "      gap: 12px;\n",
              "    }\n",
              "\n",
              "    .colab-df-convert {\n",
              "      background-color: #E8F0FE;\n",
              "      border: none;\n",
              "      border-radius: 50%;\n",
              "      cursor: pointer;\n",
              "      display: none;\n",
              "      fill: #1967D2;\n",
              "      height: 32px;\n",
              "      padding: 0 0 0 0;\n",
              "      width: 32px;\n",
              "    }\n",
              "\n",
              "    .colab-df-convert:hover {\n",
              "      background-color: #E2EBFA;\n",
              "      box-shadow: 0px 1px 2px rgba(60, 64, 67, 0.3), 0px 1px 3px 1px rgba(60, 64, 67, 0.15);\n",
              "      fill: #174EA6;\n",
              "    }\n",
              "\n",
              "    [theme=dark] .colab-df-convert {\n",
              "      background-color: #3B4455;\n",
              "      fill: #D2E3FC;\n",
              "    }\n",
              "\n",
              "    [theme=dark] .colab-df-convert:hover {\n",
              "      background-color: #434B5C;\n",
              "      box-shadow: 0px 1px 3px 1px rgba(0, 0, 0, 0.15);\n",
              "      filter: drop-shadow(0px 1px 2px rgba(0, 0, 0, 0.3));\n",
              "      fill: #FFFFFF;\n",
              "    }\n",
              "  </style>\n",
              "\n",
              "      <script>\n",
              "        const buttonEl =\n",
              "          document.querySelector('#df-a49ed9f6-0224-4b26-aad1-96002c8ccce9 button.colab-df-convert');\n",
              "        buttonEl.style.display =\n",
              "          google.colab.kernel.accessAllowed ? 'block' : 'none';\n",
              "\n",
              "        async function convertToInteractive(key) {\n",
              "          const element = document.querySelector('#df-a49ed9f6-0224-4b26-aad1-96002c8ccce9');\n",
              "          const dataTable =\n",
              "            await google.colab.kernel.invokeFunction('convertToInteractive',\n",
              "                                                     [key], {});\n",
              "          if (!dataTable) return;\n",
              "\n",
              "          const docLinkHtml = 'Like what you see? Visit the ' +\n",
              "            '<a target=\"_blank\" href=https://colab.research.google.com/notebooks/data_table.ipynb>data table notebook</a>'\n",
              "            + ' to learn more about interactive tables.';\n",
              "          element.innerHTML = '';\n",
              "          dataTable['output_type'] = 'display_data';\n",
              "          await google.colab.output.renderOutput(dataTable, element);\n",
              "          const docLink = document.createElement('div');\n",
              "          docLink.innerHTML = docLinkHtml;\n",
              "          element.appendChild(docLink);\n",
              "        }\n",
              "      </script>\n",
              "    </div>\n",
              "  </div>\n",
              "  "
            ]
          },
          "metadata": {},
          "execution_count": 5
        }
      ]
    },
    {
      "cell_type": "code",
      "source": [
        "# Extract Lad longd (Kinh do va vi do)\n",
        "\n",
        "lat, lon = cali_dataset['latd'], cali_dataset['longd']\n",
        "print(lat)\n",
        "print(lon)"
      ],
      "metadata": {
        "colab": {
          "base_uri": "https://localhost:8080/"
        },
        "id": "YoH-9SO4Uy1q",
        "outputId": "793d126c-a074-4ebd-bb39-2d919b3bd419"
      },
      "execution_count": 14,
      "outputs": [
        {
          "output_type": "stream",
          "name": "stdout",
          "text": [
            "0      34.576111\n",
            "1      34.153333\n",
            "2      37.756111\n",
            "3      37.886944\n",
            "4      34.081944\n",
            "         ...    \n",
            "477    38.403056\n",
            "478    41.726667\n",
            "479    39.134722\n",
            "480    34.030278\n",
            "481    34.133333\n",
            "Name: latd, Length: 482, dtype: float64\n",
            "0     -117.432778\n",
            "1     -118.761667\n",
            "2     -122.274444\n",
            "3     -122.297778\n",
            "4     -118.135000\n",
            "          ...    \n",
            "477   -122.362222\n",
            "478   -122.637500\n",
            "479   -121.626111\n",
            "480   -117.048611\n",
            "481   -116.416667\n",
            "Name: longd, Length: 482, dtype: float64\n"
          ]
        }
      ]
    },
    {
      "cell_type": "code",
      "source": [
        "population, area = cali_dataset['population_total'], cali_dataset['area_land_km2']\n",
        "plt.scatter(lon, lat,\n",
        "            c = np.log10(population), cmap = 'viridis')\n",
        "\n",
        "plt.axis('equal')\n",
        "plt.xlabel('longlatutide')\n",
        "plt.ylabel('latitude')\n",
        "plt.colorbar(label='Poplation')"
      ],
      "metadata": {
        "colab": {
          "base_uri": "https://localhost:8080/",
          "height": 296
        },
        "id": "1PtzOfOjaF2f",
        "outputId": "261ad2fe-e0d2-42fe-946b-d85cb527955f"
      },
      "execution_count": 23,
      "outputs": [
        {
          "output_type": "execute_result",
          "data": {
            "text/plain": [
              "<matplotlib.colorbar.Colorbar at 0x7f0eccbdd1d0>"
            ]
          },
          "metadata": {},
          "execution_count": 23
        },
        {
          "output_type": "display_data",
          "data": {
            "text/plain": [
              "<Figure size 432x288 with 2 Axes>"
            ],
            "image/png": "[encoded data removed]"
          },
          "metadata": {
            "needs_background": "light"
          }
        }
      ]
    },
    {
      "cell_type": "markdown",
      "source": [
        "# Seaborn"
      ],
      "metadata": {
        "id": "vjOrZ6lJ34e0"
      }
    },
    {
      "cell_type": "code",
      "source": [
        "import pandas as pd \n",
        "import numpy as np\n",
        "import matplotlib as plt \n",
        "import seaborn as sns "
      ],
      "metadata": {
        "id": "6cJFhDpR31tv"
      },
      "execution_count": 24,
      "outputs": []
    },
    {
      "cell_type": "markdown",
      "source": [
        "Numerical Plots "
      ],
      "metadata": {
        "id": "JgjQwqkY4Io3"
      }
    },
    {
      "cell_type": "code",
      "source": [
        "tips_dataset = sns.load_dataset('tips')"
      ],
      "metadata": {
        "id": "f3Lf0wlP4LQN"
      },
      "execution_count": 25,
      "outputs": []
    },
    {
      "cell_type": "code",
      "source": [
        "tips_dataset.head()"
      ],
      "metadata": {
        "colab": {
          "base_uri": "https://localhost:8080/",
          "height": 206
        },
        "id": "TVQlwndA4ZXY",
        "outputId": "ca84c863-1f79-41ee-e07f-74848f0124d8"
      },
      "execution_count": 26,
      "outputs": [
        {
          "output_type": "execute_result",
          "data": {
            "text/plain": [
              "   total_bill   tip     sex smoker  day    time  size\n",
              "0       16.99  1.01  Female     No  Sun  Dinner     2\n",
              "1       10.34  1.66    Male     No  Sun  Dinner     3\n",
              "2       21.01  3.50    Male     No  Sun  Dinner     3\n",
              "3       23.68  3.31    Male     No  Sun  Dinner     2\n",
              "4       24.59  3.61  Female     No  Sun  Dinner     4"
            ],
            "text/html": [
              "\n",
              "  <div id=\"df-37c7ae14-4d1a-4a34-a63e-819c265fe599\">\n",
              "    <div class=\"colab-df-container\">\n",
              "      <div>\n",
              "<style scoped>\n",
              "    .dataframe tbody tr th:only-of-type {\n",
              "        vertical-align: middle;\n",
              "    }\n",
              "\n",
              "    .dataframe tbody tr th {\n",
              "        vertical-align: top;\n",
              "    }\n",
              "\n",
              "    .dataframe thead th {\n",
              "        text-align: right;\n",
              "    }\n",
              "</style>\n",
              "<table border=\"1\" class=\"dataframe\">\n",
              "  <thead>\n",
              "    <tr style=\"text-align: right;\">\n",
              "      <th></th>\n",
              "      <th>total_bill</th>\n",
              "      <th>tip</th>\n",
              "      <th>sex</th>\n",
              "      <th>smoker</th>\n",
              "      <th>day</th>\n",
              "      <th>time</th>\n",
              "      <th>size</th>\n",
              "    </tr>\n",
              "  </thead>\n",
              "  <tbody>\n",
              "    <tr>\n",
              "      <th>0</th>\n",
              "      <td>16.99</td>\n",
              "      <td>1.01</td>\n",
              "      <td>Female</td>\n",
              "      <td>No</td>\n",
              "      <td>Sun</td>\n",
              "      <td>Dinner</td>\n",
              "      <td>2</td>\n",
              "    </tr>\n",
              "    <tr>\n",
              "      <th>1</th>\n",
              "      <td>10.34</td>\n",
              "      <td>1.66</td>\n",
              "      <td>Male</td>\n",
              "      <td>No</td>\n",
              "      <td>Sun</td>\n",
              "      <td>Dinner</td>\n",
              "      <td>3</td>\n",
              "    </tr>\n",
              "    <tr>\n",
              "      <th>2</th>\n",
              "      <td>21.01</td>\n",
              "      <td>3.50</td>\n",
              "      <td>Male</td>\n",
              "      <td>No</td>\n",
              "      <td>Sun</td>\n",
              "      <td>Dinner</td>\n",
              "      <td>3</td>\n",
              "    </tr>\n",
              "    <tr>\n",
              "      <th>3</th>\n",
              "      <td>23.68</td>\n",
              "      <td>3.31</td>\n",
              "      <td>Male</td>\n",
              "      <td>No</td>\n",
              "      <td>Sun</td>\n",
              "      <td>Dinner</td>\n",
              "      <td>2</td>\n",
              "    </tr>\n",
              "    <tr>\n",
              "      <th>4</th>\n",
              "      <td>24.59</td>\n",
              "      <td>3.61</td>\n",
              "      <td>Female</td>\n",
              "      <td>No</td>\n",
              "      <td>Sun</td>\n",
              "      <td>Dinner</td>\n",
              "      <td>4</td>\n",
              "    </tr>\n",
              "  </tbody>\n",
              "</table>\n",
              "</div>\n",
              "      <button class=\"colab-df-convert\" onclick=\"convertToInteractive('df-37c7ae14-4d1a-4a34-a63e-819c265fe599')\"\n",
              "              title=\"Convert this dataframe to an interactive table.\"\n",
              "              style=\"display:none;\">\n",
              "        \n",
              "  <svg xmlns=\"http://www.w3.org/2000/svg\" height=\"24px\"viewBox=\"0 0 24 24\"\n",
              "       width=\"24px\">\n",
              "    <path d=\"M0 0h24v24H0V0z\" fill=\"none\"/>\n",
              "    <path d=\"M18.56 5.44l.94 2.06.94-2.06 2.06-.94-2.06-.94-.94-2.06-.94 2.06-2.06.94zm-11 1L8.5 8.5l.94-2.06 2.06-.94-2.06-.94L8.5 2.5l-.94 2.06-2.06.94zm10 10l.94 2.06.94-2.06 2.06-.94-2.06-.94-.94-2.06-.94 2.06-2.06.94z\"/><path d=\"M17.41 7.96l-1.37-1.37c-.4-.4-.92-.59-1.43-.59-.52 0-1.04.2-1.43.59L10.3 9.45l-7.72 7.72c-.78.78-.78 2.05 0 2.83L4 21.41c.39.39.9.59 1.41.59.51 0 1.02-.2 1.41-.59l7.78-7.78 2.81-2.81c.8-.78.8-2.07 0-2.86zM5.41 20L4 18.59l7.72-7.72 1.47 1.35L5.41 20z\"/>\n",
              "  </svg>\n",
              "      </button>\n",
              "      \n",
              "  <style>\n",
              "    .colab-df-container {\n",
              "      display:flex;\n",
              "      flex-wrap:wrap;\n",
              "      gap: 12px;\n",
              "    }\n",
              "\n",
              "    .colab-df-convert {\n",
              "      background-color: #E8F0FE;\n",
              "      border: none;\n",
              "      border-radius: 50%;\n",
              "      cursor: pointer;\n",
              "      display: none;\n",
              "      fill: #1967D2;\n",
              "      height: 32px;\n",
              "      padding: 0 0 0 0;\n",
              "      width: 32px;\n",
              "    }\n",
              "\n",
              "    .colab-df-convert:hover {\n",
              "      background-color: #E2EBFA;\n",
              "      box-shadow: 0px 1px 2px rgba(60, 64, 67, 0.3), 0px 1px 3px 1px rgba(60, 64, 67, 0.15);\n",
              "      fill: #174EA6;\n",
              "    }\n",
              "\n",
              "    [theme=dark] .colab-df-convert {\n",
              "      background-color: #3B4455;\n",
              "      fill: #D2E3FC;\n",
              "    }\n",
              "\n",
              "    [theme=dark] .colab-df-convert:hover {\n",
              "      background-color: #434B5C;\n",
              "      box-shadow: 0px 1px 3px 1px rgba(0, 0, 0, 0.15);\n",
              "      filter: drop-shadow(0px 1px 2px rgba(0, 0, 0, 0.3));\n",
              "      fill: #FFFFFF;\n",
              "    }\n",
              "  </style>\n",
              "\n",
              "      <script>\n",
              "        const buttonEl =\n",
              "          document.querySelector('#df-37c7ae14-4d1a-4a34-a63e-819c265fe599 button.colab-df-convert');\n",
              "        buttonEl.style.display =\n",
              "          google.colab.kernel.accessAllowed ? 'block' : 'none';\n",
              "\n",
              "        async function convertToInteractive(key) {\n",
              "          const element = document.querySelector('#df-37c7ae14-4d1a-4a34-a63e-819c265fe599');\n",
              "          const dataTable =\n",
              "            await google.colab.kernel.invokeFunction('convertToInteractive',\n",
              "                                                     [key], {});\n",
              "          if (!dataTable) return;\n",
              "\n",
              "          const docLinkHtml = 'Like what you see? Visit the ' +\n",
              "            '<a target=\"_blank\" href=https://colab.research.google.com/notebooks/data_table.ipynb>data table notebook</a>'\n",
              "            + ' to learn more about interactive tables.';\n",
              "          element.innerHTML = '';\n",
              "          dataTable['output_type'] = 'display_data';\n",
              "          await google.colab.output.renderOutput(dataTable, element);\n",
              "          const docLink = document.createElement('div');\n",
              "          docLink.innerHTML = docLinkHtml;\n",
              "          element.appendChild(docLink);\n",
              "        }\n",
              "      </script>\n",
              "    </div>\n",
              "  </div>\n",
              "  "
            ]
          },
          "metadata": {},
          "execution_count": 26
        }
      ]
    },
    {
      "cell_type": "code",
      "source": [
        "tips_dataset.value_counts()"
      ],
      "metadata": {
        "colab": {
          "base_uri": "https://localhost:8080/"
        },
        "id": "vYEj8NUa4gmc",
        "outputId": "83fceaab-786c-4228-d3a5-87bad9466cca"
      },
      "execution_count": 27,
      "outputs": [
        {
          "output_type": "execute_result",
          "data": {
            "text/plain": [
              "total_bill  tip    sex     smoker  day   time    size\n",
              "13.00       2.00   Female  Yes     Thur  Lunch   2       2\n",
              "3.07        1.00   Female  Yes     Sat   Dinner  1       1\n",
              "22.23       5.00   Male    No      Sun   Dinner  2       1\n",
              "20.69       2.45   Female  No      Sat   Dinner  4       1\n",
              "            5.00   Male    No      Sun   Dinner  5       1\n",
              "                                                        ..\n",
              "15.53       3.00   Male    Yes     Sat   Dinner  2       1\n",
              "15.69       1.50   Male    Yes     Sun   Dinner  2       1\n",
              "            3.00   Male    Yes     Sat   Dinner  3       1\n",
              "15.77       2.23   Female  No      Sat   Dinner  2       1\n",
              "50.81       10.00  Male    Yes     Sat   Dinner  3       1\n",
              "Length: 243, dtype: int64"
            ]
          },
          "metadata": {},
          "execution_count": 27
        }
      ]
    },
    {
      "cell_type": "code",
      "source": [
        "tips_dataset.describe()"
      ],
      "metadata": {
        "colab": {
          "base_uri": "https://localhost:8080/",
          "height": 300
        },
        "id": "BShaC2Zh4oLb",
        "outputId": "aa754540-9779-44b5-b4ef-0d0ceebc96f7"
      },
      "execution_count": 28,
      "outputs": [
        {
          "output_type": "execute_result",
          "data": {
            "text/plain": [
              "       total_bill         tip        size\n",
              "count  244.000000  244.000000  244.000000\n",
              "mean    19.785943    2.998279    2.569672\n",
              "std      8.902412    1.383638    0.951100\n",
              "min      3.070000    1.000000    1.000000\n",
              "25%     13.347500    2.000000    2.000000\n",
              "50%     17.795000    2.900000    2.000000\n",
              "75%     24.127500    3.562500    3.000000\n",
              "max     50.810000   10.000000    6.000000"
            ],
            "text/html": [
              "\n",
              "  <div id=\"df-12eb7e86-984d-45d8-bb5c-87cbb8823c46\">\n",
              "    <div class=\"colab-df-container\">\n",
              "      <div>\n",
              "<style scoped>\n",
              "    .dataframe tbody tr th:only-of-type {\n",
              "        vertical-align: middle;\n",
              "    }\n",
              "\n",
              "    .dataframe tbody tr th {\n",
              "        vertical-align: top;\n",
              "    }\n",
              "\n",
              "    .dataframe thead th {\n",
              "        text-align: right;\n",
              "    }\n",
              "</style>\n",
              "<table border=\"1\" class=\"dataframe\">\n",
              "  <thead>\n",
              "    <tr style=\"text-align: right;\">\n",
              "      <th></th>\n",
              "      <th>total_bill</th>\n",
              "      <th>tip</th>\n",
              "      <th>size</th>\n",
              "    </tr>\n",
              "  </thead>\n",
              "  <tbody>\n",
              "    <tr>\n",
              "      <th>count</th>\n",
              "      <td>244.000000</td>\n",
              "      <td>244.000000</td>\n",
              "      <td>244.000000</td>\n",
              "    </tr>\n",
              "    <tr>\n",
              "      <th>mean</th>\n",
              "      <td>19.785943</td>\n",
              "      <td>2.998279</td>\n",
              "      <td>2.569672</td>\n",
              "    </tr>\n",
              "    <tr>\n",
              "      <th>std</th>\n",
              "      <td>8.902412</td>\n",
              "      <td>1.383638</td>\n",
              "      <td>0.951100</td>\n",
              "    </tr>\n",
              "    <tr>\n",
              "      <th>min</th>\n",
              "      <td>3.070000</td>\n",
              "      <td>1.000000</td>\n",
              "      <td>1.000000</td>\n",
              "    </tr>\n",
              "    <tr>\n",
              "      <th>25%</th>\n",
              "      <td>13.347500</td>\n",
              "      <td>2.000000</td>\n",
              "      <td>2.000000</td>\n",
              "    </tr>\n",
              "    <tr>\n",
              "      <th>50%</th>\n",
              "      <td>17.795000</td>\n",
              "      <td>2.900000</td>\n",
              "      <td>2.000000</td>\n",
              "    </tr>\n",
              "    <tr>\n",
              "      <th>75%</th>\n",
              "      <td>24.127500</td>\n",
              "      <td>3.562500</td>\n",
              "      <td>3.000000</td>\n",
              "    </tr>\n",
              "    <tr>\n",
              "      <th>max</th>\n",
              "      <td>50.810000</td>\n",
              "      <td>10.000000</td>\n",
              "      <td>6.000000</td>\n",
              "    </tr>\n",
              "  </tbody>\n",
              "</table>\n",
              "</div>\n",
              "      <button class=\"colab-df-convert\" onclick=\"convertToInteractive('df-12eb7e86-984d-45d8-bb5c-87cbb8823c46')\"\n",
              "              title=\"Convert this dataframe to an interactive table.\"\n",
              "              style=\"display:none;\">\n",
              "        \n",
              "  <svg xmlns=\"http://www.w3.org/2000/svg\" height=\"24px\"viewBox=\"0 0 24 24\"\n",
              "       width=\"24px\">\n",
              "    <path d=\"M0 0h24v24H0V0z\" fill=\"none\"/>\n",
              "    <path d=\"M18.56 5.44l.94 2.06.94-2.06 2.06-.94-2.06-.94-.94-2.06-.94 2.06-2.06.94zm-11 1L8.5 8.5l.94-2.06 2.06-.94-2.06-.94L8.5 2.5l-.94 2.06-2.06.94zm10 10l.94 2.06.94-2.06 2.06-.94-2.06-.94-.94-2.06-.94 2.06-2.06.94z\"/><path d=\"M17.41 7.96l-1.37-1.37c-.4-.4-.92-.59-1.43-.59-.52 0-1.04.2-1.43.59L10.3 9.45l-7.72 7.72c-.78.78-.78 2.05 0 2.83L4 21.41c.39.39.9.59 1.41.59.51 0 1.02-.2 1.41-.59l7.78-7.78 2.81-2.81c.8-.78.8-2.07 0-2.86zM5.41 20L4 18.59l7.72-7.72 1.47 1.35L5.41 20z\"/>\n",
              "  </svg>\n",
              "      </button>\n",
              "      \n",
              "  <style>\n",
              "    .colab-df-container {\n",
              "      display:flex;\n",
              "      flex-wrap:wrap;\n",
              "      gap: 12px;\n",
              "    }\n",
              "\n",
              "    .colab-df-convert {\n",
              "      background-color: #E8F0FE;\n",
              "      border: none;\n",
              "      border-radius: 50%;\n",
              "      cursor: pointer;\n",
              "      display: none;\n",
              "      fill: #1967D2;\n",
              "      height: 32px;\n",
              "      padding: 0 0 0 0;\n",
              "      width: 32px;\n",
              "    }\n",
              "\n",
              "    .colab-df-convert:hover {\n",
              "      background-color: #E2EBFA;\n",
              "      box-shadow: 0px 1px 2px rgba(60, 64, 67, 0.3), 0px 1px 3px 1px rgba(60, 64, 67, 0.15);\n",
              "      fill: #174EA6;\n",
              "    }\n",
              "\n",
              "    [theme=dark] .colab-df-convert {\n",
              "      background-color: #3B4455;\n",
              "      fill: #D2E3FC;\n",
              "    }\n",
              "\n",
              "    [theme=dark] .colab-df-convert:hover {\n",
              "      background-color: #434B5C;\n",
              "      box-shadow: 0px 1px 3px 1px rgba(0, 0, 0, 0.15);\n",
              "      filter: drop-shadow(0px 1px 2px rgba(0, 0, 0, 0.3));\n",
              "      fill: #FFFFFF;\n",
              "    }\n",
              "  </style>\n",
              "\n",
              "      <script>\n",
              "        const buttonEl =\n",
              "          document.querySelector('#df-12eb7e86-984d-45d8-bb5c-87cbb8823c46 button.colab-df-convert');\n",
              "        buttonEl.style.display =\n",
              "          google.colab.kernel.accessAllowed ? 'block' : 'none';\n",
              "\n",
              "        async function convertToInteractive(key) {\n",
              "          const element = document.querySelector('#df-12eb7e86-984d-45d8-bb5c-87cbb8823c46');\n",
              "          const dataTable =\n",
              "            await google.colab.kernel.invokeFunction('convertToInteractive',\n",
              "                                                     [key], {});\n",
              "          if (!dataTable) return;\n",
              "\n",
              "          const docLinkHtml = 'Like what you see? Visit the ' +\n",
              "            '<a target=\"_blank\" href=https://colab.research.google.com/notebooks/data_table.ipynb>data table notebook</a>'\n",
              "            + ' to learn more about interactive tables.';\n",
              "          element.innerHTML = '';\n",
              "          dataTable['output_type'] = 'display_data';\n",
              "          await google.colab.output.renderOutput(dataTable, element);\n",
              "          const docLink = document.createElement('div');\n",
              "          docLink.innerHTML = docLinkHtml;\n",
              "          element.appendChild(docLink);\n",
              "        }\n",
              "      </script>\n",
              "    </div>\n",
              "  </div>\n",
              "  "
            ]
          },
          "metadata": {},
          "execution_count": 28
        }
      ]
    },
    {
      "cell_type": "code",
      "source": [
        "sns.histplot(data = tips_dataset['total_bill'])"
      ],
      "metadata": {
        "colab": {
          "base_uri": "https://localhost:8080/",
          "height": 300
        },
        "id": "4u5RpyUL6RFX",
        "outputId": "623751e6-6697-4a91-ace1-cbc9ed1f7580"
      },
      "execution_count": 29,
      "outputs": [
        {
          "output_type": "execute_result",
          "data": {
            "text/plain": [
              "<matplotlib.axes._subplots.AxesSubplot at 0x7f0ebe1c4e90>"
            ]
          },
          "metadata": {},
          "execution_count": 29
        },
        {
          "output_type": "display_data",
          "data": {
            "text/plain": [
              "<Figure size 432x288 with 1 Axes>"
            ],
            "image/png": "[encoded data removed]"
          },
          "metadata": {
            "needs_background": "light"
          }
        }
      ]
    },
    {
      "cell_type": "code",
      "source": [
        "tips_dataset['total_bill'].value_counts().sort_values()"
      ],
      "metadata": {
        "colab": {
          "base_uri": "https://localhost:8080/"
        },
        "id": "aTGXI_pm66G8",
        "outputId": "82c93c78-4025-4931-bb33-4d01ceea1377"
      },
      "execution_count": 31,
      "outputs": [
        {
          "output_type": "execute_result",
          "data": {
            "text/plain": [
              "16.47    1\n",
              "26.41    1\n",
              "11.24    1\n",
              "15.06    1\n",
              "18.35    1\n",
              "        ..\n",
              "20.29    2\n",
              "20.69    2\n",
              "21.01    2\n",
              "15.69    2\n",
              "13.42    3\n",
              "Name: total_bill, Length: 229, dtype: int64"
            ]
          },
          "metadata": {},
          "execution_count": 31
        }
      ]
    },
    {
      "cell_type": "code",
      "source": [
        "sns.kdeplot(data= tips_dataset['total_bill'])"
      ],
      "metadata": {
        "colab": {
          "base_uri": "https://localhost:8080/",
          "height": 298
        },
        "id": "lsCmmfk07OTL",
        "outputId": "b218b9f7-de1a-4e00-a539-e2f635b0b222"
      },
      "execution_count": 32,
      "outputs": [
        {
          "output_type": "execute_result",
          "data": {
            "text/plain": [
              "<matplotlib.axes._subplots.AxesSubplot at 0x7f0ebdb0ab90>"
            ]
          },
          "metadata": {},
          "execution_count": 32
        },
        {
          "output_type": "display_data",
          "data": {
            "text/plain": [
              "<Figure size 432x288 with 1 Axes>"
            ],
            "image/png": "[encoded data removed]"
          },
          "metadata": {
            "needs_background": "light"
          }
        }
      ]
    },
    {
      "cell_type": "code",
      "source": [
        "print(sns.get_dataset_names())"
      ],
      "metadata": {
        "colab": {
          "base_uri": "https://localhost:8080/"
        },
        "id": "rjL0_XF19CcJ",
        "outputId": "b6f52d48-6bb5-47ad-b59d-7d7097865931"
      },
      "execution_count": 33,
      "outputs": [
        {
          "output_type": "stream",
          "name": "stdout",
          "text": [
            "['anagrams', 'anscombe', 'attention', 'brain_networks', 'car_crashes', 'diamonds', 'dots', 'exercise', 'flights', 'fmri', 'gammas', 'geyser', 'iris', 'mpg', 'penguins', 'planets', 'taxis', 'tips', 'titanic']\n"
          ]
        }
      ]
    },
    {
      "cell_type": "code",
      "source": [
        "sns.displot(data= tips_dataset, x= 'total_bill', col= 'time', kde = True)"
      ],
      "metadata": {
        "colab": {
          "base_uri": "https://localhost:8080/",
          "height": 386
        },
        "id": "j7x9bDba-Ah-",
        "outputId": "b9701137-1b40-4ccf-c7f7-9250b27408c8"
      },
      "execution_count": 34,
      "outputs": [
        {
          "output_type": "execute_result",
          "data": {
            "text/plain": [
              "<seaborn.axisgrid.FacetGrid at 0x7f0ebbad85d0>"
            ]
          },
          "metadata": {},
          "execution_count": 34
        },
        {
          "output_type": "display_data",
          "data": {
            "text/plain": [
              "<Figure size 720x360 with 2 Axes>"
            ],
            "image/png": "[encoded data removed]"
          },
          "metadata": {
            "needs_background": "light"
          }
        }
      ]
    },
    {
      "cell_type": "markdown",
      "source": [
        "Bar Plots"
      ],
      "metadata": {
        "id": "sINuWIjc_U8d"
      }
    },
    {
      "cell_type": "code",
      "source": [
        "tips_dataset.head()"
      ],
      "metadata": {
        "colab": {
          "base_uri": "https://localhost:8080/",
          "height": 206
        },
        "id": "9gNArxOt_aP3",
        "outputId": "8fd36534-1d5c-4151-fa36-675422d8b434"
      },
      "execution_count": 35,
      "outputs": [
        {
          "output_type": "execute_result",
          "data": {
            "text/plain": [
              "   total_bill   tip     sex smoker  day    time  size\n",
              "0       16.99  1.01  Female     No  Sun  Dinner     2\n",
              "1       10.34  1.66    Male     No  Sun  Dinner     3\n",
              "2       21.01  3.50    Male     No  Sun  Dinner     3\n",
              "3       23.68  3.31    Male     No  Sun  Dinner     2\n",
              "4       24.59  3.61  Female     No  Sun  Dinner     4"
            ],
            "text/html": [
              "\n",
              "  <div id=\"df-df1a1aae-ebbf-4b32-ae35-0a64e204fb42\">\n",
              "    <div class=\"colab-df-container\">\n",
              "      <div>\n",
              "<style scoped>\n",
              "    .dataframe tbody tr th:only-of-type {\n",
              "        vertical-align: middle;\n",
              "    }\n",
              "\n",
              "    .dataframe tbody tr th {\n",
              "        vertical-align: top;\n",
              "    }\n",
              "\n",
              "    .dataframe thead th {\n",
              "        text-align: right;\n",
              "    }\n",
              "</style>\n",
              "<table border=\"1\" class=\"dataframe\">\n",
              "  <thead>\n",
              "    <tr style=\"text-align: right;\">\n",
              "      <th></th>\n",
              "      <th>total_bill</th>\n",
              "      <th>tip</th>\n",
              "      <th>sex</th>\n",
              "      <th>smoker</th>\n",
              "      <th>day</th>\n",
              "      <th>time</th>\n",
              "      <th>size</th>\n",
              "    </tr>\n",
              "  </thead>\n",
              "  <tbody>\n",
              "    <tr>\n",
              "      <th>0</th>\n",
              "      <td>16.99</td>\n",
              "      <td>1.01</td>\n",
              "      <td>Female</td>\n",
              "      <td>No</td>\n",
              "      <td>Sun</td>\n",
              "      <td>Dinner</td>\n",
              "      <td>2</td>\n",
              "    </tr>\n",
              "    <tr>\n",
              "      <th>1</th>\n",
              "      <td>10.34</td>\n",
              "      <td>1.66</td>\n",
              "      <td>Male</td>\n",
              "      <td>No</td>\n",
              "      <td>Sun</td>\n",
              "      <td>Dinner</td>\n",
              "      <td>3</td>\n",
              "    </tr>\n",
              "    <tr>\n",
              "      <th>2</th>\n",
              "      <td>21.01</td>\n",
              "      <td>3.50</td>\n",
              "      <td>Male</td>\n",
              "      <td>No</td>\n",
              "      <td>Sun</td>\n",
              "      <td>Dinner</td>\n",
              "      <td>3</td>\n",
              "    </tr>\n",
              "    <tr>\n",
              "      <th>3</th>\n",
              "      <td>23.68</td>\n",
              "      <td>3.31</td>\n",
              "      <td>Male</td>\n",
              "      <td>No</td>\n",
              "      <td>Sun</td>\n",
              "      <td>Dinner</td>\n",
              "      <td>2</td>\n",
              "    </tr>\n",
              "    <tr>\n",
              "      <th>4</th>\n",
              "      <td>24.59</td>\n",
              "      <td>3.61</td>\n",
              "      <td>Female</td>\n",
              "      <td>No</td>\n",
              "      <td>Sun</td>\n",
              "      <td>Dinner</td>\n",
              "      <td>4</td>\n",
              "    </tr>\n",
              "  </tbody>\n",
              "</table>\n",
              "</div>\n",
              "      <button class=\"colab-df-convert\" onclick=\"convertToInteractive('df-df1a1aae-ebbf-4b32-ae35-0a64e204fb42')\"\n",
              "              title=\"Convert this dataframe to an interactive table.\"\n",
              "              style=\"display:none;\">\n",
              "        \n",
              "  <svg xmlns=\"http://www.w3.org/2000/svg\" height=\"24px\"viewBox=\"0 0 24 24\"\n",
              "       width=\"24px\">\n",
              "    <path d=\"M0 0h24v24H0V0z\" fill=\"none\"/>\n",
              "    <path d=\"M18.56 5.44l.94 2.06.94-2.06 2.06-.94-2.06-.94-.94-2.06-.94 2.06-2.06.94zm-11 1L8.5 8.5l.94-2.06 2.06-.94-2.06-.94L8.5 2.5l-.94 2.06-2.06.94zm10 10l.94 2.06.94-2.06 2.06-.94-2.06-.94-.94-2.06-.94 2.06-2.06.94z\"/><path d=\"M17.41 7.96l-1.37-1.37c-.4-.4-.92-.59-1.43-.59-.52 0-1.04.2-1.43.59L10.3 9.45l-7.72 7.72c-.78.78-.78 2.05 0 2.83L4 21.41c.39.39.9.59 1.41.59.51 0 1.02-.2 1.41-.59l7.78-7.78 2.81-2.81c.8-.78.8-2.07 0-2.86zM5.41 20L4 18.59l7.72-7.72 1.47 1.35L5.41 20z\"/>\n",
              "  </svg>\n",
              "      </button>\n",
              "      \n",
              "  <style>\n",
              "    .colab-df-container {\n",
              "      display:flex;\n",
              "      flex-wrap:wrap;\n",
              "      gap: 12px;\n",
              "    }\n",
              "\n",
              "    .colab-df-convert {\n",
              "      background-color: #E8F0FE;\n",
              "      border: none;\n",
              "      border-radius: 50%;\n",
              "      cursor: pointer;\n",
              "      display: none;\n",
              "      fill: #1967D2;\n",
              "      height: 32px;\n",
              "      padding: 0 0 0 0;\n",
              "      width: 32px;\n",
              "    }\n",
              "\n",
              "    .colab-df-convert:hover {\n",
              "      background-color: #E2EBFA;\n",
              "      box-shadow: 0px 1px 2px rgba(60, 64, 67, 0.3), 0px 1px 3px 1px rgba(60, 64, 67, 0.15);\n",
              "      fill: #174EA6;\n",
              "    }\n",
              "\n",
              "    [theme=dark] .colab-df-convert {\n",
              "      background-color: #3B4455;\n",
              "      fill: #D2E3FC;\n",
              "    }\n",
              "\n",
              "    [theme=dark] .colab-df-convert:hover {\n",
              "      background-color: #434B5C;\n",
              "      box-shadow: 0px 1px 3px 1px rgba(0, 0, 0, 0.15);\n",
              "      filter: drop-shadow(0px 1px 2px rgba(0, 0, 0, 0.3));\n",
              "      fill: #FFFFFF;\n",
              "    }\n",
              "  </style>\n",
              "\n",
              "      <script>\n",
              "        const buttonEl =\n",
              "          document.querySelector('#df-df1a1aae-ebbf-4b32-ae35-0a64e204fb42 button.colab-df-convert');\n",
              "        buttonEl.style.display =\n",
              "          google.colab.kernel.accessAllowed ? 'block' : 'none';\n",
              "\n",
              "        async function convertToInteractive(key) {\n",
              "          const element = document.querySelector('#df-df1a1aae-ebbf-4b32-ae35-0a64e204fb42');\n",
              "          const dataTable =\n",
              "            await google.colab.kernel.invokeFunction('convertToInteractive',\n",
              "                                                     [key], {});\n",
              "          if (!dataTable) return;\n",
              "\n",
              "          const docLinkHtml = 'Like what you see? Visit the ' +\n",
              "            '<a target=\"_blank\" href=https://colab.research.google.com/notebooks/data_table.ipynb>data table notebook</a>'\n",
              "            + ' to learn more about interactive tables.';\n",
              "          element.innerHTML = '';\n",
              "          dataTable['output_type'] = 'display_data';\n",
              "          await google.colab.output.renderOutput(dataTable, element);\n",
              "          const docLink = document.createElement('div');\n",
              "          docLink.innerHTML = docLinkHtml;\n",
              "          element.appendChild(docLink);\n",
              "        }\n",
              "      </script>\n",
              "    </div>\n",
              "  </div>\n",
              "  "
            ]
          },
          "metadata": {},
          "execution_count": 35
        }
      ]
    },
    {
      "cell_type": "code",
      "source": [
        "sns.barplot(data= tips_dataset, x= 'sex', y = 'tip', estimator=np.mean)"
      ],
      "metadata": {
        "colab": {
          "base_uri": "https://localhost:8080/",
          "height": 300
        },
        "id": "-_JnfMSa_4zy",
        "outputId": "16407953-4f6c-4d16-cd67-aa6dd7c6f201"
      },
      "execution_count": 36,
      "outputs": [
        {
          "output_type": "execute_result",
          "data": {
            "text/plain": [
              "<matplotlib.axes._subplots.AxesSubplot at 0x7f0ebdb32d50>"
            ]
          },
          "metadata": {},
          "execution_count": 36
        },
        {
          "output_type": "display_data",
          "data": {
            "text/plain": [
              "<Figure size 432x288 with 1 Axes>"
            ],
            "image/png": "[encoded data removed]"
          },
          "metadata": {
            "needs_background": "light"
          }
        }
      ]
    },
    {
      "cell_type": "markdown",
      "source": [
        "Count Plot"
      ],
      "metadata": {
        "id": "dbLvnzfIAXkJ"
      }
    },
    {
      "cell_type": "code",
      "source": [
        "tips_dataset['sex'].value_counts()"
      ],
      "metadata": {
        "colab": {
          "base_uri": "https://localhost:8080/"
        },
        "id": "Xs6LB1tpAXB-",
        "outputId": "fb45c773-8d6c-42e3-8e42-368b43920ad5"
      },
      "execution_count": 37,
      "outputs": [
        {
          "output_type": "execute_result",
          "data": {
            "text/plain": [
              "Male      157\n",
              "Female     87\n",
              "Name: sex, dtype: int64"
            ]
          },
          "metadata": {},
          "execution_count": 37
        }
      ]
    },
    {
      "cell_type": "code",
      "source": [
        "sns.countplot(data = tips_dataset, x= 'sex')"
      ],
      "metadata": {
        "colab": {
          "base_uri": "https://localhost:8080/",
          "height": 296
        },
        "id": "TnY3B2BEAgDd",
        "outputId": "f09ac435-1027-4105-81f1-5afa484871a0"
      },
      "execution_count": 38,
      "outputs": [
        {
          "output_type": "execute_result",
          "data": {
            "text/plain": [
              "<matplotlib.axes._subplots.AxesSubplot at 0x7f0eccb88f50>"
            ]
          },
          "metadata": {},
          "execution_count": 38
        },
        {
          "output_type": "display_data",
          "data": {
            "text/plain": [
              "<Figure size 432x288 with 1 Axes>"
            ],
            "image/png": "[encoded data removed]"
          },
          "metadata": {
            "needs_background": "light"
          }
        }
      ]
    },
    {
      "cell_type": "markdown",
      "source": [
        "Box Plot "
      ],
      "metadata": {
        "id": "N8VSF8YSAuCs"
      }
    },
    {
      "cell_type": "code",
      "source": [
        "sns.boxplot(data= tips_dataset, x='day', y = 'total_bill', hue = 'sex')"
      ],
      "metadata": {
        "colab": {
          "base_uri": "https://localhost:8080/",
          "height": 296
        },
        "id": "9pUrppyBAwm1",
        "outputId": "4e9feb0d-927d-46ed-b0aa-45ac7c5a9531"
      },
      "execution_count": 41,
      "outputs": [
        {
          "output_type": "execute_result",
          "data": {
            "text/plain": [
              "<matplotlib.axes._subplots.AxesSubplot at 0x7f0eb908f0d0>"
            ]
          },
          "metadata": {},
          "execution_count": 41
        },
        {
          "output_type": "display_data",
          "data": {
            "text/plain": [
              "<Figure size 432x288 with 1 Axes>"
            ],
            "image/png": "[encoded data removed]"
          },
          "metadata": {
            "needs_background": "light"
          }
        }
      ]
    }
  ]
}